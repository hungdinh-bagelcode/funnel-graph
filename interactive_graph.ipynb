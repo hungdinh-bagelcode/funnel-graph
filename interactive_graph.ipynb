{
 "cells": [
  {
   "cell_type": "code",
   "execution_count": 1,
   "metadata": {},
   "outputs": [],
   "source": [
    "from pyvis import network as net\n",
    "from IPython.display import display, HTML\n",
    "import random\n",
    "import pandas as pd\n",
    "import numpy as np\n",
    "import plotly\n",
    "import plotly.graph_objs as go\n",
    "import plotly.express as px"
   ]
  },
  {
   "cell_type": "markdown",
   "metadata": {},
   "source": [
    "# First play action"
   ]
  },
  {
   "cell_type": "code",
   "execution_count": 12,
   "metadata": {},
   "outputs": [
    {
     "data": {
      "text/plain": [
       "array(['client_enter_meta-equipment', 'stage_end-1-lose', 'Churn',\n",
       "       'client_tutorial-TargetEquipmentTab', 'Not churn',\n",
       "       'earn_resource-RewardStage', nan,\n",
       "       'client_tutorial-TargetMissionDescription',\n",
       "       'client_tutorial-TargetEvolveTab', 'earn_resource-ResourceShop',\n",
       "       'client_tutorial-TargetEvolveItem', 'client_tutorial-TargetPatrol',\n",
       "       'client_tutorial-TargetShopTab', 'client_tutorial-UnlockDailyShop',\n",
       "       'earn_resource-Main Quest', 'client_tutorial-UnlockRookieGift',\n",
       "       'client_enter_meta-profile', 'stage_end-1-won',\n",
       "       'earn_resource-EndlessGoodies_pack_300000404',\n",
       "       'client_tutorial-UnlockServerLaunch', 'earn_resource-Mission',\n",
       "       'client_tutorial-UnlockPatrol', 'client_tutorial-UnlockStage2',\n",
       "       'earn_resource-EndlessGoodies_pack_300000405',\n",
       "       'client_enter_meta-shop', 'client_tutorial-UnlockRateting',\n",
       "       'earn_resource-KickStart499', 'client_tutorial-UnlockGrowFund',\n",
       "       'client_tutorial-UnlockDailyRewards',\n",
       "       'earn_resource-ExChangeLiveOps', 'client_tutorial-UnlockTrials',\n",
       "       'client_tutorial-UnlockQuickEarning',\n",
       "       'client_tutorial-UnlockPiggyBank', 'earn_resource-QuickPatrol',\n",
       "       'earn_resource-MonthlyCard', 'earn_resource-ChestItem',\n",
       "       'earn_resource-MissionLiveOps', 'earn_resource-LevelDown',\n",
       "       'earn_resource-OutOfGold', 'earn_resource-RewardPatrol',\n",
       "       'earn_resource-ShopLiveOps_300000520', 'earn_resource-DailyShop',\n",
       "       'earn_resource-Lottery Liveops', 'client_enter_meta-trials',\n",
       "       'client_tutorial-UnlockDailyMissions',\n",
       "       'client_tutorial-TargetPatrolClaim', 'earn_resource-DailyReward',\n",
       "       'earn_resource-ChapterPack', 'earn_resource-FirstPurchase',\n",
       "       'client_tutorial-TargetEquipmentEquip',\n",
       "       'client_enter_meta-Lottery'], dtype=object)"
      ]
     },
     "execution_count": 12,
     "metadata": {},
     "output_type": "execute_result"
    }
   ],
   "source": [
    "df['target'].unique()"
   ]
  },
  {
   "cell_type": "code",
   "execution_count": 24,
   "metadata": {},
   "outputs": [
    {
     "data": {
      "application/vnd.plotly.v1+json": {
       "config": {
        "plotlyServerURL": "https://plot.ly"
       },
       "data": [
        {
         "link": {
          "color": [
           "#F6222E",
           "#F6222E",
           "#F6222E",
           "#F6222E",
           "#F6222E",
           "#F6222E",
           "#F6222E",
           "#F6222E",
           "#F6222E",
           "#F6222E",
           "#B00068",
           "#B00068",
           "#B00068",
           "#B00068",
           "#B00068",
           "#B00068",
           "#B00068",
           "#B00068",
           "#B00068",
           "#B00068",
           "#B00068",
           "#B00068",
           "#B00068",
           "#90AD1C",
           "#90AD1C",
           "#90AD1C",
           "#90AD1C",
           "#90AD1C",
           "#90AD1C",
           "#90AD1C",
           "#B00068",
           "#B00068",
           "#E2E2E2",
           "#E2E2E2",
           "#E2E2E2",
           "#E2E2E2",
           "#E2E2E2",
           "#E2E2E2",
           "#E2E2E2",
           "#E2E2E2",
           "#FA0087",
           "#FA0087",
           "#FA0087",
           "#FA0087",
           "#FA0087",
           "#FA0087",
           "#FA0087",
           "#FA0087",
           "#FA0087",
           "#FA0087",
           "#FA0087",
           "#FA0087",
           "#FA0087",
           "#FA0087",
           "#FA0087",
           "#FA0087",
           "#FA0087",
           "#FA0087",
           "#FA0087",
           "#AA0DFE",
           "#AA0DFE",
           "#AA0DFE",
           "#AA0DFE",
           "#AA0DFE",
           "#FBE426",
           "#FBE426",
           "#FBE426",
           "#FBE426",
           "#FBE426",
           "#FBE426",
           "#F7E1A0",
           "#F7E1A0",
           "#F7E1A0",
           "#F7E1A0",
           "#F7E1A0",
           "#F7E1A0",
           "#F7E1A0",
           "#F7E1A0",
           "#F7E1A0",
           "#F7E1A0",
           "#F7E1A0",
           "#F7E1A0",
           "#FA0087",
           "#FA0087",
           "#FA0087",
           "#FA0087",
           "#16FF32",
           "#16FF32",
           "#16FF32",
           "#16FF32",
           "#16FF32",
           "#16FF32",
           "#90AD1C",
           "#90AD1C",
           "#90AD1C",
           "#90AD1C",
           "#90AD1C",
           "#90AD1C",
           "#90AD1C",
           "#F7E1A0",
           "#C075A6",
           "#C4451C",
           "#C4451C",
           "#FC1CBF",
           "#FC1CBF",
           "#FC1CBF",
           "#FC1CBF",
           "#C075A6",
           "#C075A6",
           "#565656",
           "#565656",
           "#565656",
           "#1CBE4F",
           "#1CBE4F",
           "#1CBE4F",
           "#1CBE4F",
           "#1CBE4F",
           "#FBE426",
           "#B10DA1",
           "#B10DA1",
           "#B10DA1",
           "#F8A19F",
           "#E2E2E2",
           "#E2E2E2",
           "#565656",
           "#3283FE",
           "#3283FE",
           "#3283FE",
           "#565656",
           "#565656",
           "#565656",
           "#325A9B",
           "#85660D",
           "#85660D",
           "#85660D",
           "#85660D",
           "#85660D",
           "#85660D",
           "#85660D",
           "#85660D",
           "#C075A6",
           "#C075A6",
           "#C075A6",
           "#C075A6",
           "#C075A6",
           "#1CFFCE",
           "#1CFFCE",
           "#1CFFCE",
           "#1CFFCE",
           "#1CFFCE",
           "#1CFFCE",
           "#1CFFCE",
           "#1CFFCE",
           "#1CFFCE",
           "#1CBE4F",
           "#1CBE4F",
           "#1CBE4F",
           "#1CBE4F",
           "#1CBE4F",
           "#AA0DFE",
           "#AA0DFE",
           "#85660D",
           "#85660D",
           "#85660D",
           "#85660D",
           "#85660D",
           "#85660D",
           "#85660D",
           "#85660D",
           "#B10DA1",
           "#B10DA1",
           "#B10DA1",
           "#F7E1A0",
           "#F7E1A0",
           "#F7E1A0",
           "#F7E1A0",
           "#F7E1A0",
           "#F7E1A0",
           "#F7E1A0",
           "#AA0DFE",
           "#AA0DFE",
           "#AA0DFE",
           "#AA0DFE",
           "#AA0DFE",
           "#AA0DFE",
           "#AA0DFE",
           "#AA0DFE",
           "#AA0DFE",
           "#AA0DFE",
           "#AA0DFE",
           "#F8A19F",
           "#F8A19F",
           "#F8A19F",
           "#F8A19F",
           "#FE00FA",
           "#FE00FA",
           "#FBE426",
           "#FBE426",
           "#C075A6",
           "#C075A6",
           "#90AD1C",
           "#90AD1C",
           "#90AD1C",
           "#90AD1C",
           "#90AD1C",
           "#90AD1C",
           "#90AD1C",
           "#90AD1C",
           "#90AD1C",
           "#90AD1C",
           "#90AD1C",
           "#90AD1C",
           "#90AD1C",
           "#90AD1C",
           "#90AD1C",
           "#90AD1C",
           "#90AD1C",
           "#325A9B",
           "#325A9B",
           "#325A9B",
           "#325A9B",
           "#325A9B",
           "#325A9B",
           "#325A9B",
           "#325A9B",
           "#325A9B",
           "#325A9B",
           "#325A9B",
           "#325A9B",
           "#C4451C",
           "#C4451C",
           "#C4451C",
           "#C4451C",
           "#C4451C",
           "#C4451C",
           "#C4451C",
           "#C4451C",
           "#C4451C",
           "#C4451C",
           "#C4451C",
           "#C4451C",
           "#C4451C",
           "#C4451C",
           "#C4451C",
           "#C4451C",
           "#C4451C",
           "#C4451C",
           "#C4451C",
           "#C4451C",
           "#1C8356",
           "#1C8356",
           "#1C8356",
           "#1C8356",
           "#90AD1C",
           "#90AD1C",
           "#90AD1C",
           "#90AD1C",
           "#90AD1C",
           "#90AD1C",
           "#90AD1C",
           "#90AD1C",
           "#90AD1C",
           "#90AD1C",
           "#90AD1C",
           "#782AB6",
           "#782AB6",
           "#782AB6",
           "#782AB6",
           "#782AB6",
           "#782AB6",
           "#782AB6",
           "#782AB6",
           "#782AB6",
           "#782AB6"
          ],
          "source": [
           0,
           1,
           1,
           1,
           1,
           1,
           1,
           1,
           1,
           1,
           10,
           10,
           10,
           10,
           10,
           10,
           10,
           10,
           10,
           10,
           10,
           10,
           10,
           23,
           23,
           23,
           23,
           23,
           23,
           23,
           30,
           30,
           32,
           32,
           32,
           32,
           32,
           32,
           32,
           32,
           40,
           40,
           40,
           40,
           40,
           40,
           40,
           40,
           40,
           40,
           40,
           40,
           52,
           52,
           52,
           52,
           52,
           52,
           52,
           59,
           59,
           59,
           59,
           59,
           64,
           64,
           64,
           64,
           64,
           64,
           70,
           70,
           70,
           70,
           70,
           70,
           70,
           70,
           70,
           70,
           70,
           70,
           82,
           82,
           82,
           82,
           86,
           86,
           86,
           86,
           86,
           86,
           92,
           92,
           92,
           92,
           92,
           92,
           92,
           99,
           100,
           101,
           101,
           103,
           103,
           103,
           103,
           107,
           107,
           109,
           109,
           109,
           112,
           112,
           112,
           112,
           112,
           117,
           118,
           118,
           118,
           121,
           122,
           122,
           124,
           125,
           125,
           125,
           128,
           128,
           128,
           131,
           132,
           132,
           132,
           132,
           132,
           132,
           132,
           132,
           140,
           140,
           140,
           140,
           140,
           145,
           145,
           145,
           145,
           145,
           145,
           145,
           145,
           145,
           154,
           154,
           154,
           157,
           157,
           159,
           159,
           161,
           161,
           161,
           161,
           161,
           161,
           161,
           161,
           169,
           169,
           169,
           172,
           172,
           172,
           172,
           172,
           172,
           172,
           179,
           179,
           179,
           179,
           179,
           179,
           179,
           179,
           179,
           179,
           179,
           190,
           190,
           190,
           190,
           194,
           194,
           196,
           196,
           198,
           198,
           200,
           200,
           200,
           200,
           200,
           200,
           200,
           200,
           200,
           200,
           200,
           200,
           200,
           200,
           200,
           200,
           200,
           217,
           217,
           217,
           217,
           217,
           217,
           217,
           217,
           217,
           217,
           217,
           217,
           229,
           229,
           229,
           229,
           229,
           229,
           229,
           229,
           229,
           229,
           229,
           229,
           229,
           229,
           229,
           229,
           229,
           229,
           229,
           229,
           249,
           249,
           249,
           249,
           253,
           253,
           253,
           253,
           253,
           253,
           253,
           253,
           253,
           253,
           253,
           264,
           264,
           264,
           264,
           264,
           264,
           264,
           264,
           264,
           264
          ],
          "target": [
           190,
           275,
           276,
           40,
           132,
           161,
           172,
           200,
           217,
           229,
           275,
           276,
           23,
           52,
           59,
           64,
           92,
           122,
           161,
           172,
           179,
           200,
           229,
           275,
           276,
           10,
           161,
           179,
           200,
           229,
           275,
           1,
           275,
           276,
           10,
           64,
           70,
           172,
           253,
           264,
           275,
           276,
           10,
           23,
           122,
           125,
           159,
           161,
           172,
           200,
           229,
           264,
           275,
           276,
           1,
           10,
           40,
           200,
           229,
           275,
           276,
           10,
           52,
           92,
           275,
           276,
           10,
           59,
           92,
           229,
           275,
           276,
           1,
           10,
           23,
           59,
           64,
           92,
           172,
           200,
           229,
           253,
           275,
           276,
           86,
           229,
           10,
           23,
           140,
           179,
           217,
           229,
           275,
           276,
           1,
           10,
           52,
           200,
           229,
           124,
           131,
           0,
           117,
           276,
           99,
           132,
           229,
           275,
           82,
           103,
           132,
           169,
           30,
           140,
           179,
           229,
           249,
           109,
           276,
           107,
           179,
           118,
           276,
           121,
           112,
           159,
           200,
           229,
           30,
           169,
           217,
           229,
           275,
           276,
           1,
           161,
           172,
           179,
           200,
           249,
           276,
           10,
           23,
           145,
           179,
           275,
           276,
           1,
           10,
           23,
           179,
           200,
           217,
           229,
           23,
           200,
           249,
           275,
           161,
           275,
           229,
           275,
           276,
           23,
           122,
           157,
           172,
           200,
           229,
           103,
           154,
           249,
           275,
           276,
           1,
           10,
           64,
           200,
           229,
           275,
           276,
           1,
           10,
           107,
           128,
           140,
           145,
           198,
           200,
           229,
           117,
           169,
           229,
           249,
           157,
           229,
           275,
           125,
           179,
           217,
           275,
           276,
           1,
           10,
           23,
           40,
           52,
           122,
           125,
           132,
           159,
           161,
           172,
           194,
           196,
           229,
           264,
           275,
           276,
           1,
           10,
           23,
           101,
           140,
           172,
           179,
           198,
           200,
           229,
           275,
           276,
           1,
           10,
           23,
           52,
           59,
           64,
           86,
           92,
           128,
           132,
           140,
           157,
           161,
           172,
           196,
           200,
           217,
           264,
           276,
           117,
           179,
           229,
           275,
           276,
           1,
           10,
           64,
           70,
           92,
           100,
           101,
           172,
           229,
           275,
           276,
           0,
           64,
           70,
           101,
           121,
           122,
           172,
           229
          ],
          "value": [
           6,
           4,
           7,
           2657,
           4,
           2,
           3,
           4,
           2,
           6,
           33,
           73,
           2,
           1,
           1,
           3,
           29,
           6,
           1,
           1,
           1,
           23,
           34,
           15,
           16,
           5,
           5,
           1,
           19,
           12,
           3,
           2,
           268,
           474,
           1,
           9,
           57,
           2,
           3867,
           237,
           604,
           535,
           70,
           9,
           76,
           1,
           1,
           2,
           1,
           774,
           584,
           2,
           8,
           4,
           2651,
           1,
           1,
           5,
           2,
           15,
           33,
           29,
           2,
           2694,
           23,
           34,
           4,
           2769,
           3,
           5,
           183,
           227,
           1,
           17,
           1,
           1,
           16,
           1,
           2264,
           4,
           222,
           1,
           1,
           2,
           204,
           1,
           1,
           1,
           2,
           1,
           197,
           3,
           18,
           38,
           3,
           2,
           2655,
           6,
           9,
           7,
           1,
           4,
           8,
           1,
           7,
           1,
           2,
           1,
           208,
           10,
           1,
           1,
           2,
           1,
           2,
           1,
           1,
           12,
           1,
           47,
           162,
           210,
           2,
           208,
           7,
           1,
           1,
           2,
           3,
           2,
           1,
           1,
           1,
           1,
           2,
           1,
           1,
           1,
           1,
           1,
           2,
           1,
           1,
           84,
           1,
           7,
           12,
           2,
           5,
           5,
           6,
           5,
           1,
           42,
           1,
           1,
           1,
           2,
           1,
           1,
           2,
           9,
           6,
           1,
           4,
           1,
           1,
           1,
           3,
           1,
           3,
           1,
           13,
           18,
           4,
           4,
           2452,
           1,
           4,
           2,
           5,
           3,
           1,
           162,
           5,
           2,
           1,
           1,
           2,
           7,
           1,
           2,
           1,
           2,
           1,
           1,
           2,
           1,
           1,
           1,
           221,
           172,
           8,
           29,
           16,
           1,
           6,
           101,
           2,
           2,
           1,
           8,
           6,
           2,
           1,
           406,
           3,
           11,
           9,
           3,
           2,
           5,
           1,
           71,
           3,
           14,
           1,
           8,
           78,
           648,
           470,
           9,
           34,
           31,
           8,
           2,
           5,
           1,
           3,
           1,
           1,
           13,
           1,
           6,
           72,
           2,
           130,
           4,
           2,
           1,
           3,
           1,
           1,
           237,
           490,
           1,
           2,
           351,
           2724,
           1,
           1,
           5,
           76,
           12,
           4,
           11,
           2,
           2,
           157,
           6,
           2,
           23,
           65,
           2
          ]
         },
         "node": {
          "color": [
           "#F6222E",
           "#F6222E",
           "#F6222E",
           "#F6222E",
           "#F6222E",
           "#F6222E",
           "#F6222E",
           "#F6222E",
           "#F6222E",
           "#F6222E",
           "#B00068",
           "#B00068",
           "#B00068",
           "#B00068",
           "#B00068",
           "#B00068",
           "#B00068",
           "#B00068",
           "#B00068",
           "#B00068",
           "#B00068",
           "#B00068",
           "#B00068",
           "#90AD1C",
           "#90AD1C",
           "#90AD1C",
           "#90AD1C",
           "#90AD1C",
           "#90AD1C",
           "#90AD1C",
           "#B00068",
           "#B00068",
           "#E2E2E2",
           "#E2E2E2",
           "#E2E2E2",
           "#E2E2E2",
           "#E2E2E2",
           "#E2E2E2",
           "#E2E2E2",
           "#E2E2E2",
           "#FA0087",
           "#FA0087",
           "#FA0087",
           "#FA0087",
           "#FA0087",
           "#FA0087",
           "#FA0087",
           "#FA0087",
           "#FA0087",
           "#FA0087",
           "#FA0087",
           "#FA0087",
           "#FA0087",
           "#FA0087",
           "#FA0087",
           "#FA0087",
           "#FA0087",
           "#FA0087",
           "#FA0087",
           "#AA0DFE",
           "#AA0DFE",
           "#AA0DFE",
           "#AA0DFE",
           "#AA0DFE",
           "#FBE426",
           "#FBE426",
           "#FBE426",
           "#FBE426",
           "#FBE426",
           "#FBE426",
           "#F7E1A0",
           "#F7E1A0",
           "#F7E1A0",
           "#F7E1A0",
           "#F7E1A0",
           "#F7E1A0",
           "#F7E1A0",
           "#F7E1A0",
           "#F7E1A0",
           "#F7E1A0",
           "#F7E1A0",
           "#F7E1A0",
           "#FA0087",
           "#FA0087",
           "#FA0087",
           "#FA0087",
           "#16FF32",
           "#16FF32",
           "#16FF32",
           "#16FF32",
           "#16FF32",
           "#16FF32",
           "#90AD1C",
           "#90AD1C",
           "#90AD1C",
           "#90AD1C",
           "#90AD1C",
           "#90AD1C",
           "#90AD1C",
           "#F7E1A0",
           "#C075A6",
           "#C4451C",
           "#C4451C",
           "#FC1CBF",
           "#FC1CBF",
           "#FC1CBF",
           "#FC1CBF",
           "#C075A6",
           "#C075A6",
           "#565656",
           "#565656",
           "#565656",
           "#1CBE4F",
           "#1CBE4F",
           "#1CBE4F",
           "#1CBE4F",
           "#1CBE4F",
           "#FBE426",
           "#B10DA1",
           "#B10DA1",
           "#B10DA1",
           "#F8A19F",
           "#E2E2E2",
           "#E2E2E2",
           "#565656",
           "#3283FE",
           "#3283FE",
           "#3283FE",
           "#565656",
           "#565656",
           "#565656",
           "#325A9B",
           "#85660D",
           "#85660D",
           "#85660D",
           "#85660D",
           "#85660D",
           "#85660D",
           "#85660D",
           "#85660D",
           "#C075A6",
           "#C075A6",
           "#C075A6",
           "#C075A6",
           "#C075A6",
           "#1CFFCE",
           "#1CFFCE",
           "#1CFFCE",
           "#1CFFCE",
           "#1CFFCE",
           "#1CFFCE",
           "#1CFFCE",
           "#1CFFCE",
           "#1CFFCE",
           "#1CBE4F",
           "#1CBE4F",
           "#1CBE4F",
           "#1CBE4F",
           "#1CBE4F",
           "#AA0DFE",
           "#AA0DFE",
           "#85660D",
           "#85660D",
           "#85660D",
           "#85660D",
           "#85660D",
           "#85660D",
           "#85660D",
           "#85660D",
           "#B10DA1",
           "#B10DA1",
           "#B10DA1",
           "#F7E1A0",
           "#F7E1A0",
           "#F7E1A0",
           "#F7E1A0",
           "#F7E1A0",
           "#F7E1A0",
           "#F7E1A0",
           "#AA0DFE",
           "#AA0DFE",
           "#AA0DFE",
           "#AA0DFE",
           "#AA0DFE",
           "#AA0DFE",
           "#AA0DFE",
           "#AA0DFE",
           "#AA0DFE",
           "#AA0DFE",
           "#AA0DFE",
           "#F8A19F",
           "#F8A19F",
           "#F8A19F",
           "#F8A19F",
           "#FE00FA",
           "#FE00FA",
           "#FBE426",
           "#FBE426",
           "#C075A6",
           "#C075A6",
           "#90AD1C",
           "#90AD1C",
           "#90AD1C",
           "#90AD1C",
           "#90AD1C",
           "#90AD1C",
           "#90AD1C",
           "#90AD1C",
           "#90AD1C",
           "#90AD1C",
           "#90AD1C",
           "#90AD1C",
           "#90AD1C",
           "#90AD1C",
           "#90AD1C",
           "#90AD1C",
           "#90AD1C",
           "#325A9B",
           "#325A9B",
           "#325A9B",
           "#325A9B",
           "#325A9B",
           "#325A9B",
           "#325A9B",
           "#325A9B",
           "#325A9B",
           "#325A9B",
           "#325A9B",
           "#325A9B",
           "#C4451C",
           "#C4451C",
           "#C4451C",
           "#C4451C",
           "#C4451C",
           "#C4451C",
           "#C4451C",
           "#C4451C",
           "#C4451C",
           "#C4451C",
           "#C4451C",
           "#C4451C",
           "#C4451C",
           "#C4451C",
           "#C4451C",
           "#C4451C",
           "#C4451C",
           "#C4451C",
           "#C4451C",
           "#C4451C",
           "#1C8356",
           "#1C8356",
           "#1C8356",
           "#1C8356",
           "#90AD1C",
           "#90AD1C",
           "#90AD1C",
           "#90AD1C",
           "#90AD1C",
           "#90AD1C",
           "#90AD1C",
           "#90AD1C",
           "#90AD1C",
           "#90AD1C",
           "#90AD1C",
           "#782AB6",
           "#782AB6",
           "#782AB6",
           "#782AB6",
           "#782AB6",
           "#782AB6",
           "#782AB6",
           "#782AB6",
           "#782AB6",
           "#782AB6",
           "#F8A19F",
           "#E2E2E2",
           "#B00068",
           "#FA0087",
           "#85660D",
           "#85660D",
           "#F7E1A0",
           "#90AD1C",
           "#325A9B",
           "#C4451C",
           "#E2E2E2",
           "#B00068",
           "#90AD1C",
           "#FA0087",
           "#AA0DFE",
           "#FBE426",
           "#90AD1C",
           "#E2E2E2",
           "#85660D",
           "#F7E1A0",
           "#AA0DFE",
           "#90AD1C",
           "#C4451C",
           "#E2E2E2",
           "#B00068",
           "#B00068",
           "#85660D",
           "#AA0DFE",
           "#90AD1C",
           "#C4451C",
           "#E2E2E2",
           "#F6222E",
           "#E2E2E2",
           "#B00068",
           "#B00068",
           "#FBE426",
           "#F7E1A0",
           "#F7E1A0",
           "#90AD1C",
           "#782AB6",
           "#E2E2E2",
           "#B00068",
           "#B00068",
           "#90AD1C",
           "#E2E2E2",
           "#3283FE",
           "#AA0DFE",
           "#85660D",
           "#F7E1A0",
           "#90AD1C",
           "#C4451C",
           "#782AB6",
           "#E2E2E2",
           "#B00068",
           "#F6222E",
           "#B00068",
           "#FA0087",
           "#90AD1C",
           "#C4451C",
           "#E2E2E2",
           "#B00068",
           "#B00068",
           "#FA0087",
           "#90AD1C",
           "#E2E2E2",
           "#B00068",
           "#B00068",
           "#AA0DFE",
           "#90AD1C",
           "#C4451C",
           "#E2E2E2",
           "#B00068",
           "#F6222E",
           "#B00068",
           "#90AD1C",
           "#AA0DFE",
           "#FBE426",
           "#90AD1C",
           "#F7E1A0",
           "#90AD1C",
           "#C4451C",
           "#90AD1C",
           "#E2E2E2",
           "#B00068",
           "#16FF32",
           "#C4451C",
           "#B00068",
           "#90AD1C",
           "#C075A6",
           "#AA0DFE",
           "#325A9B",
           "#C4451C",
           "#E2E2E2",
           "#B00068",
           "#F6222E",
           "#B00068",
           "#FA0087",
           "#90AD1C",
           "#C4451C",
           "#565656",
           "#325A9B",
           "#F6222E",
           "#FBE426",
           "#B00068",
           "#F7E1A0",
           "#85660D",
           "#C4451C",
           "#E2E2E2",
           "#FA0087",
           "#FC1CBF",
           "#85660D",
           "#B10DA1",
           "#B00068",
           "#C075A6",
           "#AA0DFE",
           "#C4451C",
           "#1C8356",
           "#565656",
           "#B00068",
           "#C075A6",
           "#AA0DFE",
           "#B10DA1",
           "#B00068",
           "#F8A19F",
           "#1CBE4F",
           "#AA0DFE",
           "#90AD1C",
           "#C4451C",
           "#B00068",
           "#B10DA1",
           "#325A9B",
           "#C4451C",
           "#E2E2E2",
           "#B00068",
           "#F6222E",
           "#85660D",
           "#F7E1A0",
           "#AA0DFE",
           "#90AD1C",
           "#1C8356",
           "#B00068",
           "#B00068",
           "#90AD1C",
           "#1CFFCE",
           "#AA0DFE",
           "#E2E2E2",
           "#B00068",
           "#F6222E",
           "#B00068",
           "#90AD1C",
           "#AA0DFE",
           "#90AD1C",
           "#325A9B",
           "#C4451C",
           "#90AD1C",
           "#90AD1C",
           "#1C8356",
           "#E2E2E2",
           "#85660D",
           "#E2E2E2",
           "#C4451C",
           "#E2E2E2",
           "#B00068",
           "#90AD1C",
           "#E2E2E2",
           "#1CBE4F",
           "#F7E1A0",
           "#90AD1C",
           "#C4451C",
           "#FC1CBF",
           "#1CBE4F",
           "#1C8356",
           "#E2E2E2",
           "#B00068",
           "#F6222E",
           "#B00068",
           "#FBE426",
           "#90AD1C",
           "#C4451C",
           "#E2E2E2",
           "#B00068",
           "#F6222E",
           "#B00068",
           "#C075A6",
           "#565656",
           "#C075A6",
           "#1CFFCE",
           "#C075A6",
           "#90AD1C",
           "#C4451C",
           "#FBE426",
           "#B10DA1",
           "#C4451C",
           "#1C8356",
           "#1CBE4F",
           "#C4451C",
           "#E2E2E2",
           "#3283FE",
           "#AA0DFE",
           "#325A9B",
           "#E2E2E2",
           "#B00068",
           "#F6222E",
           "#B00068",
           "#90AD1C",
           "#FA0087",
           "#FA0087",
           "#E2E2E2",
           "#3283FE",
           "#85660D",
           "#AA0DFE",
           "#85660D",
           "#F7E1A0",
           "#FE00FA",
           "#FBE426",
           "#C4451C",
           "#782AB6",
           "#E2E2E2",
           "#B00068",
           "#F6222E",
           "#B00068",
           "#90AD1C",
           "#C4451C",
           "#C075A6",
           "#F7E1A0",
           "#AA0DFE",
           "#C075A6",
           "#90AD1C",
           "#C4451C",
           "#E2E2E2",
           "#B00068",
           "#F6222E",
           "#B00068",
           "#90AD1C",
           "#FA0087",
           "#AA0DFE",
           "#FBE426",
           "#16FF32",
           "#90AD1C",
           "#565656",
           "#85660D",
           "#C075A6",
           "#1CBE4F",
           "#85660D",
           "#F7E1A0",
           "#FBE426",
           "#90AD1C",
           "#325A9B",
           "#782AB6",
           "#B00068",
           "#FBE426",
           "#AA0DFE",
           "#C4451C",
           "#E2E2E2",
           "#B00068",
           "#F6222E",
           "#B00068",
           "#FBE426",
           "#F7E1A0",
           "#90AD1C",
           "#C075A6",
           "#C4451C",
           "#F7E1A0",
           "#C4451C",
           "#E2E2E2",
           "#B00068",
           "#F6222E",
           "#FBE426",
           "#F7E1A0",
           "#C4451C",
           "#F8A19F",
           "#E2E2E2",
           "#F7E1A0",
           "#C4451C"
          ],
          "label": [
           "client_enter_meta-Lottery",
           "client_enter_meta-equipment",
           "client_enter_meta-equipment",
           "client_enter_meta-equipment",
           "client_enter_meta-equipment",
           "client_enter_meta-equipment",
           "client_enter_meta-equipment",
           "client_enter_meta-equipment",
           "client_enter_meta-equipment",
           "client_enter_meta-equipment",
           "client_enter_meta-profile",
           "client_enter_meta-profile",
           "client_enter_meta-profile",
           "client_enter_meta-profile",
           "client_enter_meta-profile",
           "client_enter_meta-profile",
           "client_enter_meta-profile",
           "client_enter_meta-profile",
           "client_enter_meta-profile",
           "client_enter_meta-profile",
           "client_enter_meta-profile",
           "client_enter_meta-profile",
           "client_enter_meta-profile",
           "client_enter_meta-shop",
           "client_enter_meta-shop",
           "client_enter_meta-shop",
           "client_enter_meta-shop",
           "client_enter_meta-shop",
           "client_enter_meta-shop",
           "client_enter_meta-shop",
           "client_enter_meta-trials",
           "client_enter_meta-trials",
           "client_tutorial-MoveTutorial",
           "client_tutorial-MoveTutorial",
           "client_tutorial-MoveTutorial",
           "client_tutorial-MoveTutorial",
           "client_tutorial-MoveTutorial",
           "client_tutorial-MoveTutorial",
           "client_tutorial-MoveTutorial",
           "client_tutorial-MoveTutorial",
           "client_tutorial-TargetEquipmentEquip",
           "client_tutorial-TargetEquipmentEquip",
           "client_tutorial-TargetEquipmentEquip",
           "client_tutorial-TargetEquipmentEquip",
           "client_tutorial-TargetEquipmentEquip",
           "client_tutorial-TargetEquipmentEquip",
           "client_tutorial-TargetEquipmentEquip",
           "client_tutorial-TargetEquipmentEquip",
           "client_tutorial-TargetEquipmentEquip",
           "client_tutorial-TargetEquipmentEquip",
           "client_tutorial-TargetEquipmentEquip",
           "client_tutorial-TargetEquipmentEquip",
           "client_tutorial-TargetEquipmentTab",
           "client_tutorial-TargetEquipmentTab",
           "client_tutorial-TargetEquipmentTab",
           "client_tutorial-TargetEquipmentTab",
           "client_tutorial-TargetEquipmentTab",
           "client_tutorial-TargetEquipmentTab",
           "client_tutorial-TargetEquipmentTab",
           "client_tutorial-TargetEvolveItem",
           "client_tutorial-TargetEvolveItem",
           "client_tutorial-TargetEvolveItem",
           "client_tutorial-TargetEvolveItem",
           "client_tutorial-TargetEvolveItem",
           "client_tutorial-TargetEvolveTab",
           "client_tutorial-TargetEvolveTab",
           "client_tutorial-TargetEvolveTab",
           "client_tutorial-TargetEvolveTab",
           "client_tutorial-TargetEvolveTab",
           "client_tutorial-TargetEvolveTab",
           "client_tutorial-TargetMissionDescription",
           "client_tutorial-TargetMissionDescription",
           "client_tutorial-TargetMissionDescription",
           "client_tutorial-TargetMissionDescription",
           "client_tutorial-TargetMissionDescription",
           "client_tutorial-TargetMissionDescription",
           "client_tutorial-TargetMissionDescription",
           "client_tutorial-TargetMissionDescription",
           "client_tutorial-TargetMissionDescription",
           "client_tutorial-TargetMissionDescription",
           "client_tutorial-TargetMissionDescription",
           "client_tutorial-TargetMissionDescription",
           "client_tutorial-TargetPatrol",
           "client_tutorial-TargetPatrol",
           "client_tutorial-TargetPatrol",
           "client_tutorial-TargetPatrol",
           "client_tutorial-TargetPatrolClaim",
           "client_tutorial-TargetPatrolClaim",
           "client_tutorial-TargetPatrolClaim",
           "client_tutorial-TargetPatrolClaim",
           "client_tutorial-TargetPatrolClaim",
           "client_tutorial-TargetPatrolClaim",
           "client_tutorial-TargetShopTab",
           "client_tutorial-TargetShopTab",
           "client_tutorial-TargetShopTab",
           "client_tutorial-TargetShopTab",
           "client_tutorial-TargetShopTab",
           "client_tutorial-TargetShopTab",
           "client_tutorial-TargetShopTab",
           "client_tutorial-UnlockDailyMissions",
           "client_tutorial-UnlockDailyRewards",
           "client_tutorial-UnlockDailyShop",
           "client_tutorial-UnlockDailyShop",
           "client_tutorial-UnlockGrowFund",
           "client_tutorial-UnlockGrowFund",
           "client_tutorial-UnlockGrowFund",
           "client_tutorial-UnlockGrowFund",
           "client_tutorial-UnlockPatrol",
           "client_tutorial-UnlockPatrol",
           "client_tutorial-UnlockPiggyBank",
           "client_tutorial-UnlockPiggyBank",
           "client_tutorial-UnlockPiggyBank",
           "client_tutorial-UnlockQuickEarning",
           "client_tutorial-UnlockQuickEarning",
           "client_tutorial-UnlockQuickEarning",
           "client_tutorial-UnlockQuickEarning",
           "client_tutorial-UnlockQuickEarning",
           "client_tutorial-UnlockRateting",
           "client_tutorial-UnlockRookieGift",
           "client_tutorial-UnlockRookieGift",
           "client_tutorial-UnlockRookieGift",
           "client_tutorial-UnlockServerLaunch",
           "client_tutorial-UnlockStage2",
           "client_tutorial-UnlockStage2",
           "client_tutorial-UnlockTrials",
           "earn_resource-ChapterPack",
           "earn_resource-ChapterPack",
           "earn_resource-ChapterPack",
           "earn_resource-ChestItem",
           "earn_resource-ChestItem",
           "earn_resource-ChestItem",
           "earn_resource-DailyReward",
           "earn_resource-DailyShop",
           "earn_resource-DailyShop",
           "earn_resource-DailyShop",
           "earn_resource-DailyShop",
           "earn_resource-DailyShop",
           "earn_resource-DailyShop",
           "earn_resource-DailyShop",
           "earn_resource-DailyShop",
           "earn_resource-EndlessGoodies_pack_300000404",
           "earn_resource-EndlessGoodies_pack_300000404",
           "earn_resource-EndlessGoodies_pack_300000404",
           "earn_resource-EndlessGoodies_pack_300000404",
           "earn_resource-EndlessGoodies_pack_300000404",
           "earn_resource-EndlessGoodies_pack_300000405",
           "earn_resource-EndlessGoodies_pack_300000405",
           "earn_resource-EndlessGoodies_pack_300000405",
           "earn_resource-EndlessGoodies_pack_300000405",
           "earn_resource-EndlessGoodies_pack_300000405",
           "earn_resource-EndlessGoodies_pack_300000405",
           "earn_resource-EndlessGoodies_pack_300000405",
           "earn_resource-EndlessGoodies_pack_300000405",
           "earn_resource-EndlessGoodies_pack_300000405",
           "earn_resource-ExChangeLiveOps",
           "earn_resource-ExChangeLiveOps",
           "earn_resource-ExChangeLiveOps",
           "earn_resource-FirstPurchase",
           "earn_resource-FirstPurchase",
           "earn_resource-KickStart499",
           "earn_resource-KickStart499",
           "earn_resource-LevelDown",
           "earn_resource-LevelDown",
           "earn_resource-LevelDown",
           "earn_resource-LevelDown",
           "earn_resource-LevelDown",
           "earn_resource-LevelDown",
           "earn_resource-LevelDown",
           "earn_resource-LevelDown",
           "earn_resource-Lottery Liveops",
           "earn_resource-Lottery Liveops",
           "earn_resource-Lottery Liveops",
           "earn_resource-Main Quest",
           "earn_resource-Main Quest",
           "earn_resource-Main Quest",
           "earn_resource-Main Quest",
           "earn_resource-Main Quest",
           "earn_resource-Main Quest",
           "earn_resource-Main Quest",
           "earn_resource-Mission",
           "earn_resource-Mission",
           "earn_resource-Mission",
           "earn_resource-Mission",
           "earn_resource-Mission",
           "earn_resource-Mission",
           "earn_resource-Mission",
           "earn_resource-Mission",
           "earn_resource-Mission",
           "earn_resource-Mission",
           "earn_resource-Mission",
           "earn_resource-MissionLiveOps",
           "earn_resource-MissionLiveOps",
           "earn_resource-MissionLiveOps",
           "earn_resource-MissionLiveOps",
           "earn_resource-MonthlyCard",
           "earn_resource-MonthlyCard",
           "earn_resource-OutOfGold",
           "earn_resource-OutOfGold",
           "earn_resource-QuickPatrol",
           "earn_resource-QuickPatrol",
           "earn_resource-ResourceShop",
           "earn_resource-ResourceShop",
           "earn_resource-ResourceShop",
           "earn_resource-ResourceShop",
           "earn_resource-ResourceShop",
           "earn_resource-ResourceShop",
           "earn_resource-ResourceShop",
           "earn_resource-ResourceShop",
           "earn_resource-ResourceShop",
           "earn_resource-ResourceShop",
           "earn_resource-ResourceShop",
           "earn_resource-ResourceShop",
           "earn_resource-ResourceShop",
           "earn_resource-ResourceShop",
           "earn_resource-ResourceShop",
           "earn_resource-ResourceShop",
           "earn_resource-ResourceShop",
           "earn_resource-RewardPatrol",
           "earn_resource-RewardPatrol",
           "earn_resource-RewardPatrol",
           "earn_resource-RewardPatrol",
           "earn_resource-RewardPatrol",
           "earn_resource-RewardPatrol",
           "earn_resource-RewardPatrol",
           "earn_resource-RewardPatrol",
           "earn_resource-RewardPatrol",
           "earn_resource-RewardPatrol",
           "earn_resource-RewardPatrol",
           "earn_resource-RewardPatrol",
           "earn_resource-RewardStage",
           "earn_resource-RewardStage",
           "earn_resource-RewardStage",
           "earn_resource-RewardStage",
           "earn_resource-RewardStage",
           "earn_resource-RewardStage",
           "earn_resource-RewardStage",
           "earn_resource-RewardStage",
           "earn_resource-RewardStage",
           "earn_resource-RewardStage",
           "earn_resource-RewardStage",
           "earn_resource-RewardStage",
           "earn_resource-RewardStage",
           "earn_resource-RewardStage",
           "earn_resource-RewardStage",
           "earn_resource-RewardStage",
           "earn_resource-RewardStage",
           "earn_resource-RewardStage",
           "earn_resource-RewardStage",
           "earn_resource-RewardStage",
           "earn_resource-ShopLiveOps_300000520",
           "earn_resource-ShopLiveOps_300000520",
           "earn_resource-ShopLiveOps_300000520",
           "earn_resource-ShopLiveOps_300000520",
           "stage_end-1-lose",
           "stage_end-1-lose",
           "stage_end-1-lose",
           "stage_end-1-lose",
           "stage_end-1-lose",
           "stage_end-1-lose",
           "stage_end-1-lose",
           "stage_end-1-lose",
           "stage_end-1-lose",
           "stage_end-1-lose",
           "stage_end-1-lose",
           "stage_end-1-won",
           "stage_end-1-won",
           "stage_end-1-won",
           "stage_end-1-won",
           "stage_end-1-won",
           "stage_end-1-won",
           "stage_end-1-won",
           "stage_end-1-won",
           "stage_end-1-won",
           "stage_end-1-won",
           "earn_resource-MissionLiveOps",
           "Churn",
           "Not churn",
           "client_tutorial-TargetEquipmentEquip",
           "earn_resource-DailyShop",
           "earn_resource-LevelDown",
           "earn_resource-Main Quest",
           "earn_resource-ResourceShop",
           "earn_resource-RewardPatrol",
           "earn_resource-RewardStage",
           "Churn",
           "Not churn",
           "client_enter_meta-shop",
           "client_tutorial-TargetEquipmentTab",
           "client_tutorial-TargetEvolveItem",
           "client_tutorial-TargetEvolveTab",
           "client_tutorial-TargetShopTab",
           "client_tutorial-UnlockStage2",
           "earn_resource-LevelDown",
           "earn_resource-Main Quest",
           "earn_resource-Mission",
           "earn_resource-ResourceShop",
           "earn_resource-RewardStage",
           "Churn",
           "Not churn",
           "client_enter_meta-profile",
           "earn_resource-LevelDown",
           "earn_resource-Mission",
           "earn_resource-ResourceShop",
           "earn_resource-RewardStage",
           "Churn",
           "client_enter_meta-equipment",
           "Churn",
           "Not churn",
           "client_enter_meta-profile",
           "client_tutorial-TargetEvolveTab",
           "client_tutorial-TargetMissionDescription",
           "earn_resource-Main Quest",
           "stage_end-1-lose",
           "stage_end-1-won",
           "Churn",
           "Not churn",
           "client_enter_meta-profile",
           "client_enter_meta-shop",
           "client_tutorial-UnlockStage2",
           "earn_resource-ChapterPack",
           "earn_resource-KickStart499",
           "earn_resource-LevelDown",
           "earn_resource-Main Quest",
           "earn_resource-ResourceShop",
           "earn_resource-RewardStage",
           "stage_end-1-won",
           "Churn",
           "Not churn",
           "client_enter_meta-equipment",
           "client_enter_meta-profile",
           "client_tutorial-TargetEquipmentEquip",
           "earn_resource-ResourceShop",
           "earn_resource-RewardStage",
           "Churn",
           "Not churn",
           "client_enter_meta-profile",
           "client_tutorial-TargetEquipmentTab",
           "client_tutorial-TargetShopTab",
           "Churn",
           "Not churn",
           "client_enter_meta-profile",
           "client_tutorial-TargetEvolveItem",
           "client_tutorial-TargetShopTab",
           "earn_resource-RewardStage",
           "Churn",
           "Not churn",
           "client_enter_meta-equipment",
           "client_enter_meta-profile",
           "client_enter_meta-shop",
           "client_tutorial-TargetEvolveItem",
           "client_tutorial-TargetEvolveTab",
           "client_tutorial-TargetShopTab",
           "earn_resource-Main Quest",
           "earn_resource-ResourceShop",
           "earn_resource-RewardStage",
           "stage_end-1-lose",
           "Churn",
           "Not churn",
           "client_tutorial-TargetPatrolClaim",
           "earn_resource-RewardStage",
           "client_enter_meta-profile",
           "client_enter_meta-shop",
           "earn_resource-EndlessGoodies_pack_300000404",
           "earn_resource-Mission",
           "earn_resource-RewardPatrol",
           "earn_resource-RewardStage",
           "Churn",
           "Not churn",
           "client_enter_meta-equipment",
           "client_enter_meta-profile",
           "client_tutorial-TargetEquipmentTab",
           "earn_resource-ResourceShop",
           "earn_resource-RewardStage",
           "client_tutorial-UnlockTrials",
           "earn_resource-DailyReward",
           "client_enter_meta-Lottery",
           "client_tutorial-UnlockRateting",
           "Not churn",
           "client_tutorial-UnlockDailyMissions",
           "earn_resource-DailyShop",
           "earn_resource-RewardStage",
           "Churn",
           "client_tutorial-TargetPatrol",
           "client_tutorial-UnlockGrowFund",
           "earn_resource-DailyShop",
           "earn_resource-Lottery Liveops",
           "client_enter_meta-trials",
           "earn_resource-EndlessGoodies_pack_300000404",
           "earn_resource-Mission",
           "earn_resource-RewardStage",
           "earn_resource-ShopLiveOps_300000520",
           "client_tutorial-UnlockPiggyBank",
           "Not churn",
           "client_tutorial-UnlockPatrol",
           "earn_resource-Mission",
           "client_tutorial-UnlockRookieGift",
           "Not churn",
           "client_tutorial-UnlockServerLaunch",
           "client_tutorial-UnlockQuickEarning",
           "earn_resource-KickStart499",
           "earn_resource-ResourceShop",
           "earn_resource-RewardStage",
           "client_enter_meta-trials",
           "earn_resource-Lottery Liveops",
           "earn_resource-RewardPatrol",
           "earn_resource-RewardStage",
           "Churn",
           "Not churn",
           "client_enter_meta-equipment",
           "earn_resource-LevelDown",
           "earn_resource-Main Quest",
           "earn_resource-Mission",
           "earn_resource-ResourceShop",
           "earn_resource-ShopLiveOps_300000520",
           "Not churn",
           "client_enter_meta-profile",
           "client_enter_meta-shop",
           "earn_resource-EndlessGoodies_pack_300000405",
           "earn_resource-Mission",
           "Churn",
           "Not churn",
           "client_enter_meta-equipment",
           "client_enter_meta-profile",
           "client_enter_meta-shop",
           "earn_resource-Mission",
           "earn_resource-ResourceShop",
           "earn_resource-RewardPatrol",
           "earn_resource-RewardStage",
           "client_enter_meta-shop",
           "earn_resource-ResourceShop",
           "earn_resource-ShopLiveOps_300000520",
           "Churn",
           "earn_resource-LevelDown",
           "Churn",
           "earn_resource-RewardStage",
           "Churn",
           "Not churn",
           "client_enter_meta-shop",
           "client_tutorial-UnlockStage2",
           "earn_resource-FirstPurchase",
           "earn_resource-Main Quest",
           "earn_resource-ResourceShop",
           "earn_resource-RewardStage",
           "client_tutorial-UnlockGrowFund",
           "earn_resource-ExChangeLiveOps",
           "earn_resource-ShopLiveOps_300000520",
           "Churn",
           "Not churn",
           "client_enter_meta-equipment",
           "client_enter_meta-profile",
           "client_tutorial-TargetEvolveTab",
           "earn_resource-ResourceShop",
           "earn_resource-RewardStage",
           "Churn",
           "Not churn",
           "client_enter_meta-equipment",
           "client_enter_meta-profile",
           "client_tutorial-UnlockPatrol",
           "earn_resource-ChestItem",
           "earn_resource-EndlessGoodies_pack_300000404",
           "earn_resource-EndlessGoodies_pack_300000405",
           "earn_resource-QuickPatrol",
           "earn_resource-ResourceShop",
           "earn_resource-RewardStage",
           "client_tutorial-UnlockRateting",
           "earn_resource-Lottery Liveops",
           "earn_resource-RewardStage",
           "earn_resource-ShopLiveOps_300000520",
           "earn_resource-FirstPurchase",
           "earn_resource-RewardStage",
           "Churn",
           "earn_resource-ChapterPack",
           "earn_resource-Mission",
           "earn_resource-RewardPatrol",
           "Churn",
           "Not churn",
           "client_enter_meta-equipment",
           "client_enter_meta-profile",
           "client_enter_meta-shop",
           "client_tutorial-TargetEquipmentEquip",
           "client_tutorial-TargetEquipmentTab",
           "client_tutorial-UnlockStage2",
           "earn_resource-ChapterPack",
           "earn_resource-DailyShop",
           "earn_resource-KickStart499",
           "earn_resource-LevelDown",
           "earn_resource-Main Quest",
           "earn_resource-MonthlyCard",
           "earn_resource-OutOfGold",
           "earn_resource-RewardStage",
           "stage_end-1-won",
           "Churn",
           "Not churn",
           "client_enter_meta-equipment",
           "client_enter_meta-profile",
           "client_enter_meta-shop",
           "client_tutorial-UnlockDailyShop",
           "earn_resource-EndlessGoodies_pack_300000404",
           "earn_resource-Main Quest",
           "earn_resource-Mission",
           "earn_resource-QuickPatrol",
           "earn_resource-ResourceShop",
           "earn_resource-RewardStage",
           "Churn",
           "Not churn",
           "client_enter_meta-equipment",
           "client_enter_meta-profile",
           "client_enter_meta-shop",
           "client_tutorial-TargetEquipmentTab",
           "client_tutorial-TargetEvolveItem",
           "client_tutorial-TargetEvolveTab",
           "client_tutorial-TargetPatrolClaim",
           "client_tutorial-TargetShopTab",
           "earn_resource-ChestItem",
           "earn_resource-DailyShop",
           "earn_resource-EndlessGoodies_pack_300000404",
           "earn_resource-FirstPurchase",
           "earn_resource-LevelDown",
           "earn_resource-Main Quest",
           "earn_resource-OutOfGold",
           "earn_resource-ResourceShop",
           "earn_resource-RewardPatrol",
           "stage_end-1-won",
           "Not churn",
           "client_tutorial-UnlockRateting",
           "earn_resource-Mission",
           "earn_resource-RewardStage",
           "Churn",
           "Not churn",
           "client_enter_meta-equipment",
           "client_enter_meta-profile",
           "client_tutorial-TargetEvolveTab",
           "client_tutorial-TargetMissionDescription",
           "client_tutorial-TargetShopTab",
           "client_tutorial-UnlockDailyRewards",
           "client_tutorial-UnlockDailyShop",
           "earn_resource-Main Quest",
           "earn_resource-RewardStage",
           "Churn",
           "Not churn",
           "client_enter_meta-Lottery",
           "client_tutorial-TargetEvolveTab",
           "client_tutorial-TargetMissionDescription",
           "client_tutorial-UnlockDailyShop",
           "client_tutorial-UnlockServerLaunch",
           "client_tutorial-UnlockStage2",
           "earn_resource-Main Quest",
           "earn_resource-RewardStage"
          ],
          "line": {
           "color": "black",
           "width": 1
          },
          "pad": 20,
          "thickness": 20
         },
         "type": "sankey"
        }
       ],
       "layout": {
        "font": {
         "color": "white",
         "size": 10
        },
        "height": 1000,
        "paper_bgcolor": "grey",
        "plot_bgcolor": "rgba(0,0,0,0)",
        "template": {
         "data": {
          "bar": [
           {
            "error_x": {
             "color": "#2a3f5f"
            },
            "error_y": {
             "color": "#2a3f5f"
            },
            "marker": {
             "line": {
              "color": "#E5ECF6",
              "width": 0.5
             },
             "pattern": {
              "fillmode": "overlay",
              "size": 10,
              "solidity": 0.2
             }
            },
            "type": "bar"
           }
          ],
          "barpolar": [
           {
            "marker": {
             "line": {
              "color": "#E5ECF6",
              "width": 0.5
             },
             "pattern": {
              "fillmode": "overlay",
              "size": 10,
              "solidity": 0.2
             }
            },
            "type": "barpolar"
           }
          ],
          "carpet": [
           {
            "aaxis": {
             "endlinecolor": "#2a3f5f",
             "gridcolor": "white",
             "linecolor": "white",
             "minorgridcolor": "white",
             "startlinecolor": "#2a3f5f"
            },
            "baxis": {
             "endlinecolor": "#2a3f5f",
             "gridcolor": "white",
             "linecolor": "white",
             "minorgridcolor": "white",
             "startlinecolor": "#2a3f5f"
            },
            "type": "carpet"
           }
          ],
          "choropleth": [
           {
            "colorbar": {
             "outlinewidth": 0,
             "ticks": ""
            },
            "type": "choropleth"
           }
          ],
          "contour": [
           {
            "colorbar": {
             "outlinewidth": 0,
             "ticks": ""
            },
            "colorscale": [
             [
              0,
              "#0d0887"
             ],
             [
              0.1111111111111111,
              "#46039f"
             ],
             [
              0.2222222222222222,
              "#7201a8"
             ],
             [
              0.3333333333333333,
              "#9c179e"
             ],
             [
              0.4444444444444444,
              "#bd3786"
             ],
             [
              0.5555555555555556,
              "#d8576b"
             ],
             [
              0.6666666666666666,
              "#ed7953"
             ],
             [
              0.7777777777777778,
              "#fb9f3a"
             ],
             [
              0.8888888888888888,
              "#fdca26"
             ],
             [
              1,
              "#f0f921"
             ]
            ],
            "type": "contour"
           }
          ],
          "contourcarpet": [
           {
            "colorbar": {
             "outlinewidth": 0,
             "ticks": ""
            },
            "type": "contourcarpet"
           }
          ],
          "heatmap": [
           {
            "colorbar": {
             "outlinewidth": 0,
             "ticks": ""
            },
            "colorscale": [
             [
              0,
              "#0d0887"
             ],
             [
              0.1111111111111111,
              "#46039f"
             ],
             [
              0.2222222222222222,
              "#7201a8"
             ],
             [
              0.3333333333333333,
              "#9c179e"
             ],
             [
              0.4444444444444444,
              "#bd3786"
             ],
             [
              0.5555555555555556,
              "#d8576b"
             ],
             [
              0.6666666666666666,
              "#ed7953"
             ],
             [
              0.7777777777777778,
              "#fb9f3a"
             ],
             [
              0.8888888888888888,
              "#fdca26"
             ],
             [
              1,
              "#f0f921"
             ]
            ],
            "type": "heatmap"
           }
          ],
          "heatmapgl": [
           {
            "colorbar": {
             "outlinewidth": 0,
             "ticks": ""
            },
            "colorscale": [
             [
              0,
              "#0d0887"
             ],
             [
              0.1111111111111111,
              "#46039f"
             ],
             [
              0.2222222222222222,
              "#7201a8"
             ],
             [
              0.3333333333333333,
              "#9c179e"
             ],
             [
              0.4444444444444444,
              "#bd3786"
             ],
             [
              0.5555555555555556,
              "#d8576b"
             ],
             [
              0.6666666666666666,
              "#ed7953"
             ],
             [
              0.7777777777777778,
              "#fb9f3a"
             ],
             [
              0.8888888888888888,
              "#fdca26"
             ],
             [
              1,
              "#f0f921"
             ]
            ],
            "type": "heatmapgl"
           }
          ],
          "histogram": [
           {
            "marker": {
             "pattern": {
              "fillmode": "overlay",
              "size": 10,
              "solidity": 0.2
             }
            },
            "type": "histogram"
           }
          ],
          "histogram2d": [
           {
            "colorbar": {
             "outlinewidth": 0,
             "ticks": ""
            },
            "colorscale": [
             [
              0,
              "#0d0887"
             ],
             [
              0.1111111111111111,
              "#46039f"
             ],
             [
              0.2222222222222222,
              "#7201a8"
             ],
             [
              0.3333333333333333,
              "#9c179e"
             ],
             [
              0.4444444444444444,
              "#bd3786"
             ],
             [
              0.5555555555555556,
              "#d8576b"
             ],
             [
              0.6666666666666666,
              "#ed7953"
             ],
             [
              0.7777777777777778,
              "#fb9f3a"
             ],
             [
              0.8888888888888888,
              "#fdca26"
             ],
             [
              1,
              "#f0f921"
             ]
            ],
            "type": "histogram2d"
           }
          ],
          "histogram2dcontour": [
           {
            "colorbar": {
             "outlinewidth": 0,
             "ticks": ""
            },
            "colorscale": [
             [
              0,
              "#0d0887"
             ],
             [
              0.1111111111111111,
              "#46039f"
             ],
             [
              0.2222222222222222,
              "#7201a8"
             ],
             [
              0.3333333333333333,
              "#9c179e"
             ],
             [
              0.4444444444444444,
              "#bd3786"
             ],
             [
              0.5555555555555556,
              "#d8576b"
             ],
             [
              0.6666666666666666,
              "#ed7953"
             ],
             [
              0.7777777777777778,
              "#fb9f3a"
             ],
             [
              0.8888888888888888,
              "#fdca26"
             ],
             [
              1,
              "#f0f921"
             ]
            ],
            "type": "histogram2dcontour"
           }
          ],
          "mesh3d": [
           {
            "colorbar": {
             "outlinewidth": 0,
             "ticks": ""
            },
            "type": "mesh3d"
           }
          ],
          "parcoords": [
           {
            "line": {
             "colorbar": {
              "outlinewidth": 0,
              "ticks": ""
             }
            },
            "type": "parcoords"
           }
          ],
          "pie": [
           {
            "automargin": true,
            "type": "pie"
           }
          ],
          "scatter": [
           {
            "fillpattern": {
             "fillmode": "overlay",
             "size": 10,
             "solidity": 0.2
            },
            "type": "scatter"
           }
          ],
          "scatter3d": [
           {
            "line": {
             "colorbar": {
              "outlinewidth": 0,
              "ticks": ""
             }
            },
            "marker": {
             "colorbar": {
              "outlinewidth": 0,
              "ticks": ""
             }
            },
            "type": "scatter3d"
           }
          ],
          "scattercarpet": [
           {
            "marker": {
             "colorbar": {
              "outlinewidth": 0,
              "ticks": ""
             }
            },
            "type": "scattercarpet"
           }
          ],
          "scattergeo": [
           {
            "marker": {
             "colorbar": {
              "outlinewidth": 0,
              "ticks": ""
             }
            },
            "type": "scattergeo"
           }
          ],
          "scattergl": [
           {
            "marker": {
             "colorbar": {
              "outlinewidth": 0,
              "ticks": ""
             }
            },
            "type": "scattergl"
           }
          ],
          "scattermapbox": [
           {
            "marker": {
             "colorbar": {
              "outlinewidth": 0,
              "ticks": ""
             }
            },
            "type": "scattermapbox"
           }
          ],
          "scatterpolar": [
           {
            "marker": {
             "colorbar": {
              "outlinewidth": 0,
              "ticks": ""
             }
            },
            "type": "scatterpolar"
           }
          ],
          "scatterpolargl": [
           {
            "marker": {
             "colorbar": {
              "outlinewidth": 0,
              "ticks": ""
             }
            },
            "type": "scatterpolargl"
           }
          ],
          "scatterternary": [
           {
            "marker": {
             "colorbar": {
              "outlinewidth": 0,
              "ticks": ""
             }
            },
            "type": "scatterternary"
           }
          ],
          "surface": [
           {
            "colorbar": {
             "outlinewidth": 0,
             "ticks": ""
            },
            "colorscale": [
             [
              0,
              "#0d0887"
             ],
             [
              0.1111111111111111,
              "#46039f"
             ],
             [
              0.2222222222222222,
              "#7201a8"
             ],
             [
              0.3333333333333333,
              "#9c179e"
             ],
             [
              0.4444444444444444,
              "#bd3786"
             ],
             [
              0.5555555555555556,
              "#d8576b"
             ],
             [
              0.6666666666666666,
              "#ed7953"
             ],
             [
              0.7777777777777778,
              "#fb9f3a"
             ],
             [
              0.8888888888888888,
              "#fdca26"
             ],
             [
              1,
              "#f0f921"
             ]
            ],
            "type": "surface"
           }
          ],
          "table": [
           {
            "cells": {
             "fill": {
              "color": "#EBF0F8"
             },
             "line": {
              "color": "white"
             }
            },
            "header": {
             "fill": {
              "color": "#C8D4E3"
             },
             "line": {
              "color": "white"
             }
            },
            "type": "table"
           }
          ]
         },
         "layout": {
          "annotationdefaults": {
           "arrowcolor": "#2a3f5f",
           "arrowhead": 0,
           "arrowwidth": 1
          },
          "autotypenumbers": "strict",
          "coloraxis": {
           "colorbar": {
            "outlinewidth": 0,
            "ticks": ""
           }
          },
          "colorscale": {
           "diverging": [
            [
             0,
             "#8e0152"
            ],
            [
             0.1,
             "#c51b7d"
            ],
            [
             0.2,
             "#de77ae"
            ],
            [
             0.3,
             "#f1b6da"
            ],
            [
             0.4,
             "#fde0ef"
            ],
            [
             0.5,
             "#f7f7f7"
            ],
            [
             0.6,
             "#e6f5d0"
            ],
            [
             0.7,
             "#b8e186"
            ],
            [
             0.8,
             "#7fbc41"
            ],
            [
             0.9,
             "#4d9221"
            ],
            [
             1,
             "#276419"
            ]
           ],
           "sequential": [
            [
             0,
             "#0d0887"
            ],
            [
             0.1111111111111111,
             "#46039f"
            ],
            [
             0.2222222222222222,
             "#7201a8"
            ],
            [
             0.3333333333333333,
             "#9c179e"
            ],
            [
             0.4444444444444444,
             "#bd3786"
            ],
            [
             0.5555555555555556,
             "#d8576b"
            ],
            [
             0.6666666666666666,
             "#ed7953"
            ],
            [
             0.7777777777777778,
             "#fb9f3a"
            ],
            [
             0.8888888888888888,
             "#fdca26"
            ],
            [
             1,
             "#f0f921"
            ]
           ],
           "sequentialminus": [
            [
             0,
             "#0d0887"
            ],
            [
             0.1111111111111111,
             "#46039f"
            ],
            [
             0.2222222222222222,
             "#7201a8"
            ],
            [
             0.3333333333333333,
             "#9c179e"
            ],
            [
             0.4444444444444444,
             "#bd3786"
            ],
            [
             0.5555555555555556,
             "#d8576b"
            ],
            [
             0.6666666666666666,
             "#ed7953"
            ],
            [
             0.7777777777777778,
             "#fb9f3a"
            ],
            [
             0.8888888888888888,
             "#fdca26"
            ],
            [
             1,
             "#f0f921"
            ]
           ]
          },
          "colorway": [
           "#636efa",
           "#EF553B",
           "#00cc96",
           "#ab63fa",
           "#FFA15A",
           "#19d3f3",
           "#FF6692",
           "#B6E880",
           "#FF97FF",
           "#FECB52"
          ],
          "font": {
           "color": "#2a3f5f"
          },
          "geo": {
           "bgcolor": "white",
           "lakecolor": "white",
           "landcolor": "#E5ECF6",
           "showlakes": true,
           "showland": true,
           "subunitcolor": "white"
          },
          "hoverlabel": {
           "align": "left"
          },
          "hovermode": "closest",
          "mapbox": {
           "style": "light"
          },
          "paper_bgcolor": "white",
          "plot_bgcolor": "#E5ECF6",
          "polar": {
           "angularaxis": {
            "gridcolor": "white",
            "linecolor": "white",
            "ticks": ""
           },
           "bgcolor": "#E5ECF6",
           "radialaxis": {
            "gridcolor": "white",
            "linecolor": "white",
            "ticks": ""
           }
          },
          "scene": {
           "xaxis": {
            "backgroundcolor": "#E5ECF6",
            "gridcolor": "white",
            "gridwidth": 2,
            "linecolor": "white",
            "showbackground": true,
            "ticks": "",
            "zerolinecolor": "white"
           },
           "yaxis": {
            "backgroundcolor": "#E5ECF6",
            "gridcolor": "white",
            "gridwidth": 2,
            "linecolor": "white",
            "showbackground": true,
            "ticks": "",
            "zerolinecolor": "white"
           },
           "zaxis": {
            "backgroundcolor": "#E5ECF6",
            "gridcolor": "white",
            "gridwidth": 2,
            "linecolor": "white",
            "showbackground": true,
            "ticks": "",
            "zerolinecolor": "white"
           }
          },
          "shapedefaults": {
           "line": {
            "color": "#2a3f5f"
           }
          },
          "ternary": {
           "aaxis": {
            "gridcolor": "white",
            "linecolor": "white",
            "ticks": ""
           },
           "baxis": {
            "gridcolor": "white",
            "linecolor": "white",
            "ticks": ""
           },
           "bgcolor": "#E5ECF6",
           "caxis": {
            "gridcolor": "white",
            "linecolor": "white",
            "ticks": ""
           }
          },
          "title": {
           "x": 0.05
          },
          "xaxis": {
           "automargin": true,
           "gridcolor": "white",
           "linecolor": "white",
           "ticks": "",
           "title": {
            "standoff": 15
           },
           "zerolinecolor": "white",
           "zerolinewidth": 2
          },
          "yaxis": {
           "automargin": true,
           "gridcolor": "white",
           "linecolor": "white",
           "ticks": "",
           "title": {
            "standoff": 15
           },
           "zerolinecolor": "white",
           "zerolinewidth": 2
          }
         }
        },
        "title": {
         "text": "User journry stage 1"
        }
       }
      }
     },
     "metadata": {},
     "output_type": "display_data"
    }
   ],
   "source": [
    "df = pd.read_csv('data/first_play_2.csv')\n",
    "df = df.dropna()\n",
    "df = df[df['test_segment'].isin(['14A', '14B', '15A', '15B'])]\n",
    "\n",
    "df = df.groupby(['source', 'target'])['user'].sum().reset_index().rename(columns={0:'user'})\n",
    "\n",
    "all_nodes = df.source.values.tolist() + df.target.values.tolist()\n",
    "\n",
    "source_indices = [all_nodes.index(source) for source in df.source]\n",
    "target_indices = [all_nodes.index(target) for target in df.target]\n",
    "\n",
    "colors = px.colors.qualitative.Alphabet\n",
    "\n",
    "node_colors_mappings = dict([(node, np.random.choice(colors)) for node in all_nodes])\n",
    "\n",
    "node_colors = [node_colors_mappings[node] for node in all_nodes]\n",
    "edge_colors = [node_colors_mappings[node] for node in df.source]\n",
    "\n",
    "fig = go.Figure(data=[\n",
    "    go.Sankey(\n",
    "        node=dict(pad=20,\n",
    "                  thickness=20,\n",
    "                  line=dict(color='black', width=1.0),\n",
    "                  label=all_nodes,\n",
    "                  color=node_colors),\n",
    "        link=dict(source=source_indices,\n",
    "                  target=target_indices,\n",
    "                  value=df.user,\n",
    "                  color=edge_colors)\n",
    "    )\n",
    "])\n",
    "\n",
    "fig.update_layout(title_text=\"User journry stage 1\",\n",
    "                  height=1000,\n",
    "                  font=dict(size=10, color='white'),\n",
    "                  plot_bgcolor='rgba(0,0,0,0)',\n",
    "                  paper_bgcolor='grey')\n",
    "\n",
    "fig.show()"
   ]
  },
  {
   "cell_type": "code",
   "execution_count": 16,
   "metadata": {},
   "outputs": [
    {
     "data": {
      "application/vnd.plotly.v1+json": {
       "config": {
        "plotlyServerURL": "https://plot.ly"
       },
       "data": [
        {
         "link": {
          "color": [
           "#C075A6",
           "#C075A6",
           "#C075A6",
           "#C075A6",
           "#325A9B",
           "#325A9B",
           "#325A9B",
           "#325A9B",
           "#F6222E",
           "#F6222E",
           "#F6222E",
           "#F6222E",
           "#2ED9FF",
           "#2ED9FF",
           "#2ED9FF",
           "#2ED9FF",
           "#FE00FA",
           "#FE00FA",
           "#FE00FA",
           "#FE00FA",
           "#16FF32",
           "#16FF32",
           "#16FF32",
           "#16FF32",
           "#16FF32",
           "#F7E1A0",
           "#F7E1A0",
           "#F7E1A0",
           "#3283FE",
           "#3283FE",
           "#3283FE",
           "#782AB6",
           "#782AB6",
           "#782AB6",
           "#782AB6",
           "#FE00FA",
           "#C4451C",
           "#1C8356",
           "#F7E1A0",
           "#F7E1A0",
           "#F7E1A0",
           "#16FF32",
           "#16FF32",
           "#16FF32",
           "#16FF32",
           "#3283FE",
           "#3283FE",
           "#3283FE",
           "#C075A6",
           "#C075A6",
           "#1CBE4F",
           "#AA0DFE",
           "#AA0DFE",
           "#DEA0FD"
          ],
          "source": [
           0,
           0,
           0,
           0,
           4,
           4,
           4,
           4,
           8,
           8,
           8,
           8,
           12,
           12,
           12,
           12,
           16,
           16,
           16,
           16,
           20,
           20,
           20,
           20,
           20,
           25,
           25,
           25,
           28,
           28,
           28,
           31,
           31,
           31,
           31,
           35,
           36,
           37,
           38,
           38,
           38,
           41,
           41,
           43,
           43,
           45,
           45,
           47,
           48,
           48,
           50,
           51,
           51,
           53
          ],
          "target": [
           54,
           55,
           16,
           20,
           54,
           55,
           50,
           51,
           54,
           55,
           4,
           51,
           54,
           55,
           8,
           31,
           54,
           55,
           12,
           31,
           54,
           55,
           12,
           16,
           31,
           54,
           55,
           28,
           54,
           55,
           37,
           54,
           55,
           4,
           8,
           53,
           55,
           47,
           54,
           55,
           35,
           54,
           25,
           55,
           38,
           54,
           55,
           43,
           55,
           41,
           48,
           55,
           50,
           45
          ],
          "value": [
           505,
           976,
           503,
           2934,
           1379,
           1088,
           1,
           192,
           8,
           6,
           2658,
           1,
           15,
           33,
           2,
           2724,
           24,
           36,
           2773,
           6,
           272,
           333,
           1,
           2332,
           1,
           1,
           2,
           205,
           94,
           110,
           1,
           22,
           37,
           2,
           2671,
           7,
           1,
           12,
           1,
           3,
           7,
           1,
           208,
           1,
           11,
           4,
           3,
           12,
           1,
           209,
           210,
           2,
           208,
           7
          ]
         },
         "node": {
          "color": [
           "#C075A6",
           "#C075A6",
           "#C075A6",
           "#C075A6",
           "#325A9B",
           "#325A9B",
           "#325A9B",
           "#325A9B",
           "#F6222E",
           "#F6222E",
           "#F6222E",
           "#F6222E",
           "#2ED9FF",
           "#2ED9FF",
           "#2ED9FF",
           "#2ED9FF",
           "#FE00FA",
           "#FE00FA",
           "#FE00FA",
           "#FE00FA",
           "#16FF32",
           "#16FF32",
           "#16FF32",
           "#16FF32",
           "#16FF32",
           "#F7E1A0",
           "#F7E1A0",
           "#F7E1A0",
           "#3283FE",
           "#3283FE",
           "#3283FE",
           "#782AB6",
           "#782AB6",
           "#782AB6",
           "#782AB6",
           "#FE00FA",
           "#C4451C",
           "#1C8356",
           "#F7E1A0",
           "#F7E1A0",
           "#F7E1A0",
           "#16FF32",
           "#16FF32",
           "#16FF32",
           "#16FF32",
           "#3283FE",
           "#3283FE",
           "#3283FE",
           "#C075A6",
           "#C075A6",
           "#1CBE4F",
           "#AA0DFE",
           "#AA0DFE",
           "#DEA0FD",
           "#FEAF16",
           "#FE00FA",
           "#FE00FA",
           "#16FF32",
           "#FEAF16",
           "#FE00FA",
           "#1CBE4F",
           "#AA0DFE",
           "#FEAF16",
           "#FE00FA",
           "#325A9B",
           "#AA0DFE",
           "#FEAF16",
           "#FE00FA",
           "#F6222E",
           "#782AB6",
           "#FEAF16",
           "#FE00FA",
           "#2ED9FF",
           "#782AB6",
           "#FEAF16",
           "#FE00FA",
           "#2ED9FF",
           "#FE00FA",
           "#782AB6",
           "#FEAF16",
           "#FE00FA",
           "#3283FE",
           "#FEAF16",
           "#FE00FA",
           "#1C8356",
           "#FEAF16",
           "#FE00FA",
           "#325A9B",
           "#F6222E",
           "#DEA0FD",
           "#FE00FA",
           "#3283FE",
           "#FEAF16",
           "#FE00FA",
           "#FE00FA",
           "#FEAF16",
           "#F7E1A0",
           "#FE00FA",
           "#F7E1A0",
           "#FEAF16",
           "#FE00FA",
           "#16FF32",
           "#FE00FA",
           "#16FF32",
           "#C075A6",
           "#FE00FA",
           "#1CBE4F",
           "#3283FE"
          ],
          "label": [
           "client_tutorial-MoveTutorial",
           "client_tutorial-MoveTutorial",
           "client_tutorial-MoveTutorial",
           "client_tutorial-MoveTutorial",
           "client_tutorial-TargetEquipmentEquip",
           "client_tutorial-TargetEquipmentEquip",
           "client_tutorial-TargetEquipmentEquip",
           "client_tutorial-TargetEquipmentEquip",
           "client_tutorial-TargetEquipmentTab",
           "client_tutorial-TargetEquipmentTab",
           "client_tutorial-TargetEquipmentTab",
           "client_tutorial-TargetEquipmentTab",
           "client_tutorial-TargetEvolveItem",
           "client_tutorial-TargetEvolveItem",
           "client_tutorial-TargetEvolveItem",
           "client_tutorial-TargetEvolveItem",
           "client_tutorial-TargetEvolveTab",
           "client_tutorial-TargetEvolveTab",
           "client_tutorial-TargetEvolveTab",
           "client_tutorial-TargetEvolveTab",
           "client_tutorial-TargetMissionDescription",
           "client_tutorial-TargetMissionDescription",
           "client_tutorial-TargetMissionDescription",
           "client_tutorial-TargetMissionDescription",
           "client_tutorial-TargetMissionDescription",
           "client_tutorial-TargetPatrol",
           "client_tutorial-TargetPatrol",
           "client_tutorial-TargetPatrol",
           "client_tutorial-TargetPatrolClaim",
           "client_tutorial-TargetPatrolClaim",
           "client_tutorial-TargetPatrolClaim",
           "client_tutorial-TargetShopTab",
           "client_tutorial-TargetShopTab",
           "client_tutorial-TargetShopTab",
           "client_tutorial-TargetShopTab",
           "client_tutorial-UnlockDailyMissions",
           "client_tutorial-UnlockDailyRewards",
           "client_tutorial-UnlockDailyShop",
           "client_tutorial-UnlockGrowFund",
           "client_tutorial-UnlockGrowFund",
           "client_tutorial-UnlockGrowFund",
           "client_tutorial-UnlockPatrol",
           "client_tutorial-UnlockPatrol",
           "client_tutorial-UnlockPiggyBank",
           "client_tutorial-UnlockPiggyBank",
           "client_tutorial-UnlockQuickEarning",
           "client_tutorial-UnlockQuickEarning",
           "client_tutorial-UnlockRateting",
           "client_tutorial-UnlockRookieGift",
           "client_tutorial-UnlockRookieGift",
           "client_tutorial-UnlockServerLaunch",
           "client_tutorial-UnlockStage2",
           "client_tutorial-UnlockStage2",
           "client_tutorial-UnlockTrials",
           "Churn",
           "Not churn",
           "client_tutorial-TargetEvolveTab",
           "client_tutorial-TargetMissionDescription",
           "Churn",
           "Not churn",
           "client_tutorial-UnlockServerLaunch",
           "client_tutorial-UnlockStage2",
           "Churn",
           "Not churn",
           "client_tutorial-TargetEquipmentEquip",
           "client_tutorial-UnlockStage2",
           "Churn",
           "Not churn",
           "client_tutorial-TargetEquipmentTab",
           "client_tutorial-TargetShopTab",
           "Churn",
           "Not churn",
           "client_tutorial-TargetEvolveItem",
           "client_tutorial-TargetShopTab",
           "Churn",
           "Not churn",
           "client_tutorial-TargetEvolveItem",
           "client_tutorial-TargetEvolveTab",
           "client_tutorial-TargetShopTab",
           "Churn",
           "Not churn",
           "client_tutorial-TargetPatrolClaim",
           "Churn",
           "Not churn",
           "client_tutorial-UnlockDailyShop",
           "Churn",
           "Not churn",
           "client_tutorial-TargetEquipmentEquip",
           "client_tutorial-TargetEquipmentTab",
           "client_tutorial-UnlockTrials",
           "Not churn",
           "client_tutorial-UnlockRateting",
           "Churn",
           "Not churn",
           "client_tutorial-UnlockDailyMissions",
           "Churn",
           "client_tutorial-TargetPatrol",
           "Not churn",
           "client_tutorial-UnlockGrowFund",
           "Churn",
           "Not churn",
           "client_tutorial-UnlockPiggyBank",
           "Not churn",
           "client_tutorial-UnlockPatrol",
           "client_tutorial-UnlockRookieGift",
           "Not churn",
           "client_tutorial-UnlockServerLaunch",
           "client_tutorial-UnlockQuickEarning"
          ],
          "line": {
           "color": "black",
           "width": 1
          },
          "pad": 20,
          "thickness": 20
         },
         "type": "sankey"
        }
       ],
       "layout": {
        "font": {
         "color": "white",
         "size": 10
        },
        "height": 1000,
        "paper_bgcolor": "grey",
        "plot_bgcolor": "rgba(0,0,0,0)",
        "template": {
         "data": {
          "bar": [
           {
            "error_x": {
             "color": "#2a3f5f"
            },
            "error_y": {
             "color": "#2a3f5f"
            },
            "marker": {
             "line": {
              "color": "#E5ECF6",
              "width": 0.5
             },
             "pattern": {
              "fillmode": "overlay",
              "size": 10,
              "solidity": 0.2
             }
            },
            "type": "bar"
           }
          ],
          "barpolar": [
           {
            "marker": {
             "line": {
              "color": "#E5ECF6",
              "width": 0.5
             },
             "pattern": {
              "fillmode": "overlay",
              "size": 10,
              "solidity": 0.2
             }
            },
            "type": "barpolar"
           }
          ],
          "carpet": [
           {
            "aaxis": {
             "endlinecolor": "#2a3f5f",
             "gridcolor": "white",
             "linecolor": "white",
             "minorgridcolor": "white",
             "startlinecolor": "#2a3f5f"
            },
            "baxis": {
             "endlinecolor": "#2a3f5f",
             "gridcolor": "white",
             "linecolor": "white",
             "minorgridcolor": "white",
             "startlinecolor": "#2a3f5f"
            },
            "type": "carpet"
           }
          ],
          "choropleth": [
           {
            "colorbar": {
             "outlinewidth": 0,
             "ticks": ""
            },
            "type": "choropleth"
           }
          ],
          "contour": [
           {
            "colorbar": {
             "outlinewidth": 0,
             "ticks": ""
            },
            "colorscale": [
             [
              0,
              "#0d0887"
             ],
             [
              0.1111111111111111,
              "#46039f"
             ],
             [
              0.2222222222222222,
              "#7201a8"
             ],
             [
              0.3333333333333333,
              "#9c179e"
             ],
             [
              0.4444444444444444,
              "#bd3786"
             ],
             [
              0.5555555555555556,
              "#d8576b"
             ],
             [
              0.6666666666666666,
              "#ed7953"
             ],
             [
              0.7777777777777778,
              "#fb9f3a"
             ],
             [
              0.8888888888888888,
              "#fdca26"
             ],
             [
              1,
              "#f0f921"
             ]
            ],
            "type": "contour"
           }
          ],
          "contourcarpet": [
           {
            "colorbar": {
             "outlinewidth": 0,
             "ticks": ""
            },
            "type": "contourcarpet"
           }
          ],
          "heatmap": [
           {
            "colorbar": {
             "outlinewidth": 0,
             "ticks": ""
            },
            "colorscale": [
             [
              0,
              "#0d0887"
             ],
             [
              0.1111111111111111,
              "#46039f"
             ],
             [
              0.2222222222222222,
              "#7201a8"
             ],
             [
              0.3333333333333333,
              "#9c179e"
             ],
             [
              0.4444444444444444,
              "#bd3786"
             ],
             [
              0.5555555555555556,
              "#d8576b"
             ],
             [
              0.6666666666666666,
              "#ed7953"
             ],
             [
              0.7777777777777778,
              "#fb9f3a"
             ],
             [
              0.8888888888888888,
              "#fdca26"
             ],
             [
              1,
              "#f0f921"
             ]
            ],
            "type": "heatmap"
           }
          ],
          "heatmapgl": [
           {
            "colorbar": {
             "outlinewidth": 0,
             "ticks": ""
            },
            "colorscale": [
             [
              0,
              "#0d0887"
             ],
             [
              0.1111111111111111,
              "#46039f"
             ],
             [
              0.2222222222222222,
              "#7201a8"
             ],
             [
              0.3333333333333333,
              "#9c179e"
             ],
             [
              0.4444444444444444,
              "#bd3786"
             ],
             [
              0.5555555555555556,
              "#d8576b"
             ],
             [
              0.6666666666666666,
              "#ed7953"
             ],
             [
              0.7777777777777778,
              "#fb9f3a"
             ],
             [
              0.8888888888888888,
              "#fdca26"
             ],
             [
              1,
              "#f0f921"
             ]
            ],
            "type": "heatmapgl"
           }
          ],
          "histogram": [
           {
            "marker": {
             "pattern": {
              "fillmode": "overlay",
              "size": 10,
              "solidity": 0.2
             }
            },
            "type": "histogram"
           }
          ],
          "histogram2d": [
           {
            "colorbar": {
             "outlinewidth": 0,
             "ticks": ""
            },
            "colorscale": [
             [
              0,
              "#0d0887"
             ],
             [
              0.1111111111111111,
              "#46039f"
             ],
             [
              0.2222222222222222,
              "#7201a8"
             ],
             [
              0.3333333333333333,
              "#9c179e"
             ],
             [
              0.4444444444444444,
              "#bd3786"
             ],
             [
              0.5555555555555556,
              "#d8576b"
             ],
             [
              0.6666666666666666,
              "#ed7953"
             ],
             [
              0.7777777777777778,
              "#fb9f3a"
             ],
             [
              0.8888888888888888,
              "#fdca26"
             ],
             [
              1,
              "#f0f921"
             ]
            ],
            "type": "histogram2d"
           }
          ],
          "histogram2dcontour": [
           {
            "colorbar": {
             "outlinewidth": 0,
             "ticks": ""
            },
            "colorscale": [
             [
              0,
              "#0d0887"
             ],
             [
              0.1111111111111111,
              "#46039f"
             ],
             [
              0.2222222222222222,
              "#7201a8"
             ],
             [
              0.3333333333333333,
              "#9c179e"
             ],
             [
              0.4444444444444444,
              "#bd3786"
             ],
             [
              0.5555555555555556,
              "#d8576b"
             ],
             [
              0.6666666666666666,
              "#ed7953"
             ],
             [
              0.7777777777777778,
              "#fb9f3a"
             ],
             [
              0.8888888888888888,
              "#fdca26"
             ],
             [
              1,
              "#f0f921"
             ]
            ],
            "type": "histogram2dcontour"
           }
          ],
          "mesh3d": [
           {
            "colorbar": {
             "outlinewidth": 0,
             "ticks": ""
            },
            "type": "mesh3d"
           }
          ],
          "parcoords": [
           {
            "line": {
             "colorbar": {
              "outlinewidth": 0,
              "ticks": ""
             }
            },
            "type": "parcoords"
           }
          ],
          "pie": [
           {
            "automargin": true,
            "type": "pie"
           }
          ],
          "scatter": [
           {
            "fillpattern": {
             "fillmode": "overlay",
             "size": 10,
             "solidity": 0.2
            },
            "type": "scatter"
           }
          ],
          "scatter3d": [
           {
            "line": {
             "colorbar": {
              "outlinewidth": 0,
              "ticks": ""
             }
            },
            "marker": {
             "colorbar": {
              "outlinewidth": 0,
              "ticks": ""
             }
            },
            "type": "scatter3d"
           }
          ],
          "scattercarpet": [
           {
            "marker": {
             "colorbar": {
              "outlinewidth": 0,
              "ticks": ""
             }
            },
            "type": "scattercarpet"
           }
          ],
          "scattergeo": [
           {
            "marker": {
             "colorbar": {
              "outlinewidth": 0,
              "ticks": ""
             }
            },
            "type": "scattergeo"
           }
          ],
          "scattergl": [
           {
            "marker": {
             "colorbar": {
              "outlinewidth": 0,
              "ticks": ""
             }
            },
            "type": "scattergl"
           }
          ],
          "scattermapbox": [
           {
            "marker": {
             "colorbar": {
              "outlinewidth": 0,
              "ticks": ""
             }
            },
            "type": "scattermapbox"
           }
          ],
          "scatterpolar": [
           {
            "marker": {
             "colorbar": {
              "outlinewidth": 0,
              "ticks": ""
             }
            },
            "type": "scatterpolar"
           }
          ],
          "scatterpolargl": [
           {
            "marker": {
             "colorbar": {
              "outlinewidth": 0,
              "ticks": ""
             }
            },
            "type": "scatterpolargl"
           }
          ],
          "scatterternary": [
           {
            "marker": {
             "colorbar": {
              "outlinewidth": 0,
              "ticks": ""
             }
            },
            "type": "scatterternary"
           }
          ],
          "surface": [
           {
            "colorbar": {
             "outlinewidth": 0,
             "ticks": ""
            },
            "colorscale": [
             [
              0,
              "#0d0887"
             ],
             [
              0.1111111111111111,
              "#46039f"
             ],
             [
              0.2222222222222222,
              "#7201a8"
             ],
             [
              0.3333333333333333,
              "#9c179e"
             ],
             [
              0.4444444444444444,
              "#bd3786"
             ],
             [
              0.5555555555555556,
              "#d8576b"
             ],
             [
              0.6666666666666666,
              "#ed7953"
             ],
             [
              0.7777777777777778,
              "#fb9f3a"
             ],
             [
              0.8888888888888888,
              "#fdca26"
             ],
             [
              1,
              "#f0f921"
             ]
            ],
            "type": "surface"
           }
          ],
          "table": [
           {
            "cells": {
             "fill": {
              "color": "#EBF0F8"
             },
             "line": {
              "color": "white"
             }
            },
            "header": {
             "fill": {
              "color": "#C8D4E3"
             },
             "line": {
              "color": "white"
             }
            },
            "type": "table"
           }
          ]
         },
         "layout": {
          "annotationdefaults": {
           "arrowcolor": "#2a3f5f",
           "arrowhead": 0,
           "arrowwidth": 1
          },
          "autotypenumbers": "strict",
          "coloraxis": {
           "colorbar": {
            "outlinewidth": 0,
            "ticks": ""
           }
          },
          "colorscale": {
           "diverging": [
            [
             0,
             "#8e0152"
            ],
            [
             0.1,
             "#c51b7d"
            ],
            [
             0.2,
             "#de77ae"
            ],
            [
             0.3,
             "#f1b6da"
            ],
            [
             0.4,
             "#fde0ef"
            ],
            [
             0.5,
             "#f7f7f7"
            ],
            [
             0.6,
             "#e6f5d0"
            ],
            [
             0.7,
             "#b8e186"
            ],
            [
             0.8,
             "#7fbc41"
            ],
            [
             0.9,
             "#4d9221"
            ],
            [
             1,
             "#276419"
            ]
           ],
           "sequential": [
            [
             0,
             "#0d0887"
            ],
            [
             0.1111111111111111,
             "#46039f"
            ],
            [
             0.2222222222222222,
             "#7201a8"
            ],
            [
             0.3333333333333333,
             "#9c179e"
            ],
            [
             0.4444444444444444,
             "#bd3786"
            ],
            [
             0.5555555555555556,
             "#d8576b"
            ],
            [
             0.6666666666666666,
             "#ed7953"
            ],
            [
             0.7777777777777778,
             "#fb9f3a"
            ],
            [
             0.8888888888888888,
             "#fdca26"
            ],
            [
             1,
             "#f0f921"
            ]
           ],
           "sequentialminus": [
            [
             0,
             "#0d0887"
            ],
            [
             0.1111111111111111,
             "#46039f"
            ],
            [
             0.2222222222222222,
             "#7201a8"
            ],
            [
             0.3333333333333333,
             "#9c179e"
            ],
            [
             0.4444444444444444,
             "#bd3786"
            ],
            [
             0.5555555555555556,
             "#d8576b"
            ],
            [
             0.6666666666666666,
             "#ed7953"
            ],
            [
             0.7777777777777778,
             "#fb9f3a"
            ],
            [
             0.8888888888888888,
             "#fdca26"
            ],
            [
             1,
             "#f0f921"
            ]
           ]
          },
          "colorway": [
           "#636efa",
           "#EF553B",
           "#00cc96",
           "#ab63fa",
           "#FFA15A",
           "#19d3f3",
           "#FF6692",
           "#B6E880",
           "#FF97FF",
           "#FECB52"
          ],
          "font": {
           "color": "#2a3f5f"
          },
          "geo": {
           "bgcolor": "white",
           "lakecolor": "white",
           "landcolor": "#E5ECF6",
           "showlakes": true,
           "showland": true,
           "subunitcolor": "white"
          },
          "hoverlabel": {
           "align": "left"
          },
          "hovermode": "closest",
          "mapbox": {
           "style": "light"
          },
          "paper_bgcolor": "white",
          "plot_bgcolor": "#E5ECF6",
          "polar": {
           "angularaxis": {
            "gridcolor": "white",
            "linecolor": "white",
            "ticks": ""
           },
           "bgcolor": "#E5ECF6",
           "radialaxis": {
            "gridcolor": "white",
            "linecolor": "white",
            "ticks": ""
           }
          },
          "scene": {
           "xaxis": {
            "backgroundcolor": "#E5ECF6",
            "gridcolor": "white",
            "gridwidth": 2,
            "linecolor": "white",
            "showbackground": true,
            "ticks": "",
            "zerolinecolor": "white"
           },
           "yaxis": {
            "backgroundcolor": "#E5ECF6",
            "gridcolor": "white",
            "gridwidth": 2,
            "linecolor": "white",
            "showbackground": true,
            "ticks": "",
            "zerolinecolor": "white"
           },
           "zaxis": {
            "backgroundcolor": "#E5ECF6",
            "gridcolor": "white",
            "gridwidth": 2,
            "linecolor": "white",
            "showbackground": true,
            "ticks": "",
            "zerolinecolor": "white"
           }
          },
          "shapedefaults": {
           "line": {
            "color": "#2a3f5f"
           }
          },
          "ternary": {
           "aaxis": {
            "gridcolor": "white",
            "linecolor": "white",
            "ticks": ""
           },
           "baxis": {
            "gridcolor": "white",
            "linecolor": "white",
            "ticks": ""
           },
           "bgcolor": "#E5ECF6",
           "caxis": {
            "gridcolor": "white",
            "linecolor": "white",
            "ticks": ""
           }
          },
          "title": {
           "x": 0.05
          },
          "xaxis": {
           "automargin": true,
           "gridcolor": "white",
           "linecolor": "white",
           "ticks": "",
           "title": {
            "standoff": 15
           },
           "zerolinecolor": "white",
           "zerolinewidth": 2
          },
          "yaxis": {
           "automargin": true,
           "gridcolor": "white",
           "linecolor": "white",
           "ticks": "",
           "title": {
            "standoff": 15
           },
           "zerolinecolor": "white",
           "zerolinewidth": 2
          }
         }
        },
        "title": {
         "text": "User journry stage 1"
        }
       }
      }
     },
     "metadata": {},
     "output_type": "display_data"
    }
   ],
   "source": [
    "df = pd.read_csv('data/first_play_tut.csv')\n",
    "df = df.dropna()\n",
    "df = df[df['test_segment'].isin(['14A', '14B', '15A', '15B'])]\n",
    "\n",
    "df = df.groupby(['source', 'target'])['user'].sum().reset_index().rename(columns={0:'user'})\n",
    "\n",
    "all_nodes = df.source.values.tolist() + df.target.values.tolist()\n",
    "\n",
    "source_indices = [all_nodes.index(source) for source in df.source]\n",
    "target_indices = [all_nodes.index(target) for target in df.target]\n",
    "\n",
    "colors = px.colors.qualitative.Alphabet\n",
    "\n",
    "node_colors_mappings = dict([(node, np.random.choice(colors)) for node in all_nodes])\n",
    "\n",
    "node_colors = [node_colors_mappings[node] for node in all_nodes]\n",
    "edge_colors = [node_colors_mappings[node] for node in df.source]\n",
    "\n",
    "fig = go.Figure(data=[\n",
    "    go.Sankey(\n",
    "        node=dict(pad=20,\n",
    "                  thickness=20,\n",
    "                  line=dict(color='black', width=1.0),\n",
    "                  label=all_nodes,\n",
    "                  color=node_colors),\n",
    "        link=dict(source=source_indices,\n",
    "                  target=target_indices,\n",
    "                  value=df.user,\n",
    "                  color=edge_colors)\n",
    "    )\n",
    "])\n",
    "\n",
    "fig.update_layout(title_text=\"User journry stage 1\",\n",
    "                  height=1000,\n",
    "                  font=dict(size=10, color='white'),\n",
    "                  plot_bgcolor='rgba(0,0,0,0)',\n",
    "                  paper_bgcolor='grey')\n",
    "\n",
    "fig.show()"
   ]
  },
  {
   "cell_type": "code",
   "execution_count": 22,
   "metadata": {},
   "outputs": [
    {
     "data": {
      "application/vnd.plotly.v1+json": {
       "config": {
        "plotlyServerURL": "https://plot.ly"
       },
       "data": [
        {
         "link": {
          "color": [
           "#AA0DFE",
           "#AA0DFE",
           "#AA0DFE",
           "#F7E1A0",
           "#F7E1A0",
           "#F7E1A0",
           "#F7E1A0",
           "#F8A19F",
           "#F8A19F",
           "#F8A19F",
           "#565656",
           "#565656",
           "#565656",
           "#565656",
           "#565656",
           "#565656",
           "#565656"
          ],
          "source": [
           0,
           0,
           0,
           3,
           3,
           3,
           3,
           7,
           7,
           7,
           10,
           10,
           10,
           10,
           14,
           14,
           14
          ],
          "target": [
           17,
           18,
           14,
           17,
           18,
           0,
           7,
           17,
           18,
           0,
           17,
           18,
           3,
           7,
           17,
           18,
           3
          ],
          "value": [
           1459,
           1194,
           7,
           40,
           69,
           1,
           2729,
           30,
           43,
           2659,
           488,
           803,
           2609,
           3,
           27,
           37,
           211
          ]
         },
         "node": {
          "color": [
           "#AA0DFE",
           "#AA0DFE",
           "#AA0DFE",
           "#F7E1A0",
           "#F7E1A0",
           "#F7E1A0",
           "#F7E1A0",
           "#F8A19F",
           "#F8A19F",
           "#F8A19F",
           "#565656",
           "#565656",
           "#565656",
           "#565656",
           "#565656",
           "#565656",
           "#565656",
           "#565656",
           "#C4451C",
           "#565656",
           "#565656",
           "#C4451C",
           "#AA0DFE",
           "#F8A19F",
           "#565656",
           "#C4451C",
           "#AA0DFE",
           "#565656",
           "#C4451C",
           "#F7E1A0",
           "#F8A19F",
           "#565656",
           "#C4451C",
           "#F7E1A0"
          ],
          "label": [
           "client_tutorial-TargetEquipmentEquip",
           "client_tutorial-TargetEquipmentEquip",
           "client_tutorial-TargetEquipmentEquip",
           "client_tutorial-TargetEvolveTab",
           "client_tutorial-TargetEvolveTab",
           "client_tutorial-TargetEvolveTab",
           "client_tutorial-TargetEvolveTab",
           "client_tutorial-TargetShopTab",
           "client_tutorial-TargetShopTab",
           "client_tutorial-TargetShopTab",
           "stage_end-1-lose",
           "stage_end-1-lose",
           "stage_end-1-lose",
           "stage_end-1-lose",
           "stage_end-1-won",
           "stage_end-1-won",
           "stage_end-1-won",
           "Churn",
           "Not churn",
           "stage_end-1-won",
           "Churn",
           "Not churn",
           "client_tutorial-TargetEquipmentEquip",
           "client_tutorial-TargetShopTab",
           "Churn",
           "Not churn",
           "client_tutorial-TargetEquipmentEquip",
           "Churn",
           "Not churn",
           "client_tutorial-TargetEvolveTab",
           "client_tutorial-TargetShopTab",
           "Churn",
           "Not churn",
           "client_tutorial-TargetEvolveTab"
          ],
          "line": {
           "color": "black",
           "width": 1
          },
          "pad": 20,
          "thickness": 20
         },
         "type": "sankey"
        }
       ],
       "layout": {
        "font": {
         "color": "white",
         "size": 10
        },
        "height": 1000,
        "paper_bgcolor": "grey",
        "plot_bgcolor": "rgba(0,0,0,0)",
        "template": {
         "data": {
          "bar": [
           {
            "error_x": {
             "color": "#2a3f5f"
            },
            "error_y": {
             "color": "#2a3f5f"
            },
            "marker": {
             "line": {
              "color": "#E5ECF6",
              "width": 0.5
             },
             "pattern": {
              "fillmode": "overlay",
              "size": 10,
              "solidity": 0.2
             }
            },
            "type": "bar"
           }
          ],
          "barpolar": [
           {
            "marker": {
             "line": {
              "color": "#E5ECF6",
              "width": 0.5
             },
             "pattern": {
              "fillmode": "overlay",
              "size": 10,
              "solidity": 0.2
             }
            },
            "type": "barpolar"
           }
          ],
          "carpet": [
           {
            "aaxis": {
             "endlinecolor": "#2a3f5f",
             "gridcolor": "white",
             "linecolor": "white",
             "minorgridcolor": "white",
             "startlinecolor": "#2a3f5f"
            },
            "baxis": {
             "endlinecolor": "#2a3f5f",
             "gridcolor": "white",
             "linecolor": "white",
             "minorgridcolor": "white",
             "startlinecolor": "#2a3f5f"
            },
            "type": "carpet"
           }
          ],
          "choropleth": [
           {
            "colorbar": {
             "outlinewidth": 0,
             "ticks": ""
            },
            "type": "choropleth"
           }
          ],
          "contour": [
           {
            "colorbar": {
             "outlinewidth": 0,
             "ticks": ""
            },
            "colorscale": [
             [
              0,
              "#0d0887"
             ],
             [
              0.1111111111111111,
              "#46039f"
             ],
             [
              0.2222222222222222,
              "#7201a8"
             ],
             [
              0.3333333333333333,
              "#9c179e"
             ],
             [
              0.4444444444444444,
              "#bd3786"
             ],
             [
              0.5555555555555556,
              "#d8576b"
             ],
             [
              0.6666666666666666,
              "#ed7953"
             ],
             [
              0.7777777777777778,
              "#fb9f3a"
             ],
             [
              0.8888888888888888,
              "#fdca26"
             ],
             [
              1,
              "#f0f921"
             ]
            ],
            "type": "contour"
           }
          ],
          "contourcarpet": [
           {
            "colorbar": {
             "outlinewidth": 0,
             "ticks": ""
            },
            "type": "contourcarpet"
           }
          ],
          "heatmap": [
           {
            "colorbar": {
             "outlinewidth": 0,
             "ticks": ""
            },
            "colorscale": [
             [
              0,
              "#0d0887"
             ],
             [
              0.1111111111111111,
              "#46039f"
             ],
             [
              0.2222222222222222,
              "#7201a8"
             ],
             [
              0.3333333333333333,
              "#9c179e"
             ],
             [
              0.4444444444444444,
              "#bd3786"
             ],
             [
              0.5555555555555556,
              "#d8576b"
             ],
             [
              0.6666666666666666,
              "#ed7953"
             ],
             [
              0.7777777777777778,
              "#fb9f3a"
             ],
             [
              0.8888888888888888,
              "#fdca26"
             ],
             [
              1,
              "#f0f921"
             ]
            ],
            "type": "heatmap"
           }
          ],
          "heatmapgl": [
           {
            "colorbar": {
             "outlinewidth": 0,
             "ticks": ""
            },
            "colorscale": [
             [
              0,
              "#0d0887"
             ],
             [
              0.1111111111111111,
              "#46039f"
             ],
             [
              0.2222222222222222,
              "#7201a8"
             ],
             [
              0.3333333333333333,
              "#9c179e"
             ],
             [
              0.4444444444444444,
              "#bd3786"
             ],
             [
              0.5555555555555556,
              "#d8576b"
             ],
             [
              0.6666666666666666,
              "#ed7953"
             ],
             [
              0.7777777777777778,
              "#fb9f3a"
             ],
             [
              0.8888888888888888,
              "#fdca26"
             ],
             [
              1,
              "#f0f921"
             ]
            ],
            "type": "heatmapgl"
           }
          ],
          "histogram": [
           {
            "marker": {
             "pattern": {
              "fillmode": "overlay",
              "size": 10,
              "solidity": 0.2
             }
            },
            "type": "histogram"
           }
          ],
          "histogram2d": [
           {
            "colorbar": {
             "outlinewidth": 0,
             "ticks": ""
            },
            "colorscale": [
             [
              0,
              "#0d0887"
             ],
             [
              0.1111111111111111,
              "#46039f"
             ],
             [
              0.2222222222222222,
              "#7201a8"
             ],
             [
              0.3333333333333333,
              "#9c179e"
             ],
             [
              0.4444444444444444,
              "#bd3786"
             ],
             [
              0.5555555555555556,
              "#d8576b"
             ],
             [
              0.6666666666666666,
              "#ed7953"
             ],
             [
              0.7777777777777778,
              "#fb9f3a"
             ],
             [
              0.8888888888888888,
              "#fdca26"
             ],
             [
              1,
              "#f0f921"
             ]
            ],
            "type": "histogram2d"
           }
          ],
          "histogram2dcontour": [
           {
            "colorbar": {
             "outlinewidth": 0,
             "ticks": ""
            },
            "colorscale": [
             [
              0,
              "#0d0887"
             ],
             [
              0.1111111111111111,
              "#46039f"
             ],
             [
              0.2222222222222222,
              "#7201a8"
             ],
             [
              0.3333333333333333,
              "#9c179e"
             ],
             [
              0.4444444444444444,
              "#bd3786"
             ],
             [
              0.5555555555555556,
              "#d8576b"
             ],
             [
              0.6666666666666666,
              "#ed7953"
             ],
             [
              0.7777777777777778,
              "#fb9f3a"
             ],
             [
              0.8888888888888888,
              "#fdca26"
             ],
             [
              1,
              "#f0f921"
             ]
            ],
            "type": "histogram2dcontour"
           }
          ],
          "mesh3d": [
           {
            "colorbar": {
             "outlinewidth": 0,
             "ticks": ""
            },
            "type": "mesh3d"
           }
          ],
          "parcoords": [
           {
            "line": {
             "colorbar": {
              "outlinewidth": 0,
              "ticks": ""
             }
            },
            "type": "parcoords"
           }
          ],
          "pie": [
           {
            "automargin": true,
            "type": "pie"
           }
          ],
          "scatter": [
           {
            "fillpattern": {
             "fillmode": "overlay",
             "size": 10,
             "solidity": 0.2
            },
            "type": "scatter"
           }
          ],
          "scatter3d": [
           {
            "line": {
             "colorbar": {
              "outlinewidth": 0,
              "ticks": ""
             }
            },
            "marker": {
             "colorbar": {
              "outlinewidth": 0,
              "ticks": ""
             }
            },
            "type": "scatter3d"
           }
          ],
          "scattercarpet": [
           {
            "marker": {
             "colorbar": {
              "outlinewidth": 0,
              "ticks": ""
             }
            },
            "type": "scattercarpet"
           }
          ],
          "scattergeo": [
           {
            "marker": {
             "colorbar": {
              "outlinewidth": 0,
              "ticks": ""
             }
            },
            "type": "scattergeo"
           }
          ],
          "scattergl": [
           {
            "marker": {
             "colorbar": {
              "outlinewidth": 0,
              "ticks": ""
             }
            },
            "type": "scattergl"
           }
          ],
          "scattermapbox": [
           {
            "marker": {
             "colorbar": {
              "outlinewidth": 0,
              "ticks": ""
             }
            },
            "type": "scattermapbox"
           }
          ],
          "scatterpolar": [
           {
            "marker": {
             "colorbar": {
              "outlinewidth": 0,
              "ticks": ""
             }
            },
            "type": "scatterpolar"
           }
          ],
          "scatterpolargl": [
           {
            "marker": {
             "colorbar": {
              "outlinewidth": 0,
              "ticks": ""
             }
            },
            "type": "scatterpolargl"
           }
          ],
          "scatterternary": [
           {
            "marker": {
             "colorbar": {
              "outlinewidth": 0,
              "ticks": ""
             }
            },
            "type": "scatterternary"
           }
          ],
          "surface": [
           {
            "colorbar": {
             "outlinewidth": 0,
             "ticks": ""
            },
            "colorscale": [
             [
              0,
              "#0d0887"
             ],
             [
              0.1111111111111111,
              "#46039f"
             ],
             [
              0.2222222222222222,
              "#7201a8"
             ],
             [
              0.3333333333333333,
              "#9c179e"
             ],
             [
              0.4444444444444444,
              "#bd3786"
             ],
             [
              0.5555555555555556,
              "#d8576b"
             ],
             [
              0.6666666666666666,
              "#ed7953"
             ],
             [
              0.7777777777777778,
              "#fb9f3a"
             ],
             [
              0.8888888888888888,
              "#fdca26"
             ],
             [
              1,
              "#f0f921"
             ]
            ],
            "type": "surface"
           }
          ],
          "table": [
           {
            "cells": {
             "fill": {
              "color": "#EBF0F8"
             },
             "line": {
              "color": "white"
             }
            },
            "header": {
             "fill": {
              "color": "#C8D4E3"
             },
             "line": {
              "color": "white"
             }
            },
            "type": "table"
           }
          ]
         },
         "layout": {
          "annotationdefaults": {
           "arrowcolor": "#2a3f5f",
           "arrowhead": 0,
           "arrowwidth": 1
          },
          "autotypenumbers": "strict",
          "coloraxis": {
           "colorbar": {
            "outlinewidth": 0,
            "ticks": ""
           }
          },
          "colorscale": {
           "diverging": [
            [
             0,
             "#8e0152"
            ],
            [
             0.1,
             "#c51b7d"
            ],
            [
             0.2,
             "#de77ae"
            ],
            [
             0.3,
             "#f1b6da"
            ],
            [
             0.4,
             "#fde0ef"
            ],
            [
             0.5,
             "#f7f7f7"
            ],
            [
             0.6,
             "#e6f5d0"
            ],
            [
             0.7,
             "#b8e186"
            ],
            [
             0.8,
             "#7fbc41"
            ],
            [
             0.9,
             "#4d9221"
            ],
            [
             1,
             "#276419"
            ]
           ],
           "sequential": [
            [
             0,
             "#0d0887"
            ],
            [
             0.1111111111111111,
             "#46039f"
            ],
            [
             0.2222222222222222,
             "#7201a8"
            ],
            [
             0.3333333333333333,
             "#9c179e"
            ],
            [
             0.4444444444444444,
             "#bd3786"
            ],
            [
             0.5555555555555556,
             "#d8576b"
            ],
            [
             0.6666666666666666,
             "#ed7953"
            ],
            [
             0.7777777777777778,
             "#fb9f3a"
            ],
            [
             0.8888888888888888,
             "#fdca26"
            ],
            [
             1,
             "#f0f921"
            ]
           ],
           "sequentialminus": [
            [
             0,
             "#0d0887"
            ],
            [
             0.1111111111111111,
             "#46039f"
            ],
            [
             0.2222222222222222,
             "#7201a8"
            ],
            [
             0.3333333333333333,
             "#9c179e"
            ],
            [
             0.4444444444444444,
             "#bd3786"
            ],
            [
             0.5555555555555556,
             "#d8576b"
            ],
            [
             0.6666666666666666,
             "#ed7953"
            ],
            [
             0.7777777777777778,
             "#fb9f3a"
            ],
            [
             0.8888888888888888,
             "#fdca26"
            ],
            [
             1,
             "#f0f921"
            ]
           ]
          },
          "colorway": [
           "#636efa",
           "#EF553B",
           "#00cc96",
           "#ab63fa",
           "#FFA15A",
           "#19d3f3",
           "#FF6692",
           "#B6E880",
           "#FF97FF",
           "#FECB52"
          ],
          "font": {
           "color": "#2a3f5f"
          },
          "geo": {
           "bgcolor": "white",
           "lakecolor": "white",
           "landcolor": "#E5ECF6",
           "showlakes": true,
           "showland": true,
           "subunitcolor": "white"
          },
          "hoverlabel": {
           "align": "left"
          },
          "hovermode": "closest",
          "mapbox": {
           "style": "light"
          },
          "paper_bgcolor": "white",
          "plot_bgcolor": "#E5ECF6",
          "polar": {
           "angularaxis": {
            "gridcolor": "white",
            "linecolor": "white",
            "ticks": ""
           },
           "bgcolor": "#E5ECF6",
           "radialaxis": {
            "gridcolor": "white",
            "linecolor": "white",
            "ticks": ""
           }
          },
          "scene": {
           "xaxis": {
            "backgroundcolor": "#E5ECF6",
            "gridcolor": "white",
            "gridwidth": 2,
            "linecolor": "white",
            "showbackground": true,
            "ticks": "",
            "zerolinecolor": "white"
           },
           "yaxis": {
            "backgroundcolor": "#E5ECF6",
            "gridcolor": "white",
            "gridwidth": 2,
            "linecolor": "white",
            "showbackground": true,
            "ticks": "",
            "zerolinecolor": "white"
           },
           "zaxis": {
            "backgroundcolor": "#E5ECF6",
            "gridcolor": "white",
            "gridwidth": 2,
            "linecolor": "white",
            "showbackground": true,
            "ticks": "",
            "zerolinecolor": "white"
           }
          },
          "shapedefaults": {
           "line": {
            "color": "#2a3f5f"
           }
          },
          "ternary": {
           "aaxis": {
            "gridcolor": "white",
            "linecolor": "white",
            "ticks": ""
           },
           "baxis": {
            "gridcolor": "white",
            "linecolor": "white",
            "ticks": ""
           },
           "bgcolor": "#E5ECF6",
           "caxis": {
            "gridcolor": "white",
            "linecolor": "white",
            "ticks": ""
           }
          },
          "title": {
           "x": 0.05
          },
          "xaxis": {
           "automargin": true,
           "gridcolor": "white",
           "linecolor": "white",
           "ticks": "",
           "title": {
            "standoff": 15
           },
           "zerolinecolor": "white",
           "zerolinewidth": 2
          },
          "yaxis": {
           "automargin": true,
           "gridcolor": "white",
           "linecolor": "white",
           "ticks": "",
           "title": {
            "standoff": 15
           },
           "zerolinecolor": "white",
           "zerolinewidth": 2
          }
         }
        },
        "title": {
         "text": "User journry stage 1"
        }
       }
      }
     },
     "metadata": {},
     "output_type": "display_data"
    }
   ],
   "source": [
    "df = pd.read_csv('data/first_play_shorttut.csv')\n",
    "df = df.dropna()\n",
    "df = df[df['test_segment'].isin(['14A', '14B', '15A', '15B'])]\n",
    "\n",
    "df = df.groupby(['source', 'target'])['user'].sum().reset_index().rename(columns={0:'user'})\n",
    "\n",
    "all_nodes = df.source.values.tolist() + df.target.values.tolist()\n",
    "\n",
    "source_indices = [all_nodes.index(source) for source in df.source]\n",
    "target_indices = [all_nodes.index(target) for target in df.target]\n",
    "\n",
    "colors = px.colors.qualitative.Alphabet\n",
    "\n",
    "node_colors_mappings = dict([(node, np.random.choice(colors)) for node in all_nodes])\n",
    "\n",
    "node_colors = [node_colors_mappings[node] for node in all_nodes]\n",
    "edge_colors = [node_colors_mappings[node] for node in df.source]\n",
    "\n",
    "fig = go.Figure(data=[\n",
    "    go.Sankey(\n",
    "        node=dict(pad=20,\n",
    "                  thickness=20,\n",
    "                  line=dict(color='black', width=1.0),\n",
    "                  label=all_nodes,\n",
    "                  color=node_colors),\n",
    "        link=dict(source=source_indices,\n",
    "                  target=target_indices,\n",
    "                  value=df.user,\n",
    "                  color=edge_colors)\n",
    "    )\n",
    "])\n",
    "\n",
    "fig.update_layout(title_text=\"User journry stage 1\",\n",
    "                  height=1000,\n",
    "                  font=dict(size=10, color='white'),\n",
    "                  plot_bgcolor='rgba(0,0,0,0)',\n",
    "                  paper_bgcolor='grey')\n",
    "\n",
    "fig.show()"
   ]
  },
  {
   "cell_type": "code",
   "execution_count": 23,
   "metadata": {},
   "outputs": [
    {
     "data": {
      "application/vnd.plotly.v1+json": {
       "config": {
        "plotlyServerURL": "https://plot.ly"
       },
       "data": [
        {
         "link": {
          "color": [
           "#636EFA",
           "#FECB52",
           "#AB63FA",
           "#636EFA",
           "#FECB52",
           "#FECB52",
           "#636EFA",
           "#FECB52",
           "#636EFA",
           "#B6E880",
           "#636EFA",
           "#FECB52",
           "#B6E880",
           "#636EFA",
           "#FECB52",
           "#AB63FA",
           "#FFA15A",
           "#FF6692",
           "#FECB52",
           "#FECB52",
           "#FF97FF",
           "#AB63FA",
           "#B6E880",
           "#FECB52",
           "#FF97FF",
           "#636EFA",
           "#FECB52",
           "#636EFA",
           "#636EFA",
           "#FECB52",
           "#FECB52",
           "#636EFA",
           "#AB63FA",
           "#636EFA",
           "#FECB52",
           "#FF6692",
           "#B6E880",
           "#FFA15A",
           "#FECB52",
           "#B6E880",
           "#FFA15A",
           "#FF97FF",
           "#FFA15A",
           "#636EFA",
           "#FECB52",
           "#FF97FF",
           "#FF97FF",
           "#FECB52",
           "#FECB52"
          ],
          "source": [
           0,
           1,
           2,
           0,
           4,
           1,
           0,
           1,
           0,
           9,
           10,
           1,
           9,
           10,
           4,
           2,
           16,
           17,
           18,
           4,
           20,
           2,
           9,
           18,
           24,
           0,
           18,
           0,
           10,
           4,
           18,
           10,
           2,
           0,
           1,
           17,
           9,
           16,
           4,
           9,
           16,
           20,
           16,
           0,
           1,
           20,
           20,
           18,
           4
          ],
          "target": [
           49,
           4,
           1,
           18,
           10,
           10,
           17,
           24,
           1,
           24,
           16,
           9,
           49,
           49,
           24,
           10,
           9,
           49,
           10,
           16,
           49,
           4,
           20,
           4,
           49,
           2,
           1,
           20,
           24,
           9,
           49,
           9,
           49,
           24,
           49,
           1,
           16,
           24,
           49,
           1,
           10,
           1,
           49,
           9,
           16,
           24,
           10,
           24,
           17
          ],
          "value": [
           14.5,
           49.8,
           37.8,
           21.6,
           34.2,
           9,
           6,
           4,
           5,
           21.4,
           4.9,
           0.9,
           6.4,
           2.4,
           5,
           0.1,
           3.4,
           0.8,
           0,
           0.4,
           0.3,
           0.1,
           0,
           0,
           51.9,
           46.5,
           17.9,
           4.7,
           16.9,
           6.5,
           3.6,
           19.4,
           8.5,
           1.5,
           6.4,
           5.2,
           2.5,
           2.8,
           3.8,
           0,
           0.3,
           4.3,
           1.4,
           0,
           0.2,
           0,
           0,
           0,
           0
          ]
         },
         "node": {
          "color": [
           "#636EFA",
           "#FECB52",
           "#AB63FA",
           "#636EFA",
           "#FECB52",
           "#FECB52",
           "#636EFA",
           "#FECB52",
           "#636EFA",
           "#B6E880",
           "#636EFA",
           "#FECB52",
           "#B6E880",
           "#636EFA",
           "#FECB52",
           "#AB63FA",
           "#FFA15A",
           "#FF6692",
           "#FECB52",
           "#FECB52",
           "#FF97FF",
           "#AB63FA",
           "#B6E880",
           "#FECB52",
           "#FF97FF",
           "#636EFA",
           "#FECB52",
           "#636EFA",
           "#636EFA",
           "#FECB52",
           "#FECB52",
           "#636EFA",
           "#AB63FA",
           "#636EFA",
           "#FECB52",
           "#FF6692",
           "#B6E880",
           "#FFA15A",
           "#FECB52",
           "#B6E880",
           "#FFA15A",
           "#FF97FF",
           "#FFA15A",
           "#636EFA",
           "#FECB52",
           "#FF97FF",
           "#FF97FF",
           "#FECB52",
           "#FECB52",
           "#FFA15A",
           "#FECB52",
           "#FECB52",
           "#FECB52",
           "#636EFA",
           "#636EFA",
           "#FF6692",
           "#FF97FF",
           "#FECB52",
           "#FF97FF",
           "#FFA15A",
           "#B6E880",
           "#FFA15A",
           "#FFA15A",
           "#FF97FF",
           "#636EFA",
           "#B6E880",
           "#FFA15A",
           "#636EFA",
           "#FFA15A",
           "#FFA15A",
           "#FECB52",
           "#FF97FF",
           "#FECB52",
           "#FFA15A",
           "#AB63FA",
           "#FECB52",
           "#FF97FF",
           "#FF97FF",
           "#B6E880",
           "#FFA15A",
           "#B6E880",
           "#FFA15A",
           "#FF97FF",
           "#FFA15A",
           "#FECB52",
           "#FFA15A",
           "#FF97FF",
           "#FFA15A",
           "#FECB52",
           "#636EFA",
           "#FECB52",
           "#FFA15A",
           "#B6E880",
           "#FFA15A",
           "#FF97FF",
           "#636EFA",
           "#FF97FF",
           "#FF6692"
          ],
          "label": [
           "client_enter_game-1",
           "client_lobby-1",
           "stage_end-lose_level 0 - 10",
           "client_enter_game-1",
           "client_tutorial-TargetMissionDescription-1",
           "client_lobby-1",
           "client_enter_game-1",
           "client_lobby-1",
           "client_enter_game-1",
           "earn_resource-1",
           "client_tutorial-TargetEquipmentEquip-1",
           "client_lobby-1",
           "earn_resource-1",
           "client_tutorial-TargetEquipmentEquip-1",
           "client_tutorial-TargetMissionDescription-1",
           "stage_end-lose_level 0 - 10",
           "client_enter_shop-1",
           "stage_end-lose_level >= 25",
           "stage_end-lose_level 10 - 25",
           "client_tutorial-TargetMissionDescription-1",
           "stage_end-won",
           "stage_end-lose_level 0 - 10",
           "earn_resource-1",
           "stage_end-lose_level 10 - 25",
           "client_enter_game-2",
           "client_enter_game-1",
           "stage_end-lose_level 10 - 25",
           "client_enter_game-1",
           "client_tutorial-TargetEquipmentEquip-1",
           "client_tutorial-TargetMissionDescription-1",
           "stage_end-lose_level 10 - 25",
           "client_tutorial-TargetEquipmentEquip-1",
           "stage_end-lose_level 0 - 10",
           "client_enter_game-1",
           "client_lobby-1",
           "stage_end-lose_level >= 25",
           "earn_resource-1",
           "client_enter_shop-1",
           "client_tutorial-TargetMissionDescription-1",
           "earn_resource-1",
           "client_enter_shop-1",
           "stage_end-won",
           "client_enter_shop-1",
           "client_enter_game-1",
           "client_lobby-1",
           "stage_end-won",
           "stage_end-won",
           "stage_end-lose_level 10 - 25",
           "client_tutorial-TargetMissionDescription-1",
           "churn",
           "client_tutorial-TargetMissionDescription-1",
           "client_lobby-1",
           "stage_end-lose_level 10 - 25",
           "client_tutorial-TargetEquipmentEquip-1",
           "client_tutorial-TargetEquipmentEquip-1",
           "stage_end-lose_level >= 25",
           "client_enter_game-2",
           "client_lobby-1",
           "client_enter_game-2",
           "client_enter_shop-1",
           "earn_resource-1",
           "churn",
           "churn",
           "client_enter_game-2",
           "client_tutorial-TargetEquipmentEquip-1",
           "earn_resource-1",
           "churn",
           "client_tutorial-TargetEquipmentEquip-1",
           "client_enter_shop-1",
           "churn",
           "client_tutorial-TargetMissionDescription-1",
           "stage_end-won",
           "client_tutorial-TargetMissionDescription-1",
           "churn",
           "stage_end-lose_level 0 - 10",
           "client_lobby-1",
           "stage_end-won",
           "client_enter_game-2",
           "earn_resource-1",
           "churn",
           "earn_resource-1",
           "churn",
           "client_enter_game-2",
           "churn",
           "client_lobby-1",
           "client_enter_shop-1",
           "client_enter_game-2",
           "churn",
           "client_lobby-1",
           "client_tutorial-TargetEquipmentEquip-1",
           "client_lobby-1",
           "churn",
           "earn_resource-1",
           "client_enter_shop-1",
           "client_enter_game-2",
           "client_tutorial-TargetEquipmentEquip-1",
           "client_enter_game-2",
           "stage_end-lose_level >= 25"
          ],
          "line": {
           "color": "black",
           "width": 1
          },
          "pad": 20,
          "thickness": 20
         },
         "type": "sankey"
        }
       ],
       "layout": {
        "font": {
         "color": "white",
         "size": 10
        },
        "height": 1000,
        "paper_bgcolor": "grey",
        "plot_bgcolor": "rgba(0,0,0,0)",
        "template": {
         "data": {
          "bar": [
           {
            "error_x": {
             "color": "#2a3f5f"
            },
            "error_y": {
             "color": "#2a3f5f"
            },
            "marker": {
             "line": {
              "color": "#E5ECF6",
              "width": 0.5
             },
             "pattern": {
              "fillmode": "overlay",
              "size": 10,
              "solidity": 0.2
             }
            },
            "type": "bar"
           }
          ],
          "barpolar": [
           {
            "marker": {
             "line": {
              "color": "#E5ECF6",
              "width": 0.5
             },
             "pattern": {
              "fillmode": "overlay",
              "size": 10,
              "solidity": 0.2
             }
            },
            "type": "barpolar"
           }
          ],
          "carpet": [
           {
            "aaxis": {
             "endlinecolor": "#2a3f5f",
             "gridcolor": "white",
             "linecolor": "white",
             "minorgridcolor": "white",
             "startlinecolor": "#2a3f5f"
            },
            "baxis": {
             "endlinecolor": "#2a3f5f",
             "gridcolor": "white",
             "linecolor": "white",
             "minorgridcolor": "white",
             "startlinecolor": "#2a3f5f"
            },
            "type": "carpet"
           }
          ],
          "choropleth": [
           {
            "colorbar": {
             "outlinewidth": 0,
             "ticks": ""
            },
            "type": "choropleth"
           }
          ],
          "contour": [
           {
            "colorbar": {
             "outlinewidth": 0,
             "ticks": ""
            },
            "colorscale": [
             [
              0,
              "#0d0887"
             ],
             [
              0.1111111111111111,
              "#46039f"
             ],
             [
              0.2222222222222222,
              "#7201a8"
             ],
             [
              0.3333333333333333,
              "#9c179e"
             ],
             [
              0.4444444444444444,
              "#bd3786"
             ],
             [
              0.5555555555555556,
              "#d8576b"
             ],
             [
              0.6666666666666666,
              "#ed7953"
             ],
             [
              0.7777777777777778,
              "#fb9f3a"
             ],
             [
              0.8888888888888888,
              "#fdca26"
             ],
             [
              1,
              "#f0f921"
             ]
            ],
            "type": "contour"
           }
          ],
          "contourcarpet": [
           {
            "colorbar": {
             "outlinewidth": 0,
             "ticks": ""
            },
            "type": "contourcarpet"
           }
          ],
          "heatmap": [
           {
            "colorbar": {
             "outlinewidth": 0,
             "ticks": ""
            },
            "colorscale": [
             [
              0,
              "#0d0887"
             ],
             [
              0.1111111111111111,
              "#46039f"
             ],
             [
              0.2222222222222222,
              "#7201a8"
             ],
             [
              0.3333333333333333,
              "#9c179e"
             ],
             [
              0.4444444444444444,
              "#bd3786"
             ],
             [
              0.5555555555555556,
              "#d8576b"
             ],
             [
              0.6666666666666666,
              "#ed7953"
             ],
             [
              0.7777777777777778,
              "#fb9f3a"
             ],
             [
              0.8888888888888888,
              "#fdca26"
             ],
             [
              1,
              "#f0f921"
             ]
            ],
            "type": "heatmap"
           }
          ],
          "heatmapgl": [
           {
            "colorbar": {
             "outlinewidth": 0,
             "ticks": ""
            },
            "colorscale": [
             [
              0,
              "#0d0887"
             ],
             [
              0.1111111111111111,
              "#46039f"
             ],
             [
              0.2222222222222222,
              "#7201a8"
             ],
             [
              0.3333333333333333,
              "#9c179e"
             ],
             [
              0.4444444444444444,
              "#bd3786"
             ],
             [
              0.5555555555555556,
              "#d8576b"
             ],
             [
              0.6666666666666666,
              "#ed7953"
             ],
             [
              0.7777777777777778,
              "#fb9f3a"
             ],
             [
              0.8888888888888888,
              "#fdca26"
             ],
             [
              1,
              "#f0f921"
             ]
            ],
            "type": "heatmapgl"
           }
          ],
          "histogram": [
           {
            "marker": {
             "pattern": {
              "fillmode": "overlay",
              "size": 10,
              "solidity": 0.2
             }
            },
            "type": "histogram"
           }
          ],
          "histogram2d": [
           {
            "colorbar": {
             "outlinewidth": 0,
             "ticks": ""
            },
            "colorscale": [
             [
              0,
              "#0d0887"
             ],
             [
              0.1111111111111111,
              "#46039f"
             ],
             [
              0.2222222222222222,
              "#7201a8"
             ],
             [
              0.3333333333333333,
              "#9c179e"
             ],
             [
              0.4444444444444444,
              "#bd3786"
             ],
             [
              0.5555555555555556,
              "#d8576b"
             ],
             [
              0.6666666666666666,
              "#ed7953"
             ],
             [
              0.7777777777777778,
              "#fb9f3a"
             ],
             [
              0.8888888888888888,
              "#fdca26"
             ],
             [
              1,
              "#f0f921"
             ]
            ],
            "type": "histogram2d"
           }
          ],
          "histogram2dcontour": [
           {
            "colorbar": {
             "outlinewidth": 0,
             "ticks": ""
            },
            "colorscale": [
             [
              0,
              "#0d0887"
             ],
             [
              0.1111111111111111,
              "#46039f"
             ],
             [
              0.2222222222222222,
              "#7201a8"
             ],
             [
              0.3333333333333333,
              "#9c179e"
             ],
             [
              0.4444444444444444,
              "#bd3786"
             ],
             [
              0.5555555555555556,
              "#d8576b"
             ],
             [
              0.6666666666666666,
              "#ed7953"
             ],
             [
              0.7777777777777778,
              "#fb9f3a"
             ],
             [
              0.8888888888888888,
              "#fdca26"
             ],
             [
              1,
              "#f0f921"
             ]
            ],
            "type": "histogram2dcontour"
           }
          ],
          "mesh3d": [
           {
            "colorbar": {
             "outlinewidth": 0,
             "ticks": ""
            },
            "type": "mesh3d"
           }
          ],
          "parcoords": [
           {
            "line": {
             "colorbar": {
              "outlinewidth": 0,
              "ticks": ""
             }
            },
            "type": "parcoords"
           }
          ],
          "pie": [
           {
            "automargin": true,
            "type": "pie"
           }
          ],
          "scatter": [
           {
            "fillpattern": {
             "fillmode": "overlay",
             "size": 10,
             "solidity": 0.2
            },
            "type": "scatter"
           }
          ],
          "scatter3d": [
           {
            "line": {
             "colorbar": {
              "outlinewidth": 0,
              "ticks": ""
             }
            },
            "marker": {
             "colorbar": {
              "outlinewidth": 0,
              "ticks": ""
             }
            },
            "type": "scatter3d"
           }
          ],
          "scattercarpet": [
           {
            "marker": {
             "colorbar": {
              "outlinewidth": 0,
              "ticks": ""
             }
            },
            "type": "scattercarpet"
           }
          ],
          "scattergeo": [
           {
            "marker": {
             "colorbar": {
              "outlinewidth": 0,
              "ticks": ""
             }
            },
            "type": "scattergeo"
           }
          ],
          "scattergl": [
           {
            "marker": {
             "colorbar": {
              "outlinewidth": 0,
              "ticks": ""
             }
            },
            "type": "scattergl"
           }
          ],
          "scattermapbox": [
           {
            "marker": {
             "colorbar": {
              "outlinewidth": 0,
              "ticks": ""
             }
            },
            "type": "scattermapbox"
           }
          ],
          "scatterpolar": [
           {
            "marker": {
             "colorbar": {
              "outlinewidth": 0,
              "ticks": ""
             }
            },
            "type": "scatterpolar"
           }
          ],
          "scatterpolargl": [
           {
            "marker": {
             "colorbar": {
              "outlinewidth": 0,
              "ticks": ""
             }
            },
            "type": "scatterpolargl"
           }
          ],
          "scatterternary": [
           {
            "marker": {
             "colorbar": {
              "outlinewidth": 0,
              "ticks": ""
             }
            },
            "type": "scatterternary"
           }
          ],
          "surface": [
           {
            "colorbar": {
             "outlinewidth": 0,
             "ticks": ""
            },
            "colorscale": [
             [
              0,
              "#0d0887"
             ],
             [
              0.1111111111111111,
              "#46039f"
             ],
             [
              0.2222222222222222,
              "#7201a8"
             ],
             [
              0.3333333333333333,
              "#9c179e"
             ],
             [
              0.4444444444444444,
              "#bd3786"
             ],
             [
              0.5555555555555556,
              "#d8576b"
             ],
             [
              0.6666666666666666,
              "#ed7953"
             ],
             [
              0.7777777777777778,
              "#fb9f3a"
             ],
             [
              0.8888888888888888,
              "#fdca26"
             ],
             [
              1,
              "#f0f921"
             ]
            ],
            "type": "surface"
           }
          ],
          "table": [
           {
            "cells": {
             "fill": {
              "color": "#EBF0F8"
             },
             "line": {
              "color": "white"
             }
            },
            "header": {
             "fill": {
              "color": "#C8D4E3"
             },
             "line": {
              "color": "white"
             }
            },
            "type": "table"
           }
          ]
         },
         "layout": {
          "annotationdefaults": {
           "arrowcolor": "#2a3f5f",
           "arrowhead": 0,
           "arrowwidth": 1
          },
          "autotypenumbers": "strict",
          "coloraxis": {
           "colorbar": {
            "outlinewidth": 0,
            "ticks": ""
           }
          },
          "colorscale": {
           "diverging": [
            [
             0,
             "#8e0152"
            ],
            [
             0.1,
             "#c51b7d"
            ],
            [
             0.2,
             "#de77ae"
            ],
            [
             0.3,
             "#f1b6da"
            ],
            [
             0.4,
             "#fde0ef"
            ],
            [
             0.5,
             "#f7f7f7"
            ],
            [
             0.6,
             "#e6f5d0"
            ],
            [
             0.7,
             "#b8e186"
            ],
            [
             0.8,
             "#7fbc41"
            ],
            [
             0.9,
             "#4d9221"
            ],
            [
             1,
             "#276419"
            ]
           ],
           "sequential": [
            [
             0,
             "#0d0887"
            ],
            [
             0.1111111111111111,
             "#46039f"
            ],
            [
             0.2222222222222222,
             "#7201a8"
            ],
            [
             0.3333333333333333,
             "#9c179e"
            ],
            [
             0.4444444444444444,
             "#bd3786"
            ],
            [
             0.5555555555555556,
             "#d8576b"
            ],
            [
             0.6666666666666666,
             "#ed7953"
            ],
            [
             0.7777777777777778,
             "#fb9f3a"
            ],
            [
             0.8888888888888888,
             "#fdca26"
            ],
            [
             1,
             "#f0f921"
            ]
           ],
           "sequentialminus": [
            [
             0,
             "#0d0887"
            ],
            [
             0.1111111111111111,
             "#46039f"
            ],
            [
             0.2222222222222222,
             "#7201a8"
            ],
            [
             0.3333333333333333,
             "#9c179e"
            ],
            [
             0.4444444444444444,
             "#bd3786"
            ],
            [
             0.5555555555555556,
             "#d8576b"
            ],
            [
             0.6666666666666666,
             "#ed7953"
            ],
            [
             0.7777777777777778,
             "#fb9f3a"
            ],
            [
             0.8888888888888888,
             "#fdca26"
            ],
            [
             1,
             "#f0f921"
            ]
           ]
          },
          "colorway": [
           "#636efa",
           "#EF553B",
           "#00cc96",
           "#ab63fa",
           "#FFA15A",
           "#19d3f3",
           "#FF6692",
           "#B6E880",
           "#FF97FF",
           "#FECB52"
          ],
          "font": {
           "color": "#2a3f5f"
          },
          "geo": {
           "bgcolor": "white",
           "lakecolor": "white",
           "landcolor": "#E5ECF6",
           "showlakes": true,
           "showland": true,
           "subunitcolor": "white"
          },
          "hoverlabel": {
           "align": "left"
          },
          "hovermode": "closest",
          "mapbox": {
           "style": "light"
          },
          "paper_bgcolor": "white",
          "plot_bgcolor": "#E5ECF6",
          "polar": {
           "angularaxis": {
            "gridcolor": "white",
            "linecolor": "white",
            "ticks": ""
           },
           "bgcolor": "#E5ECF6",
           "radialaxis": {
            "gridcolor": "white",
            "linecolor": "white",
            "ticks": ""
           }
          },
          "scene": {
           "xaxis": {
            "backgroundcolor": "#E5ECF6",
            "gridcolor": "white",
            "gridwidth": 2,
            "linecolor": "white",
            "showbackground": true,
            "ticks": "",
            "zerolinecolor": "white"
           },
           "yaxis": {
            "backgroundcolor": "#E5ECF6",
            "gridcolor": "white",
            "gridwidth": 2,
            "linecolor": "white",
            "showbackground": true,
            "ticks": "",
            "zerolinecolor": "white"
           },
           "zaxis": {
            "backgroundcolor": "#E5ECF6",
            "gridcolor": "white",
            "gridwidth": 2,
            "linecolor": "white",
            "showbackground": true,
            "ticks": "",
            "zerolinecolor": "white"
           }
          },
          "shapedefaults": {
           "line": {
            "color": "#2a3f5f"
           }
          },
          "ternary": {
           "aaxis": {
            "gridcolor": "white",
            "linecolor": "white",
            "ticks": ""
           },
           "baxis": {
            "gridcolor": "white",
            "linecolor": "white",
            "ticks": ""
           },
           "bgcolor": "#E5ECF6",
           "caxis": {
            "gridcolor": "white",
            "linecolor": "white",
            "ticks": ""
           }
          },
          "title": {
           "x": 0.05
          },
          "xaxis": {
           "automargin": true,
           "gridcolor": "white",
           "linecolor": "white",
           "ticks": "",
           "title": {
            "standoff": 15
           },
           "zerolinecolor": "white",
           "zerolinewidth": 2
          },
          "yaxis": {
           "automargin": true,
           "gridcolor": "white",
           "linecolor": "white",
           "ticks": "",
           "title": {
            "standoff": 15
           },
           "zerolinecolor": "white",
           "zerolinewidth": 2
          }
         }
        },
        "title": {
         "text": "User journey stage 1"
        }
       }
      }
     },
     "metadata": {},
     "output_type": "display_data"
    }
   ],
   "source": [
    "df = pd.read_csv('data/first_play_short_2_drop.csv')\n",
    "df = df.dropna()\n",
    "\n",
    "total_user = df[df['source']=='client_enter_game-1']['user'].sum()\n",
    "\n",
    "df['user'] = df.apply(lambda x: round(x['user'] / total_user * 100, 1), axis=1)\n",
    "\n",
    "\n",
    "all_nodes = df.source.values.tolist() + df.target.values.tolist()\n",
    "\n",
    "source_indices = [all_nodes.index(source) for source in df.source]\n",
    "target_indices = [all_nodes.index(target) for target in df.target]\n",
    "\n",
    "colors = px.colors.qualitative.Plotly\n",
    "\n",
    "node_colors_mappings = dict([(node, np.random.choice(colors)) for node in all_nodes])\n",
    "\n",
    "node_colors = [node_colors_mappings[node] for node in all_nodes]\n",
    "edge_colors = [node_colors_mappings[node] for node in df.source]\n",
    "\n",
    "fig = go.Figure(data=[\n",
    "    go.Sankey(\n",
    "        node=dict(pad=20,\n",
    "                  thickness=20,\n",
    "                  line=dict(color='black', width=1.0),\n",
    "                  label=all_nodes,\n",
    "                  color=node_colors),\n",
    "        link=dict(source=source_indices,\n",
    "                  target=target_indices,\n",
    "                  value=df.user,\n",
    "                  color=edge_colors)\n",
    "    )\n",
    "])\n",
    "\n",
    "fig.update_layout(title_text=\"User journey stage 1\",\n",
    "                  height=1000,\n",
    "                  font=dict(size=10, color='white'),\n",
    "                  plot_bgcolor='rgba(0,0,0,0)',\n",
    "                  paper_bgcolor='grey')\n",
    "\n",
    "fig.show()\n",
    "fig.write_html(\"9min_drop_play2.html\")"
   ]
  },
  {
   "cell_type": "code",
   "execution_count": 96,
   "metadata": {},
   "outputs": [
    {
     "data": {
      "application/vnd.plotly.v1+json": {
       "config": {
        "plotlyServerURL": "https://plot.ly"
       },
       "data": [
        {
         "link": {
          "color": [
           "#EF553B",
           "#00CC96",
           "#B6E880",
           "#EF553B",
           "#EF553B",
           "#00CC96",
           "#EF553B",
           "#00CC96",
           "#EF553B",
           "#19D3F3",
           "#FF97FF",
           "#00CC96",
           "#19D3F3",
           "#FF97FF",
           "#EF553B",
           "#B6E880",
           "#B6E880",
           "#FECB52",
           "#636EFA",
           "#EF553B",
           "#19D3F3",
           "#B6E880",
           "#19D3F3",
           "#636EFA",
           "#EF553B",
           "#EF553B",
           "#636EFA",
           "#EF553B",
           "#FF97FF",
           "#EF553B",
           "#636EFA",
           "#FF97FF",
           "#B6E880",
           "#EF553B",
           "#00CC96",
           "#FECB52",
           "#19D3F3",
           "#B6E880",
           "#EF553B",
           "#19D3F3",
           "#B6E880",
           "#19D3F3",
           "#B6E880",
           "#EF553B",
           "#00CC96",
           "#19D3F3",
           "#19D3F3",
           "#636EFA",
           "#EF553B"
          ],
          "source": [
           0,
           1,
           2,
           0,
           4,
           1,
           0,
           1,
           0,
           9,
           10,
           1,
           9,
           10,
           4,
           2,
           16,
           17,
           18,
           4,
           20,
           2,
           9,
           18,
           24,
           0,
           18,
           0,
           10,
           4,
           18,
           10,
           2,
           0,
           1,
           17,
           9,
           16,
           4,
           9,
           16,
           20,
           16,
           0,
           1,
           20,
           20,
           18,
           4
          ],
          "target": [
           49,
           4,
           1,
           18,
           10,
           10,
           17,
           24,
           1,
           24,
           16,
           9,
           49,
           49,
           24,
           10,
           9,
           49,
           10,
           16,
           49,
           4,
           20,
           4,
           49,
           2,
           1,
           20,
           24,
           9,
           49,
           9,
           49,
           24,
           49,
           1,
           16,
           24,
           49,
           1,
           10,
           1,
           49,
           9,
           16,
           24,
           10,
           24,
           17
          ],
          "value": [
           14.5,
           49.8,
           37.8,
           21.6,
           34.2,
           9,
           6,
           4,
           5,
           21.4,
           4.9,
           0.9,
           6.4,
           2.4,
           5,
           0.1,
           3.4,
           0.8,
           0,
           0.4,
           0.3,
           0.1,
           0,
           0,
           51.9,
           46.5,
           17.9,
           4.7,
           16.9,
           6.5,
           3.6,
           19.4,
           8.5,
           1.5,
           6.4,
           5.2,
           2.5,
           2.8,
           3.8,
           0,
           0.3,
           4.3,
           1.4,
           0,
           0.2,
           0,
           0,
           0,
           0
          ]
         },
         "node": {
          "color": [
           "#EF553B",
           "#00CC96",
           "#B6E880",
           "#EF553B",
           "#EF553B",
           "#00CC96",
           "#EF553B",
           "#00CC96",
           "#EF553B",
           "#19D3F3",
           "#FF97FF",
           "#00CC96",
           "#19D3F3",
           "#FF97FF",
           "#EF553B",
           "#B6E880",
           "#B6E880",
           "#FECB52",
           "#636EFA",
           "#EF553B",
           "#19D3F3",
           "#B6E880",
           "#19D3F3",
           "#636EFA",
           "#EF553B",
           "#EF553B",
           "#636EFA",
           "#EF553B",
           "#FF97FF",
           "#EF553B",
           "#636EFA",
           "#FF97FF",
           "#B6E880",
           "#EF553B",
           "#00CC96",
           "#FECB52",
           "#19D3F3",
           "#B6E880",
           "#EF553B",
           "#19D3F3",
           "#B6E880",
           "#19D3F3",
           "#B6E880",
           "#EF553B",
           "#00CC96",
           "#19D3F3",
           "#19D3F3",
           "#636EFA",
           "#EF553B",
           "#FF6692",
           "#EF553B",
           "#00CC96",
           "#636EFA",
           "#FF97FF",
           "#FF97FF",
           "#FECB52",
           "#EF553B",
           "#00CC96",
           "#EF553B",
           "#B6E880",
           "#19D3F3",
           "#FF6692",
           "#FF6692",
           "#EF553B",
           "#FF97FF",
           "#19D3F3",
           "#FF6692",
           "#FF97FF",
           "#B6E880",
           "#FF6692",
           "#EF553B",
           "#19D3F3",
           "#EF553B",
           "#FF6692",
           "#B6E880",
           "#00CC96",
           "#19D3F3",
           "#EF553B",
           "#19D3F3",
           "#FF6692",
           "#19D3F3",
           "#FF6692",
           "#EF553B",
           "#FF6692",
           "#00CC96",
           "#B6E880",
           "#EF553B",
           "#FF6692",
           "#00CC96",
           "#FF97FF",
           "#00CC96",
           "#FF6692",
           "#19D3F3",
           "#B6E880",
           "#EF553B",
           "#FF97FF",
           "#EF553B",
           "#FECB52"
          ],
          "label": [
           "client_enter_game-1",
           "client_lobby-1",
           "stage_end-lose_level 0 - 10",
           "client_enter_game-1",
           "client_tutorial-TargetMissionDescription-1",
           "client_lobby-1",
           "client_enter_game-1",
           "client_lobby-1",
           "client_enter_game-1",
           "earn_resource-1",
           "client_tutorial-TargetEquipmentEquip-1",
           "client_lobby-1",
           "earn_resource-1",
           "client_tutorial-TargetEquipmentEquip-1",
           "client_tutorial-TargetMissionDescription-1",
           "stage_end-lose_level 0 - 10",
           "client_enter_shop-1",
           "stage_end-lose_level >= 25",
           "stage_end-lose_level 10 - 25",
           "client_tutorial-TargetMissionDescription-1",
           "stage_end-won",
           "stage_end-lose_level 0 - 10",
           "earn_resource-1",
           "stage_end-lose_level 10 - 25",
           "client_enter_game-2",
           "client_enter_game-1",
           "stage_end-lose_level 10 - 25",
           "client_enter_game-1",
           "client_tutorial-TargetEquipmentEquip-1",
           "client_tutorial-TargetMissionDescription-1",
           "stage_end-lose_level 10 - 25",
           "client_tutorial-TargetEquipmentEquip-1",
           "stage_end-lose_level 0 - 10",
           "client_enter_game-1",
           "client_lobby-1",
           "stage_end-lose_level >= 25",
           "earn_resource-1",
           "client_enter_shop-1",
           "client_tutorial-TargetMissionDescription-1",
           "earn_resource-1",
           "client_enter_shop-1",
           "stage_end-won",
           "client_enter_shop-1",
           "client_enter_game-1",
           "client_lobby-1",
           "stage_end-won",
           "stage_end-won",
           "stage_end-lose_level 10 - 25",
           "client_tutorial-TargetMissionDescription-1",
           "churn",
           "client_tutorial-TargetMissionDescription-1",
           "client_lobby-1",
           "stage_end-lose_level 10 - 25",
           "client_tutorial-TargetEquipmentEquip-1",
           "client_tutorial-TargetEquipmentEquip-1",
           "stage_end-lose_level >= 25",
           "client_enter_game-2",
           "client_lobby-1",
           "client_enter_game-2",
           "client_enter_shop-1",
           "earn_resource-1",
           "churn",
           "churn",
           "client_enter_game-2",
           "client_tutorial-TargetEquipmentEquip-1",
           "earn_resource-1",
           "churn",
           "client_tutorial-TargetEquipmentEquip-1",
           "client_enter_shop-1",
           "churn",
           "client_tutorial-TargetMissionDescription-1",
           "stage_end-won",
           "client_tutorial-TargetMissionDescription-1",
           "churn",
           "stage_end-lose_level 0 - 10",
           "client_lobby-1",
           "stage_end-won",
           "client_enter_game-2",
           "earn_resource-1",
           "churn",
           "earn_resource-1",
           "churn",
           "client_enter_game-2",
           "churn",
           "client_lobby-1",
           "client_enter_shop-1",
           "client_enter_game-2",
           "churn",
           "client_lobby-1",
           "client_tutorial-TargetEquipmentEquip-1",
           "client_lobby-1",
           "churn",
           "earn_resource-1",
           "client_enter_shop-1",
           "client_enter_game-2",
           "client_tutorial-TargetEquipmentEquip-1",
           "client_enter_game-2",
           "stage_end-lose_level >= 25"
          ],
          "line": {
           "color": "black",
           "width": 1
          },
          "pad": 20,
          "thickness": 20
         },
         "type": "sankey"
        }
       ],
       "layout": {
        "font": {
         "color": "white",
         "size": 10
        },
        "height": 1000,
        "paper_bgcolor": "grey",
        "plot_bgcolor": "rgba(0,0,0,0)",
        "template": {
         "data": {
          "bar": [
           {
            "error_x": {
             "color": "#2a3f5f"
            },
            "error_y": {
             "color": "#2a3f5f"
            },
            "marker": {
             "line": {
              "color": "#E5ECF6",
              "width": 0.5
             },
             "pattern": {
              "fillmode": "overlay",
              "size": 10,
              "solidity": 0.2
             }
            },
            "type": "bar"
           }
          ],
          "barpolar": [
           {
            "marker": {
             "line": {
              "color": "#E5ECF6",
              "width": 0.5
             },
             "pattern": {
              "fillmode": "overlay",
              "size": 10,
              "solidity": 0.2
             }
            },
            "type": "barpolar"
           }
          ],
          "carpet": [
           {
            "aaxis": {
             "endlinecolor": "#2a3f5f",
             "gridcolor": "white",
             "linecolor": "white",
             "minorgridcolor": "white",
             "startlinecolor": "#2a3f5f"
            },
            "baxis": {
             "endlinecolor": "#2a3f5f",
             "gridcolor": "white",
             "linecolor": "white",
             "minorgridcolor": "white",
             "startlinecolor": "#2a3f5f"
            },
            "type": "carpet"
           }
          ],
          "choropleth": [
           {
            "colorbar": {
             "outlinewidth": 0,
             "ticks": ""
            },
            "type": "choropleth"
           }
          ],
          "contour": [
           {
            "colorbar": {
             "outlinewidth": 0,
             "ticks": ""
            },
            "colorscale": [
             [
              0,
              "#0d0887"
             ],
             [
              0.1111111111111111,
              "#46039f"
             ],
             [
              0.2222222222222222,
              "#7201a8"
             ],
             [
              0.3333333333333333,
              "#9c179e"
             ],
             [
              0.4444444444444444,
              "#bd3786"
             ],
             [
              0.5555555555555556,
              "#d8576b"
             ],
             [
              0.6666666666666666,
              "#ed7953"
             ],
             [
              0.7777777777777778,
              "#fb9f3a"
             ],
             [
              0.8888888888888888,
              "#fdca26"
             ],
             [
              1,
              "#f0f921"
             ]
            ],
            "type": "contour"
           }
          ],
          "contourcarpet": [
           {
            "colorbar": {
             "outlinewidth": 0,
             "ticks": ""
            },
            "type": "contourcarpet"
           }
          ],
          "heatmap": [
           {
            "colorbar": {
             "outlinewidth": 0,
             "ticks": ""
            },
            "colorscale": [
             [
              0,
              "#0d0887"
             ],
             [
              0.1111111111111111,
              "#46039f"
             ],
             [
              0.2222222222222222,
              "#7201a8"
             ],
             [
              0.3333333333333333,
              "#9c179e"
             ],
             [
              0.4444444444444444,
              "#bd3786"
             ],
             [
              0.5555555555555556,
              "#d8576b"
             ],
             [
              0.6666666666666666,
              "#ed7953"
             ],
             [
              0.7777777777777778,
              "#fb9f3a"
             ],
             [
              0.8888888888888888,
              "#fdca26"
             ],
             [
              1,
              "#f0f921"
             ]
            ],
            "type": "heatmap"
           }
          ],
          "heatmapgl": [
           {
            "colorbar": {
             "outlinewidth": 0,
             "ticks": ""
            },
            "colorscale": [
             [
              0,
              "#0d0887"
             ],
             [
              0.1111111111111111,
              "#46039f"
             ],
             [
              0.2222222222222222,
              "#7201a8"
             ],
             [
              0.3333333333333333,
              "#9c179e"
             ],
             [
              0.4444444444444444,
              "#bd3786"
             ],
             [
              0.5555555555555556,
              "#d8576b"
             ],
             [
              0.6666666666666666,
              "#ed7953"
             ],
             [
              0.7777777777777778,
              "#fb9f3a"
             ],
             [
              0.8888888888888888,
              "#fdca26"
             ],
             [
              1,
              "#f0f921"
             ]
            ],
            "type": "heatmapgl"
           }
          ],
          "histogram": [
           {
            "marker": {
             "pattern": {
              "fillmode": "overlay",
              "size": 10,
              "solidity": 0.2
             }
            },
            "type": "histogram"
           }
          ],
          "histogram2d": [
           {
            "colorbar": {
             "outlinewidth": 0,
             "ticks": ""
            },
            "colorscale": [
             [
              0,
              "#0d0887"
             ],
             [
              0.1111111111111111,
              "#46039f"
             ],
             [
              0.2222222222222222,
              "#7201a8"
             ],
             [
              0.3333333333333333,
              "#9c179e"
             ],
             [
              0.4444444444444444,
              "#bd3786"
             ],
             [
              0.5555555555555556,
              "#d8576b"
             ],
             [
              0.6666666666666666,
              "#ed7953"
             ],
             [
              0.7777777777777778,
              "#fb9f3a"
             ],
             [
              0.8888888888888888,
              "#fdca26"
             ],
             [
              1,
              "#f0f921"
             ]
            ],
            "type": "histogram2d"
           }
          ],
          "histogram2dcontour": [
           {
            "colorbar": {
             "outlinewidth": 0,
             "ticks": ""
            },
            "colorscale": [
             [
              0,
              "#0d0887"
             ],
             [
              0.1111111111111111,
              "#46039f"
             ],
             [
              0.2222222222222222,
              "#7201a8"
             ],
             [
              0.3333333333333333,
              "#9c179e"
             ],
             [
              0.4444444444444444,
              "#bd3786"
             ],
             [
              0.5555555555555556,
              "#d8576b"
             ],
             [
              0.6666666666666666,
              "#ed7953"
             ],
             [
              0.7777777777777778,
              "#fb9f3a"
             ],
             [
              0.8888888888888888,
              "#fdca26"
             ],
             [
              1,
              "#f0f921"
             ]
            ],
            "type": "histogram2dcontour"
           }
          ],
          "mesh3d": [
           {
            "colorbar": {
             "outlinewidth": 0,
             "ticks": ""
            },
            "type": "mesh3d"
           }
          ],
          "parcoords": [
           {
            "line": {
             "colorbar": {
              "outlinewidth": 0,
              "ticks": ""
             }
            },
            "type": "parcoords"
           }
          ],
          "pie": [
           {
            "automargin": true,
            "type": "pie"
           }
          ],
          "scatter": [
           {
            "fillpattern": {
             "fillmode": "overlay",
             "size": 10,
             "solidity": 0.2
            },
            "type": "scatter"
           }
          ],
          "scatter3d": [
           {
            "line": {
             "colorbar": {
              "outlinewidth": 0,
              "ticks": ""
             }
            },
            "marker": {
             "colorbar": {
              "outlinewidth": 0,
              "ticks": ""
             }
            },
            "type": "scatter3d"
           }
          ],
          "scattercarpet": [
           {
            "marker": {
             "colorbar": {
              "outlinewidth": 0,
              "ticks": ""
             }
            },
            "type": "scattercarpet"
           }
          ],
          "scattergeo": [
           {
            "marker": {
             "colorbar": {
              "outlinewidth": 0,
              "ticks": ""
             }
            },
            "type": "scattergeo"
           }
          ],
          "scattergl": [
           {
            "marker": {
             "colorbar": {
              "outlinewidth": 0,
              "ticks": ""
             }
            },
            "type": "scattergl"
           }
          ],
          "scattermapbox": [
           {
            "marker": {
             "colorbar": {
              "outlinewidth": 0,
              "ticks": ""
             }
            },
            "type": "scattermapbox"
           }
          ],
          "scatterpolar": [
           {
            "marker": {
             "colorbar": {
              "outlinewidth": 0,
              "ticks": ""
             }
            },
            "type": "scatterpolar"
           }
          ],
          "scatterpolargl": [
           {
            "marker": {
             "colorbar": {
              "outlinewidth": 0,
              "ticks": ""
             }
            },
            "type": "scatterpolargl"
           }
          ],
          "scatterternary": [
           {
            "marker": {
             "colorbar": {
              "outlinewidth": 0,
              "ticks": ""
             }
            },
            "type": "scatterternary"
           }
          ],
          "surface": [
           {
            "colorbar": {
             "outlinewidth": 0,
             "ticks": ""
            },
            "colorscale": [
             [
              0,
              "#0d0887"
             ],
             [
              0.1111111111111111,
              "#46039f"
             ],
             [
              0.2222222222222222,
              "#7201a8"
             ],
             [
              0.3333333333333333,
              "#9c179e"
             ],
             [
              0.4444444444444444,
              "#bd3786"
             ],
             [
              0.5555555555555556,
              "#d8576b"
             ],
             [
              0.6666666666666666,
              "#ed7953"
             ],
             [
              0.7777777777777778,
              "#fb9f3a"
             ],
             [
              0.8888888888888888,
              "#fdca26"
             ],
             [
              1,
              "#f0f921"
             ]
            ],
            "type": "surface"
           }
          ],
          "table": [
           {
            "cells": {
             "fill": {
              "color": "#EBF0F8"
             },
             "line": {
              "color": "white"
             }
            },
            "header": {
             "fill": {
              "color": "#C8D4E3"
             },
             "line": {
              "color": "white"
             }
            },
            "type": "table"
           }
          ]
         },
         "layout": {
          "annotationdefaults": {
           "arrowcolor": "#2a3f5f",
           "arrowhead": 0,
           "arrowwidth": 1
          },
          "autotypenumbers": "strict",
          "coloraxis": {
           "colorbar": {
            "outlinewidth": 0,
            "ticks": ""
           }
          },
          "colorscale": {
           "diverging": [
            [
             0,
             "#8e0152"
            ],
            [
             0.1,
             "#c51b7d"
            ],
            [
             0.2,
             "#de77ae"
            ],
            [
             0.3,
             "#f1b6da"
            ],
            [
             0.4,
             "#fde0ef"
            ],
            [
             0.5,
             "#f7f7f7"
            ],
            [
             0.6,
             "#e6f5d0"
            ],
            [
             0.7,
             "#b8e186"
            ],
            [
             0.8,
             "#7fbc41"
            ],
            [
             0.9,
             "#4d9221"
            ],
            [
             1,
             "#276419"
            ]
           ],
           "sequential": [
            [
             0,
             "#0d0887"
            ],
            [
             0.1111111111111111,
             "#46039f"
            ],
            [
             0.2222222222222222,
             "#7201a8"
            ],
            [
             0.3333333333333333,
             "#9c179e"
            ],
            [
             0.4444444444444444,
             "#bd3786"
            ],
            [
             0.5555555555555556,
             "#d8576b"
            ],
            [
             0.6666666666666666,
             "#ed7953"
            ],
            [
             0.7777777777777778,
             "#fb9f3a"
            ],
            [
             0.8888888888888888,
             "#fdca26"
            ],
            [
             1,
             "#f0f921"
            ]
           ],
           "sequentialminus": [
            [
             0,
             "#0d0887"
            ],
            [
             0.1111111111111111,
             "#46039f"
            ],
            [
             0.2222222222222222,
             "#7201a8"
            ],
            [
             0.3333333333333333,
             "#9c179e"
            ],
            [
             0.4444444444444444,
             "#bd3786"
            ],
            [
             0.5555555555555556,
             "#d8576b"
            ],
            [
             0.6666666666666666,
             "#ed7953"
            ],
            [
             0.7777777777777778,
             "#fb9f3a"
            ],
            [
             0.8888888888888888,
             "#fdca26"
            ],
            [
             1,
             "#f0f921"
            ]
           ]
          },
          "colorway": [
           "#636efa",
           "#EF553B",
           "#00cc96",
           "#ab63fa",
           "#FFA15A",
           "#19d3f3",
           "#FF6692",
           "#B6E880",
           "#FF97FF",
           "#FECB52"
          ],
          "font": {
           "color": "#2a3f5f"
          },
          "geo": {
           "bgcolor": "white",
           "lakecolor": "white",
           "landcolor": "#E5ECF6",
           "showlakes": true,
           "showland": true,
           "subunitcolor": "white"
          },
          "hoverlabel": {
           "align": "left"
          },
          "hovermode": "closest",
          "mapbox": {
           "style": "light"
          },
          "paper_bgcolor": "white",
          "plot_bgcolor": "#E5ECF6",
          "polar": {
           "angularaxis": {
            "gridcolor": "white",
            "linecolor": "white",
            "ticks": ""
           },
           "bgcolor": "#E5ECF6",
           "radialaxis": {
            "gridcolor": "white",
            "linecolor": "white",
            "ticks": ""
           }
          },
          "scene": {
           "xaxis": {
            "backgroundcolor": "#E5ECF6",
            "gridcolor": "white",
            "gridwidth": 2,
            "linecolor": "white",
            "showbackground": true,
            "ticks": "",
            "zerolinecolor": "white"
           },
           "yaxis": {
            "backgroundcolor": "#E5ECF6",
            "gridcolor": "white",
            "gridwidth": 2,
            "linecolor": "white",
            "showbackground": true,
            "ticks": "",
            "zerolinecolor": "white"
           },
           "zaxis": {
            "backgroundcolor": "#E5ECF6",
            "gridcolor": "white",
            "gridwidth": 2,
            "linecolor": "white",
            "showbackground": true,
            "ticks": "",
            "zerolinecolor": "white"
           }
          },
          "shapedefaults": {
           "line": {
            "color": "#2a3f5f"
           }
          },
          "ternary": {
           "aaxis": {
            "gridcolor": "white",
            "linecolor": "white",
            "ticks": ""
           },
           "baxis": {
            "gridcolor": "white",
            "linecolor": "white",
            "ticks": ""
           },
           "bgcolor": "#E5ECF6",
           "caxis": {
            "gridcolor": "white",
            "linecolor": "white",
            "ticks": ""
           }
          },
          "title": {
           "x": 0.05
          },
          "xaxis": {
           "automargin": true,
           "gridcolor": "white",
           "linecolor": "white",
           "ticks": "",
           "title": {
            "standoff": 15
           },
           "zerolinecolor": "white",
           "zerolinewidth": 2
          },
          "yaxis": {
           "automargin": true,
           "gridcolor": "white",
           "linecolor": "white",
           "ticks": "",
           "title": {
            "standoff": 15
           },
           "zerolinecolor": "white",
           "zerolinewidth": 2
          }
         }
        },
        "title": {
         "text": "User journey stage 1"
        }
       }
      }
     },
     "metadata": {},
     "output_type": "display_data"
    }
   ],
   "source": [
    "df = pd.read_csv('data/first_play_short_2_drop.csv')\n",
    "df = df.dropna()\n",
    "\n",
    "total_user = df[df['source']=='client_enter_game-1']['user'].sum()\n",
    "\n",
    "df['user'] = df.apply(lambda x: round(x['user'] / total_user * 100, 1), axis=1)\n",
    "\n",
    "\n",
    "all_nodes = df.source.values.tolist() + df.target.values.tolist()\n",
    "\n",
    "source_indices = [all_nodes.index(source) for source in df.source]\n",
    "target_indices = [all_nodes.index(target) for target in df.target]\n",
    "\n",
    "colors = px.colors.qualitative.Plotly\n",
    "\n",
    "node_colors_mappings = dict([(node, np.random.choice(colors)) for node in all_nodes])\n",
    "\n",
    "node_colors = [node_colors_mappings[node] for node in all_nodes]\n",
    "edge_colors = [node_colors_mappings[node] for node in df.source]\n",
    "\n",
    "fig = go.Figure(data=[\n",
    "    go.Sankey(\n",
    "        node=dict(pad=20,\n",
    "                  thickness=20,\n",
    "                  line=dict(color='black', width=1.0),\n",
    "                  label=all_nodes,\n",
    "                  color=node_colors),\n",
    "        link=dict(source=source_indices,\n",
    "                  target=target_indices,\n",
    "                  value=df.user,\n",
    "                  color=edge_colors)\n",
    "    )\n",
    "])\n",
    "\n",
    "fig.update_layout(title_text=\"User journey stage 1\",\n",
    "                  height=1000,\n",
    "                  font=dict(size=10, color='white'),\n",
    "                  plot_bgcolor='rgba(0,0,0,0)',\n",
    "                  paper_bgcolor='grey')\n",
    "\n",
    "fig.show()\n",
    "fig.write_html(\"9min_drop_play2_level.html\")"
   ]
  },
  {
   "cell_type": "code",
   "execution_count": 3,
   "metadata": {},
   "outputs": [
    {
     "data": {
      "text/plain": [
       "array(['stage_end-lose_<=360', 'stage_end-lose_<= 540',\n",
       "       'stage_end-won_<= 540', 'client_lobby-2', 'earn_resource-2',\n",
       "       'client_enter_game-2', 'client_enter_shop-2',\n",
       "       'client_tutorial-TargetEquipmentEquip-2',\n",
       "       'client_tutorial-TargetMissionDescription-2', 'client_tutorial-2',\n",
       "       'stage_end-lose_<=150', 'client_enter_game-3',\n",
       "       'stage_end-won_<=360'], dtype=object)"
      ]
     },
     "execution_count": 3,
     "metadata": {},
     "output_type": "execute_result"
    }
   ],
   "source": [
    "df['source'].unique()"
   ]
  },
  {
   "cell_type": "code",
   "execution_count": 55,
   "metadata": {},
   "outputs": [
    {
     "data": {
      "application/vnd.plotly.v1+json": {
       "config": {
        "plotlyServerURL": "https://plot.ly"
       },
       "data": [
        {
         "link": {
          "color": [
           "#FFA15A",
           "#FFA15A",
           "#FFA15A",
           "#FFA15A",
           "#FFA15A",
           "#FFA15A",
           "#636EFA",
           "#FF97FF",
           "#FF97FF",
           "#FF97FF",
           "#FF97FF",
           "#00CC96",
           "#00CC96",
           "#00CC96",
           "#00CC96",
           "#00CC96",
           "#FF97FF",
           "#FF97FF",
           "#FF97FF",
           "#FF97FF",
           "#00CC96",
           "#00CC96",
           "#00CC96",
           "#FFA15A",
           "#FFA15A",
           "#AB63FA",
           "#AB63FA",
           "#FFA15A",
           "#FFA15A",
           "#FF6692",
           "#FF6692"
          ],
          "source": [
           0,
           0,
           0,
           0,
           0,
           0,
           6,
           7,
           7,
           7,
           7,
           11,
           11,
           11,
           11,
           11,
           16,
           16,
           16,
           16,
           20,
           20,
           20,
           23,
           23,
           25,
           25,
           27,
           27,
           29,
           29
          ],
          "target": [
           31,
           11,
           23,
           25,
           27,
           29,
           31,
           31,
           6,
           16,
           20,
           31,
           6,
           7,
           16,
           20,
           31,
           6,
           7,
           20,
           31,
           6,
           7,
           31,
           11,
           31,
           11,
           31,
           11,
           31,
           11
          ],
          "value": [
           18.5,
           13.4,
           18.4,
           9.3,
           20.5,
           19.8,
           58.9,
           0.6,
           5.6,
           0.2,
           1.5,
           6.8,
           24.5,
           2.6,
           28.7,
           13.4,
           5.3,
           3.6,
           0.7,
           19.3,
           4.1,
           25.2,
           4.6,
           3.4,
           16.1,
           1.6,
           7.9,
           3.4,
           19.1,
           0.7,
           19.1
          ]
         },
         "node": {
          "color": [
           "#FFA15A",
           "#FFA15A",
           "#FFA15A",
           "#FFA15A",
           "#FFA15A",
           "#FFA15A",
           "#636EFA",
           "#FF97FF",
           "#FF97FF",
           "#FF97FF",
           "#FF97FF",
           "#00CC96",
           "#00CC96",
           "#00CC96",
           "#00CC96",
           "#00CC96",
           "#FF97FF",
           "#FF97FF",
           "#FF97FF",
           "#FF97FF",
           "#00CC96",
           "#00CC96",
           "#00CC96",
           "#FFA15A",
           "#FFA15A",
           "#AB63FA",
           "#AB63FA",
           "#FFA15A",
           "#FFA15A",
           "#FF6692",
           "#FF6692",
           "#FF6692",
           "#00CC96",
           "#FFA15A",
           "#AB63FA",
           "#FFA15A",
           "#FF6692",
           "#FF6692",
           "#FF6692",
           "#636EFA",
           "#FF97FF",
           "#00CC96",
           "#FF6692",
           "#636EFA",
           "#FF97FF",
           "#FF97FF",
           "#00CC96",
           "#FF6692",
           "#636EFA",
           "#FF97FF",
           "#00CC96",
           "#FF6692",
           "#636EFA",
           "#FF97FF",
           "#FF6692",
           "#00CC96",
           "#FF6692",
           "#00CC96",
           "#FF6692",
           "#00CC96",
           "#FF6692",
           "#00CC96"
          ],
          "label": [
           "client_enter_game-2",
           "client_enter_game-2",
           "client_enter_game-2",
           "client_enter_game-2",
           "client_enter_game-2",
           "client_enter_game-2",
           "client_enter_game-3",
           "client_enter_shop-2",
           "client_enter_shop-2",
           "client_enter_shop-2",
           "client_enter_shop-2",
           "client_lobby-2",
           "client_lobby-2",
           "client_lobby-2",
           "client_lobby-2",
           "client_lobby-2",
           "client_tutorial-2",
           "client_tutorial-2",
           "client_tutorial-2",
           "client_tutorial-2",
           "earn_resource-2",
           "earn_resource-2",
           "earn_resource-2",
           "stage_end-lose_180->360",
           "stage_end-lose_180->360",
           "stage_end-lose_360->540",
           "stage_end-lose_360->540",
           "stage_end-lose_<=180",
           "stage_end-lose_<=180",
           "stage_end-won",
           "stage_end-won",
           "Churn",
           "client_lobby-2",
           "stage_end-lose_180->360",
           "stage_end-lose_360->540",
           "stage_end-lose_<=180",
           "stage_end-won",
           "Churn",
           "Churn",
           "client_enter_game-3",
           "client_tutorial-2",
           "earn_resource-2",
           "Churn",
           "client_enter_game-3",
           "client_enter_shop-2",
           "client_tutorial-2",
           "earn_resource-2",
           "Churn",
           "client_enter_game-3",
           "client_enter_shop-2",
           "earn_resource-2",
           "Churn",
           "client_enter_game-3",
           "client_enter_shop-2",
           "Churn",
           "client_lobby-2",
           "Churn",
           "client_lobby-2",
           "Churn",
           "client_lobby-2",
           "Churn",
           "client_lobby-2"
          ],
          "line": {
           "color": "black",
           "width": 1
          },
          "pad": 20,
          "thickness": 20
         },
         "type": "sankey"
        }
       ],
       "layout": {
        "font": {
         "color": "white",
         "size": 10
        },
        "height": 1000,
        "paper_bgcolor": "grey",
        "plot_bgcolor": "rgba(0,0,0,0)",
        "template": {
         "data": {
          "bar": [
           {
            "error_x": {
             "color": "#2a3f5f"
            },
            "error_y": {
             "color": "#2a3f5f"
            },
            "marker": {
             "line": {
              "color": "#E5ECF6",
              "width": 0.5
             },
             "pattern": {
              "fillmode": "overlay",
              "size": 10,
              "solidity": 0.2
             }
            },
            "type": "bar"
           }
          ],
          "barpolar": [
           {
            "marker": {
             "line": {
              "color": "#E5ECF6",
              "width": 0.5
             },
             "pattern": {
              "fillmode": "overlay",
              "size": 10,
              "solidity": 0.2
             }
            },
            "type": "barpolar"
           }
          ],
          "carpet": [
           {
            "aaxis": {
             "endlinecolor": "#2a3f5f",
             "gridcolor": "white",
             "linecolor": "white",
             "minorgridcolor": "white",
             "startlinecolor": "#2a3f5f"
            },
            "baxis": {
             "endlinecolor": "#2a3f5f",
             "gridcolor": "white",
             "linecolor": "white",
             "minorgridcolor": "white",
             "startlinecolor": "#2a3f5f"
            },
            "type": "carpet"
           }
          ],
          "choropleth": [
           {
            "colorbar": {
             "outlinewidth": 0,
             "ticks": ""
            },
            "type": "choropleth"
           }
          ],
          "contour": [
           {
            "colorbar": {
             "outlinewidth": 0,
             "ticks": ""
            },
            "colorscale": [
             [
              0,
              "#0d0887"
             ],
             [
              0.1111111111111111,
              "#46039f"
             ],
             [
              0.2222222222222222,
              "#7201a8"
             ],
             [
              0.3333333333333333,
              "#9c179e"
             ],
             [
              0.4444444444444444,
              "#bd3786"
             ],
             [
              0.5555555555555556,
              "#d8576b"
             ],
             [
              0.6666666666666666,
              "#ed7953"
             ],
             [
              0.7777777777777778,
              "#fb9f3a"
             ],
             [
              0.8888888888888888,
              "#fdca26"
             ],
             [
              1,
              "#f0f921"
             ]
            ],
            "type": "contour"
           }
          ],
          "contourcarpet": [
           {
            "colorbar": {
             "outlinewidth": 0,
             "ticks": ""
            },
            "type": "contourcarpet"
           }
          ],
          "heatmap": [
           {
            "colorbar": {
             "outlinewidth": 0,
             "ticks": ""
            },
            "colorscale": [
             [
              0,
              "#0d0887"
             ],
             [
              0.1111111111111111,
              "#46039f"
             ],
             [
              0.2222222222222222,
              "#7201a8"
             ],
             [
              0.3333333333333333,
              "#9c179e"
             ],
             [
              0.4444444444444444,
              "#bd3786"
             ],
             [
              0.5555555555555556,
              "#d8576b"
             ],
             [
              0.6666666666666666,
              "#ed7953"
             ],
             [
              0.7777777777777778,
              "#fb9f3a"
             ],
             [
              0.8888888888888888,
              "#fdca26"
             ],
             [
              1,
              "#f0f921"
             ]
            ],
            "type": "heatmap"
           }
          ],
          "heatmapgl": [
           {
            "colorbar": {
             "outlinewidth": 0,
             "ticks": ""
            },
            "colorscale": [
             [
              0,
              "#0d0887"
             ],
             [
              0.1111111111111111,
              "#46039f"
             ],
             [
              0.2222222222222222,
              "#7201a8"
             ],
             [
              0.3333333333333333,
              "#9c179e"
             ],
             [
              0.4444444444444444,
              "#bd3786"
             ],
             [
              0.5555555555555556,
              "#d8576b"
             ],
             [
              0.6666666666666666,
              "#ed7953"
             ],
             [
              0.7777777777777778,
              "#fb9f3a"
             ],
             [
              0.8888888888888888,
              "#fdca26"
             ],
             [
              1,
              "#f0f921"
             ]
            ],
            "type": "heatmapgl"
           }
          ],
          "histogram": [
           {
            "marker": {
             "pattern": {
              "fillmode": "overlay",
              "size": 10,
              "solidity": 0.2
             }
            },
            "type": "histogram"
           }
          ],
          "histogram2d": [
           {
            "colorbar": {
             "outlinewidth": 0,
             "ticks": ""
            },
            "colorscale": [
             [
              0,
              "#0d0887"
             ],
             [
              0.1111111111111111,
              "#46039f"
             ],
             [
              0.2222222222222222,
              "#7201a8"
             ],
             [
              0.3333333333333333,
              "#9c179e"
             ],
             [
              0.4444444444444444,
              "#bd3786"
             ],
             [
              0.5555555555555556,
              "#d8576b"
             ],
             [
              0.6666666666666666,
              "#ed7953"
             ],
             [
              0.7777777777777778,
              "#fb9f3a"
             ],
             [
              0.8888888888888888,
              "#fdca26"
             ],
             [
              1,
              "#f0f921"
             ]
            ],
            "type": "histogram2d"
           }
          ],
          "histogram2dcontour": [
           {
            "colorbar": {
             "outlinewidth": 0,
             "ticks": ""
            },
            "colorscale": [
             [
              0,
              "#0d0887"
             ],
             [
              0.1111111111111111,
              "#46039f"
             ],
             [
              0.2222222222222222,
              "#7201a8"
             ],
             [
              0.3333333333333333,
              "#9c179e"
             ],
             [
              0.4444444444444444,
              "#bd3786"
             ],
             [
              0.5555555555555556,
              "#d8576b"
             ],
             [
              0.6666666666666666,
              "#ed7953"
             ],
             [
              0.7777777777777778,
              "#fb9f3a"
             ],
             [
              0.8888888888888888,
              "#fdca26"
             ],
             [
              1,
              "#f0f921"
             ]
            ],
            "type": "histogram2dcontour"
           }
          ],
          "mesh3d": [
           {
            "colorbar": {
             "outlinewidth": 0,
             "ticks": ""
            },
            "type": "mesh3d"
           }
          ],
          "parcoords": [
           {
            "line": {
             "colorbar": {
              "outlinewidth": 0,
              "ticks": ""
             }
            },
            "type": "parcoords"
           }
          ],
          "pie": [
           {
            "automargin": true,
            "type": "pie"
           }
          ],
          "scatter": [
           {
            "fillpattern": {
             "fillmode": "overlay",
             "size": 10,
             "solidity": 0.2
            },
            "type": "scatter"
           }
          ],
          "scatter3d": [
           {
            "line": {
             "colorbar": {
              "outlinewidth": 0,
              "ticks": ""
             }
            },
            "marker": {
             "colorbar": {
              "outlinewidth": 0,
              "ticks": ""
             }
            },
            "type": "scatter3d"
           }
          ],
          "scattercarpet": [
           {
            "marker": {
             "colorbar": {
              "outlinewidth": 0,
              "ticks": ""
             }
            },
            "type": "scattercarpet"
           }
          ],
          "scattergeo": [
           {
            "marker": {
             "colorbar": {
              "outlinewidth": 0,
              "ticks": ""
             }
            },
            "type": "scattergeo"
           }
          ],
          "scattergl": [
           {
            "marker": {
             "colorbar": {
              "outlinewidth": 0,
              "ticks": ""
             }
            },
            "type": "scattergl"
           }
          ],
          "scattermapbox": [
           {
            "marker": {
             "colorbar": {
              "outlinewidth": 0,
              "ticks": ""
             }
            },
            "type": "scattermapbox"
           }
          ],
          "scatterpolar": [
           {
            "marker": {
             "colorbar": {
              "outlinewidth": 0,
              "ticks": ""
             }
            },
            "type": "scatterpolar"
           }
          ],
          "scatterpolargl": [
           {
            "marker": {
             "colorbar": {
              "outlinewidth": 0,
              "ticks": ""
             }
            },
            "type": "scatterpolargl"
           }
          ],
          "scatterternary": [
           {
            "marker": {
             "colorbar": {
              "outlinewidth": 0,
              "ticks": ""
             }
            },
            "type": "scatterternary"
           }
          ],
          "surface": [
           {
            "colorbar": {
             "outlinewidth": 0,
             "ticks": ""
            },
            "colorscale": [
             [
              0,
              "#0d0887"
             ],
             [
              0.1111111111111111,
              "#46039f"
             ],
             [
              0.2222222222222222,
              "#7201a8"
             ],
             [
              0.3333333333333333,
              "#9c179e"
             ],
             [
              0.4444444444444444,
              "#bd3786"
             ],
             [
              0.5555555555555556,
              "#d8576b"
             ],
             [
              0.6666666666666666,
              "#ed7953"
             ],
             [
              0.7777777777777778,
              "#fb9f3a"
             ],
             [
              0.8888888888888888,
              "#fdca26"
             ],
             [
              1,
              "#f0f921"
             ]
            ],
            "type": "surface"
           }
          ],
          "table": [
           {
            "cells": {
             "fill": {
              "color": "#EBF0F8"
             },
             "line": {
              "color": "white"
             }
            },
            "header": {
             "fill": {
              "color": "#C8D4E3"
             },
             "line": {
              "color": "white"
             }
            },
            "type": "table"
           }
          ]
         },
         "layout": {
          "annotationdefaults": {
           "arrowcolor": "#2a3f5f",
           "arrowhead": 0,
           "arrowwidth": 1
          },
          "autotypenumbers": "strict",
          "coloraxis": {
           "colorbar": {
            "outlinewidth": 0,
            "ticks": ""
           }
          },
          "colorscale": {
           "diverging": [
            [
             0,
             "#8e0152"
            ],
            [
             0.1,
             "#c51b7d"
            ],
            [
             0.2,
             "#de77ae"
            ],
            [
             0.3,
             "#f1b6da"
            ],
            [
             0.4,
             "#fde0ef"
            ],
            [
             0.5,
             "#f7f7f7"
            ],
            [
             0.6,
             "#e6f5d0"
            ],
            [
             0.7,
             "#b8e186"
            ],
            [
             0.8,
             "#7fbc41"
            ],
            [
             0.9,
             "#4d9221"
            ],
            [
             1,
             "#276419"
            ]
           ],
           "sequential": [
            [
             0,
             "#0d0887"
            ],
            [
             0.1111111111111111,
             "#46039f"
            ],
            [
             0.2222222222222222,
             "#7201a8"
            ],
            [
             0.3333333333333333,
             "#9c179e"
            ],
            [
             0.4444444444444444,
             "#bd3786"
            ],
            [
             0.5555555555555556,
             "#d8576b"
            ],
            [
             0.6666666666666666,
             "#ed7953"
            ],
            [
             0.7777777777777778,
             "#fb9f3a"
            ],
            [
             0.8888888888888888,
             "#fdca26"
            ],
            [
             1,
             "#f0f921"
            ]
           ],
           "sequentialminus": [
            [
             0,
             "#0d0887"
            ],
            [
             0.1111111111111111,
             "#46039f"
            ],
            [
             0.2222222222222222,
             "#7201a8"
            ],
            [
             0.3333333333333333,
             "#9c179e"
            ],
            [
             0.4444444444444444,
             "#bd3786"
            ],
            [
             0.5555555555555556,
             "#d8576b"
            ],
            [
             0.6666666666666666,
             "#ed7953"
            ],
            [
             0.7777777777777778,
             "#fb9f3a"
            ],
            [
             0.8888888888888888,
             "#fdca26"
            ],
            [
             1,
             "#f0f921"
            ]
           ]
          },
          "colorway": [
           "#636efa",
           "#EF553B",
           "#00cc96",
           "#ab63fa",
           "#FFA15A",
           "#19d3f3",
           "#FF6692",
           "#B6E880",
           "#FF97FF",
           "#FECB52"
          ],
          "font": {
           "color": "#2a3f5f"
          },
          "geo": {
           "bgcolor": "white",
           "lakecolor": "white",
           "landcolor": "#E5ECF6",
           "showlakes": true,
           "showland": true,
           "subunitcolor": "white"
          },
          "hoverlabel": {
           "align": "left"
          },
          "hovermode": "closest",
          "mapbox": {
           "style": "light"
          },
          "paper_bgcolor": "white",
          "plot_bgcolor": "#E5ECF6",
          "polar": {
           "angularaxis": {
            "gridcolor": "white",
            "linecolor": "white",
            "ticks": ""
           },
           "bgcolor": "#E5ECF6",
           "radialaxis": {
            "gridcolor": "white",
            "linecolor": "white",
            "ticks": ""
           }
          },
          "scene": {
           "xaxis": {
            "backgroundcolor": "#E5ECF6",
            "gridcolor": "white",
            "gridwidth": 2,
            "linecolor": "white",
            "showbackground": true,
            "ticks": "",
            "zerolinecolor": "white"
           },
           "yaxis": {
            "backgroundcolor": "#E5ECF6",
            "gridcolor": "white",
            "gridwidth": 2,
            "linecolor": "white",
            "showbackground": true,
            "ticks": "",
            "zerolinecolor": "white"
           },
           "zaxis": {
            "backgroundcolor": "#E5ECF6",
            "gridcolor": "white",
            "gridwidth": 2,
            "linecolor": "white",
            "showbackground": true,
            "ticks": "",
            "zerolinecolor": "white"
           }
          },
          "shapedefaults": {
           "line": {
            "color": "#2a3f5f"
           }
          },
          "ternary": {
           "aaxis": {
            "gridcolor": "white",
            "linecolor": "white",
            "ticks": ""
           },
           "baxis": {
            "gridcolor": "white",
            "linecolor": "white",
            "ticks": ""
           },
           "bgcolor": "#E5ECF6",
           "caxis": {
            "gridcolor": "white",
            "linecolor": "white",
            "ticks": ""
           }
          },
          "title": {
           "x": 0.05
          },
          "xaxis": {
           "automargin": true,
           "gridcolor": "white",
           "linecolor": "white",
           "ticks": "",
           "title": {
            "standoff": 15
           },
           "zerolinecolor": "white",
           "zerolinewidth": 2
          },
          "yaxis": {
           "automargin": true,
           "gridcolor": "white",
           "linecolor": "white",
           "ticks": "",
           "title": {
            "standoff": 15
           },
           "zerolinecolor": "white",
           "zerolinewidth": 2
          }
         }
        },
        "title": {
         "text": "User journey 2nd play to 3rd play"
        }
       }
      }
     },
     "metadata": {},
     "output_type": "display_data"
    }
   ],
   "source": [
    "df = pd.read_csv('data/2nd_play_short.csv')\n",
    "df = df.dropna()\n",
    "\n",
    "total_user = df[df['source']=='client_enter_game-2']['user'].sum()\n",
    "df = df.groupby(['source', 'target'])['user'].sum().reset_index().rename(columns={0:'user'})\n",
    "df['user'] = df.apply(lambda x: round(x['user'] / total_user * 100, 1), axis=1)\n",
    "\n",
    "\n",
    "all_nodes = df.source.values.tolist() + df.target.values.tolist()\n",
    "\n",
    "source_indices = [all_nodes.index(source) for source in df.source]\n",
    "target_indices = [all_nodes.index(target) for target in df.target]\n",
    "\n",
    "colors = px.colors.qualitative.Plotly\n",
    "\n",
    "node_colors_mappings = dict([(node, np.random.choice(colors)) for node in all_nodes])\n",
    "\n",
    "node_colors = [node_colors_mappings[node] for node in all_nodes]\n",
    "edge_colors = [node_colors_mappings[node] for node in df.source]\n",
    "\n",
    "fig = go.Figure(data=[\n",
    "    go.Sankey(\n",
    "        node=dict(pad=20,\n",
    "                  thickness=20,\n",
    "                  line=dict(color='black', width=1.0),\n",
    "                  label=all_nodes,\n",
    "                  color=node_colors),\n",
    "        link=dict(source=source_indices,\n",
    "                  target=target_indices,\n",
    "                  value=df.user,\n",
    "                  color=edge_colors)\n",
    "    )\n",
    "])\n",
    "\n",
    "fig.update_layout(title_text=\"User journey 2nd play to 3rd play\",\n",
    "                  height=1000,\n",
    "                  font=dict(size=10, color='white'),\n",
    "                  plot_bgcolor='rgba(0,0,0,0)',\n",
    "                  paper_bgcolor='grey')\n",
    "\n",
    "fig.show()"
   ]
  },
  {
   "cell_type": "code",
   "execution_count": 56,
   "metadata": {},
   "outputs": [],
   "source": [
    "fig.write_html(\"9min_drop_play3.html\")"
   ]
  },
  {
   "cell_type": "code",
   "execution_count": 44,
   "metadata": {},
   "outputs": [
    {
     "data": {
      "text/plain": [
       "100.1"
      ]
     },
     "execution_count": 44,
     "metadata": {},
     "output_type": "execute_result"
    }
   ],
   "source": [
    "df[df['source']=='client_enter_game-']['user'].sum()"
   ]
  },
  {
   "cell_type": "markdown",
   "metadata": {},
   "source": [
    "# Purchase value graph"
   ]
  },
  {
   "cell_type": "code",
   "execution_count": 6,
   "metadata": {},
   "outputs": [
    {
     "data": {
      "text/html": [
       "<div>\n",
       "<style scoped>\n",
       "    .dataframe tbody tr th:only-of-type {\n",
       "        vertical-align: middle;\n",
       "    }\n",
       "\n",
       "    .dataframe tbody tr th {\n",
       "        vertical-align: top;\n",
       "    }\n",
       "\n",
       "    .dataframe thead th {\n",
       "        text-align: right;\n",
       "    }\n",
       "</style>\n",
       "<table border=\"1\" class=\"dataframe\">\n",
       "  <thead>\n",
       "    <tr style=\"text-align: right;\">\n",
       "      <th></th>\n",
       "      <th>purchase_count</th>\n",
       "      <th>source</th>\n",
       "      <th>target</th>\n",
       "      <th>user</th>\n",
       "    </tr>\n",
       "  </thead>\n",
       "  <tbody>\n",
       "    <tr>\n",
       "      <th>0</th>\n",
       "      <td>1</td>\n",
       "      <td>1. $1.99</td>\n",
       "      <td>2. $0.99</td>\n",
       "      <td>21</td>\n",
       "    </tr>\n",
       "    <tr>\n",
       "      <th>1</th>\n",
       "      <td>1</td>\n",
       "      <td>1. $9.99</td>\n",
       "      <td>NaN</td>\n",
       "      <td>11</td>\n",
       "    </tr>\n",
       "    <tr>\n",
       "      <th>2</th>\n",
       "      <td>1</td>\n",
       "      <td>1. $1.99</td>\n",
       "      <td>NaN</td>\n",
       "      <td>33</td>\n",
       "    </tr>\n",
       "    <tr>\n",
       "      <th>3</th>\n",
       "      <td>1</td>\n",
       "      <td>1. $19.99</td>\n",
       "      <td>2. $9.99</td>\n",
       "      <td>1</td>\n",
       "    </tr>\n",
       "    <tr>\n",
       "      <th>4</th>\n",
       "      <td>1</td>\n",
       "      <td>1. $0.99</td>\n",
       "      <td>2. $1.99</td>\n",
       "      <td>8</td>\n",
       "    </tr>\n",
       "  </tbody>\n",
       "</table>\n",
       "</div>"
      ],
      "text/plain": [
       "   purchase_count     source    target  user\n",
       "0               1   1. $1.99  2. $0.99    21\n",
       "1               1   1. $9.99       NaN    11\n",
       "2               1   1. $1.99       NaN    33\n",
       "3               1  1. $19.99  2. $9.99     1\n",
       "4               1   1. $0.99  2. $1.99     8"
      ]
     },
     "execution_count": 6,
     "metadata": {},
     "output_type": "execute_result"
    }
   ],
   "source": [
    "df = pd.read_csv('data/purchase.csv')\n",
    "df = df[(df['purchase_count']>0)&(df['purchase_count']<=5)]\n",
    "# df.dropna(inplace=True)\n",
    "# df['user_choice_pct'] = df.apply(lambda x: x['times'] / df.groupby(['source'])['times'].sum()[x['source']], axis=1)\n",
    "df.head()"
   ]
  },
  {
   "cell_type": "code",
   "execution_count": 17,
   "metadata": {},
   "outputs": [
    {
     "data": {
      "text/html": [
       "<div>\n",
       "<style scoped>\n",
       "    .dataframe tbody tr th:only-of-type {\n",
       "        vertical-align: middle;\n",
       "    }\n",
       "\n",
       "    .dataframe tbody tr th {\n",
       "        vertical-align: top;\n",
       "    }\n",
       "\n",
       "    .dataframe thead th {\n",
       "        text-align: right;\n",
       "    }\n",
       "</style>\n",
       "<table border=\"1\" class=\"dataframe\">\n",
       "  <thead>\n",
       "    <tr style=\"text-align: right;\">\n",
       "      <th></th>\n",
       "      <th>purchase_count</th>\n",
       "      <th>source</th>\n",
       "      <th>target</th>\n",
       "      <th>user</th>\n",
       "    </tr>\n",
       "  </thead>\n",
       "  <tbody>\n",
       "    <tr>\n",
       "      <th>0</th>\n",
       "      <td>1</td>\n",
       "      <td>1. $1.99</td>\n",
       "      <td>2. $0.99</td>\n",
       "      <td>21</td>\n",
       "    </tr>\n",
       "    <tr>\n",
       "      <th>3</th>\n",
       "      <td>1</td>\n",
       "      <td>1. $19.99</td>\n",
       "      <td>2. $9.99</td>\n",
       "      <td>1</td>\n",
       "    </tr>\n",
       "    <tr>\n",
       "      <th>4</th>\n",
       "      <td>1</td>\n",
       "      <td>1. $0.99</td>\n",
       "      <td>2. $1.99</td>\n",
       "      <td>8</td>\n",
       "    </tr>\n",
       "    <tr>\n",
       "      <th>5</th>\n",
       "      <td>1</td>\n",
       "      <td>1. $4.99</td>\n",
       "      <td>2. $1.99</td>\n",
       "      <td>3</td>\n",
       "    </tr>\n",
       "    <tr>\n",
       "      <th>6</th>\n",
       "      <td>1</td>\n",
       "      <td>1. $9.99</td>\n",
       "      <td>2. $6.99</td>\n",
       "      <td>3</td>\n",
       "    </tr>\n",
       "  </tbody>\n",
       "</table>\n",
       "</div>"
      ],
      "text/plain": [
       "   purchase_count     source    target  user\n",
       "0               1   1. $1.99  2. $0.99    21\n",
       "3               1  1. $19.99  2. $9.99     1\n",
       "4               1   1. $0.99  2. $1.99     8\n",
       "5               1   1. $4.99  2. $1.99     3\n",
       "6               1   1. $9.99  2. $6.99     3"
      ]
     },
     "execution_count": 17,
     "metadata": {},
     "output_type": "execute_result"
    }
   ],
   "source": [
    "df = pd.read_csv('./data/purchase.csv')\n",
    "df = df[(df['purchase_count']<=1)]\n",
    "# df['target'].fillna('EXIT', inplace=True)\n",
    "df = df.dropna()\n",
    "# df = df.sort_values(\"user\", ascending=True)\n",
    "# df['pct'] = df.apply(lambda x: x['user'] / df.groupby(['source'])['user'].sum()[x['source']], axis=1)\n",
    "df.head()"
   ]
  },
  {
   "cell_type": "code",
   "execution_count": 18,
   "metadata": {},
   "outputs": [
    {
     "data": {
      "application/vnd.plotly.v1+json": {
       "config": {
        "plotlyServerURL": "https://plot.ly"
       },
       "data": [
        {
         "link": {
          "color": [
           "#782AB6",
           "#1CBE4F",
           "#85660D",
           "#FE00FA",
           "#FE00FA",
           "#FE00FA",
           "#782AB6",
           "#FEAF16",
           "#782AB6",
           "#2ED9FF",
           "#85660D",
           "#782AB6",
           "#FE00FA",
           "#782AB6",
           "#FE00FA",
           "#85660D",
           "#782AB6",
           "#782AB6",
           "#1CBE4F",
           "#90AD1C",
           "#85660D",
           "#2ED9FF",
           "#85660D",
           "#2ED9FF",
           "#FE00FA",
           "#85660D",
           "#2ED9FF",
           "#85660D",
           "#FE00FA",
           "#1CBE4F",
           "#85660D",
           "#85660D",
           "#FE00FA",
           "#2ED9FF",
           "#2ED9FF",
           "#85660D",
           "#85660D"
          ],
          "source": [
           0,
           1,
           2,
           3,
           4,
           4,
           0,
           7,
           0,
           9,
           10,
           0,
           4,
           0,
           3,
           2,
           0,
           0,
           1,
           19,
           2,
           9,
           2,
           9,
           4,
           2,
           9,
           2,
           3,
           1,
           2,
           2,
           4,
           9,
           9,
           10,
           10
          ],
          "target": [
           37,
           38,
           39,
           39,
           41,
           42,
           39,
           44,
           45,
           37,
           37,
           42,
           37,
           38,
           37,
           38,
           53,
           54,
           37,
           54,
           53,
           45,
           37,
           39,
           45,
           45,
           42,
           44,
           54,
           39,
           42,
           68,
           39,
           38,
           54,
           54,
           44
          ],
          "value": [
           21,
           1,
           8,
           3,
           3,
           3,
           8,
           1,
           15,
           6,
           1,
           2,
           4,
           7,
           2,
           2,
           1,
           3,
           2,
           2,
           1,
           12,
           25,
           3,
           2,
           4,
           1,
           5,
           1,
           2,
           3,
           1,
           2,
           1,
           1,
           1,
           1
          ]
         },
         "node": {
          "color": [
           "#782AB6",
           "#1CBE4F",
           "#85660D",
           "#FE00FA",
           "#FE00FA",
           "#FE00FA",
           "#782AB6",
           "#FEAF16",
           "#782AB6",
           "#2ED9FF",
           "#85660D",
           "#782AB6",
           "#FE00FA",
           "#782AB6",
           "#FE00FA",
           "#85660D",
           "#782AB6",
           "#782AB6",
           "#1CBE4F",
           "#90AD1C",
           "#85660D",
           "#2ED9FF",
           "#85660D",
           "#2ED9FF",
           "#FE00FA",
           "#85660D",
           "#2ED9FF",
           "#85660D",
           "#FE00FA",
           "#1CBE4F",
           "#85660D",
           "#85660D",
           "#FE00FA",
           "#2ED9FF",
           "#2ED9FF",
           "#85660D",
           "#85660D",
           "#1CBE4F",
           "#2ED9FF",
           "#C075A6",
           "#C075A6",
           "#FE00FA",
           "#1CFFCE",
           "#C075A6",
           "#B10DA1",
           "#1CBE4F",
           "#1CBE4F",
           "#1CBE4F",
           "#1CFFCE",
           "#1CBE4F",
           "#2ED9FF",
           "#1CBE4F",
           "#2ED9FF",
           "#C4451C",
           "#16FF32",
           "#1CBE4F",
           "#16FF32",
           "#C4451C",
           "#1CBE4F",
           "#1CBE4F",
           "#C075A6",
           "#1CBE4F",
           "#1CBE4F",
           "#1CFFCE",
           "#B10DA1",
           "#16FF32",
           "#C075A6",
           "#1CFFCE",
           "#16FF32",
           "#C075A6",
           "#2ED9FF",
           "#16FF32",
           "#16FF32",
           "#B10DA1"
          ],
          "label": [
           "1. $1.99",
           "1. $19.99",
           "1. $0.99",
           "1. $4.99",
           "1. $9.99",
           "1. $9.99",
           "1. $1.99",
           "1. $3.99",
           "1. $1.99",
           "1. $2.99",
           "1. $0.39",
           "1. $1.99",
           "1. $9.99",
           "1. $1.99",
           "1. $4.99",
           "1. $0.99",
           "1. $1.99",
           "1. $1.99",
           "1. $19.99",
           "1. $6.99",
           "1. $0.99",
           "1. $2.99",
           "1. $0.99",
           "1. $2.99",
           "1. $9.99",
           "1. $0.99",
           "1. $2.99",
           "1. $0.99",
           "1. $4.99",
           "1. $19.99",
           "1. $0.99",
           "1. $0.99",
           "1. $9.99",
           "1. $2.99",
           "1. $2.99",
           "1. $0.39",
           "1. $0.39",
           "2. $0.99",
           "2. $9.99",
           "2. $1.99",
           "2. $1.99",
           "2. $6.99",
           "2. $4.99",
           "2. $1.99",
           "2. $0.39",
           "2. $2.99",
           "2. $0.99",
           "2. $0.99",
           "2. $4.99",
           "2. $0.99",
           "2. $9.99",
           "2. $0.99",
           "2. $9.99",
           "2. $7.99",
           "2. $19.99",
           "2. $0.99",
           "2. $19.99",
           "2. $7.99",
           "2. $2.99",
           "2. $0.99",
           "2. $1.99",
           "2. $2.99",
           "2. $2.99",
           "2. $4.99",
           "2. $0.39",
           "2. $19.99",
           "2. $1.99",
           "2. $4.99",
           "2. $49.99",
           "2. $1.99",
           "2. $9.99",
           "2. $19.99",
           "2. $19.99",
           "2. $0.39"
          ],
          "line": {
           "color": "black",
           "width": 1
          },
          "pad": 20,
          "thickness": 20
         },
         "type": "sankey"
        }
       ],
       "layout": {
        "font": {
         "color": "white",
         "size": 10
        },
        "height": 1000,
        "paper_bgcolor": "grey",
        "plot_bgcolor": "rgba(0,0,0,0)",
        "template": {
         "data": {
          "bar": [
           {
            "error_x": {
             "color": "#2a3f5f"
            },
            "error_y": {
             "color": "#2a3f5f"
            },
            "marker": {
             "line": {
              "color": "#E5ECF6",
              "width": 0.5
             },
             "pattern": {
              "fillmode": "overlay",
              "size": 10,
              "solidity": 0.2
             }
            },
            "type": "bar"
           }
          ],
          "barpolar": [
           {
            "marker": {
             "line": {
              "color": "#E5ECF6",
              "width": 0.5
             },
             "pattern": {
              "fillmode": "overlay",
              "size": 10,
              "solidity": 0.2
             }
            },
            "type": "barpolar"
           }
          ],
          "carpet": [
           {
            "aaxis": {
             "endlinecolor": "#2a3f5f",
             "gridcolor": "white",
             "linecolor": "white",
             "minorgridcolor": "white",
             "startlinecolor": "#2a3f5f"
            },
            "baxis": {
             "endlinecolor": "#2a3f5f",
             "gridcolor": "white",
             "linecolor": "white",
             "minorgridcolor": "white",
             "startlinecolor": "#2a3f5f"
            },
            "type": "carpet"
           }
          ],
          "choropleth": [
           {
            "colorbar": {
             "outlinewidth": 0,
             "ticks": ""
            },
            "type": "choropleth"
           }
          ],
          "contour": [
           {
            "colorbar": {
             "outlinewidth": 0,
             "ticks": ""
            },
            "colorscale": [
             [
              0,
              "#0d0887"
             ],
             [
              0.1111111111111111,
              "#46039f"
             ],
             [
              0.2222222222222222,
              "#7201a8"
             ],
             [
              0.3333333333333333,
              "#9c179e"
             ],
             [
              0.4444444444444444,
              "#bd3786"
             ],
             [
              0.5555555555555556,
              "#d8576b"
             ],
             [
              0.6666666666666666,
              "#ed7953"
             ],
             [
              0.7777777777777778,
              "#fb9f3a"
             ],
             [
              0.8888888888888888,
              "#fdca26"
             ],
             [
              1,
              "#f0f921"
             ]
            ],
            "type": "contour"
           }
          ],
          "contourcarpet": [
           {
            "colorbar": {
             "outlinewidth": 0,
             "ticks": ""
            },
            "type": "contourcarpet"
           }
          ],
          "heatmap": [
           {
            "colorbar": {
             "outlinewidth": 0,
             "ticks": ""
            },
            "colorscale": [
             [
              0,
              "#0d0887"
             ],
             [
              0.1111111111111111,
              "#46039f"
             ],
             [
              0.2222222222222222,
              "#7201a8"
             ],
             [
              0.3333333333333333,
              "#9c179e"
             ],
             [
              0.4444444444444444,
              "#bd3786"
             ],
             [
              0.5555555555555556,
              "#d8576b"
             ],
             [
              0.6666666666666666,
              "#ed7953"
             ],
             [
              0.7777777777777778,
              "#fb9f3a"
             ],
             [
              0.8888888888888888,
              "#fdca26"
             ],
             [
              1,
              "#f0f921"
             ]
            ],
            "type": "heatmap"
           }
          ],
          "heatmapgl": [
           {
            "colorbar": {
             "outlinewidth": 0,
             "ticks": ""
            },
            "colorscale": [
             [
              0,
              "#0d0887"
             ],
             [
              0.1111111111111111,
              "#46039f"
             ],
             [
              0.2222222222222222,
              "#7201a8"
             ],
             [
              0.3333333333333333,
              "#9c179e"
             ],
             [
              0.4444444444444444,
              "#bd3786"
             ],
             [
              0.5555555555555556,
              "#d8576b"
             ],
             [
              0.6666666666666666,
              "#ed7953"
             ],
             [
              0.7777777777777778,
              "#fb9f3a"
             ],
             [
              0.8888888888888888,
              "#fdca26"
             ],
             [
              1,
              "#f0f921"
             ]
            ],
            "type": "heatmapgl"
           }
          ],
          "histogram": [
           {
            "marker": {
             "pattern": {
              "fillmode": "overlay",
              "size": 10,
              "solidity": 0.2
             }
            },
            "type": "histogram"
           }
          ],
          "histogram2d": [
           {
            "colorbar": {
             "outlinewidth": 0,
             "ticks": ""
            },
            "colorscale": [
             [
              0,
              "#0d0887"
             ],
             [
              0.1111111111111111,
              "#46039f"
             ],
             [
              0.2222222222222222,
              "#7201a8"
             ],
             [
              0.3333333333333333,
              "#9c179e"
             ],
             [
              0.4444444444444444,
              "#bd3786"
             ],
             [
              0.5555555555555556,
              "#d8576b"
             ],
             [
              0.6666666666666666,
              "#ed7953"
             ],
             [
              0.7777777777777778,
              "#fb9f3a"
             ],
             [
              0.8888888888888888,
              "#fdca26"
             ],
             [
              1,
              "#f0f921"
             ]
            ],
            "type": "histogram2d"
           }
          ],
          "histogram2dcontour": [
           {
            "colorbar": {
             "outlinewidth": 0,
             "ticks": ""
            },
            "colorscale": [
             [
              0,
              "#0d0887"
             ],
             [
              0.1111111111111111,
              "#46039f"
             ],
             [
              0.2222222222222222,
              "#7201a8"
             ],
             [
              0.3333333333333333,
              "#9c179e"
             ],
             [
              0.4444444444444444,
              "#bd3786"
             ],
             [
              0.5555555555555556,
              "#d8576b"
             ],
             [
              0.6666666666666666,
              "#ed7953"
             ],
             [
              0.7777777777777778,
              "#fb9f3a"
             ],
             [
              0.8888888888888888,
              "#fdca26"
             ],
             [
              1,
              "#f0f921"
             ]
            ],
            "type": "histogram2dcontour"
           }
          ],
          "mesh3d": [
           {
            "colorbar": {
             "outlinewidth": 0,
             "ticks": ""
            },
            "type": "mesh3d"
           }
          ],
          "parcoords": [
           {
            "line": {
             "colorbar": {
              "outlinewidth": 0,
              "ticks": ""
             }
            },
            "type": "parcoords"
           }
          ],
          "pie": [
           {
            "automargin": true,
            "type": "pie"
           }
          ],
          "scatter": [
           {
            "fillpattern": {
             "fillmode": "overlay",
             "size": 10,
             "solidity": 0.2
            },
            "type": "scatter"
           }
          ],
          "scatter3d": [
           {
            "line": {
             "colorbar": {
              "outlinewidth": 0,
              "ticks": ""
             }
            },
            "marker": {
             "colorbar": {
              "outlinewidth": 0,
              "ticks": ""
             }
            },
            "type": "scatter3d"
           }
          ],
          "scattercarpet": [
           {
            "marker": {
             "colorbar": {
              "outlinewidth": 0,
              "ticks": ""
             }
            },
            "type": "scattercarpet"
           }
          ],
          "scattergeo": [
           {
            "marker": {
             "colorbar": {
              "outlinewidth": 0,
              "ticks": ""
             }
            },
            "type": "scattergeo"
           }
          ],
          "scattergl": [
           {
            "marker": {
             "colorbar": {
              "outlinewidth": 0,
              "ticks": ""
             }
            },
            "type": "scattergl"
           }
          ],
          "scattermapbox": [
           {
            "marker": {
             "colorbar": {
              "outlinewidth": 0,
              "ticks": ""
             }
            },
            "type": "scattermapbox"
           }
          ],
          "scatterpolar": [
           {
            "marker": {
             "colorbar": {
              "outlinewidth": 0,
              "ticks": ""
             }
            },
            "type": "scatterpolar"
           }
          ],
          "scatterpolargl": [
           {
            "marker": {
             "colorbar": {
              "outlinewidth": 0,
              "ticks": ""
             }
            },
            "type": "scatterpolargl"
           }
          ],
          "scatterternary": [
           {
            "marker": {
             "colorbar": {
              "outlinewidth": 0,
              "ticks": ""
             }
            },
            "type": "scatterternary"
           }
          ],
          "surface": [
           {
            "colorbar": {
             "outlinewidth": 0,
             "ticks": ""
            },
            "colorscale": [
             [
              0,
              "#0d0887"
             ],
             [
              0.1111111111111111,
              "#46039f"
             ],
             [
              0.2222222222222222,
              "#7201a8"
             ],
             [
              0.3333333333333333,
              "#9c179e"
             ],
             [
              0.4444444444444444,
              "#bd3786"
             ],
             [
              0.5555555555555556,
              "#d8576b"
             ],
             [
              0.6666666666666666,
              "#ed7953"
             ],
             [
              0.7777777777777778,
              "#fb9f3a"
             ],
             [
              0.8888888888888888,
              "#fdca26"
             ],
             [
              1,
              "#f0f921"
             ]
            ],
            "type": "surface"
           }
          ],
          "table": [
           {
            "cells": {
             "fill": {
              "color": "#EBF0F8"
             },
             "line": {
              "color": "white"
             }
            },
            "header": {
             "fill": {
              "color": "#C8D4E3"
             },
             "line": {
              "color": "white"
             }
            },
            "type": "table"
           }
          ]
         },
         "layout": {
          "annotationdefaults": {
           "arrowcolor": "#2a3f5f",
           "arrowhead": 0,
           "arrowwidth": 1
          },
          "autotypenumbers": "strict",
          "coloraxis": {
           "colorbar": {
            "outlinewidth": 0,
            "ticks": ""
           }
          },
          "colorscale": {
           "diverging": [
            [
             0,
             "#8e0152"
            ],
            [
             0.1,
             "#c51b7d"
            ],
            [
             0.2,
             "#de77ae"
            ],
            [
             0.3,
             "#f1b6da"
            ],
            [
             0.4,
             "#fde0ef"
            ],
            [
             0.5,
             "#f7f7f7"
            ],
            [
             0.6,
             "#e6f5d0"
            ],
            [
             0.7,
             "#b8e186"
            ],
            [
             0.8,
             "#7fbc41"
            ],
            [
             0.9,
             "#4d9221"
            ],
            [
             1,
             "#276419"
            ]
           ],
           "sequential": [
            [
             0,
             "#0d0887"
            ],
            [
             0.1111111111111111,
             "#46039f"
            ],
            [
             0.2222222222222222,
             "#7201a8"
            ],
            [
             0.3333333333333333,
             "#9c179e"
            ],
            [
             0.4444444444444444,
             "#bd3786"
            ],
            [
             0.5555555555555556,
             "#d8576b"
            ],
            [
             0.6666666666666666,
             "#ed7953"
            ],
            [
             0.7777777777777778,
             "#fb9f3a"
            ],
            [
             0.8888888888888888,
             "#fdca26"
            ],
            [
             1,
             "#f0f921"
            ]
           ],
           "sequentialminus": [
            [
             0,
             "#0d0887"
            ],
            [
             0.1111111111111111,
             "#46039f"
            ],
            [
             0.2222222222222222,
             "#7201a8"
            ],
            [
             0.3333333333333333,
             "#9c179e"
            ],
            [
             0.4444444444444444,
             "#bd3786"
            ],
            [
             0.5555555555555556,
             "#d8576b"
            ],
            [
             0.6666666666666666,
             "#ed7953"
            ],
            [
             0.7777777777777778,
             "#fb9f3a"
            ],
            [
             0.8888888888888888,
             "#fdca26"
            ],
            [
             1,
             "#f0f921"
            ]
           ]
          },
          "colorway": [
           "#636efa",
           "#EF553B",
           "#00cc96",
           "#ab63fa",
           "#FFA15A",
           "#19d3f3",
           "#FF6692",
           "#B6E880",
           "#FF97FF",
           "#FECB52"
          ],
          "font": {
           "color": "#2a3f5f"
          },
          "geo": {
           "bgcolor": "white",
           "lakecolor": "white",
           "landcolor": "#E5ECF6",
           "showlakes": true,
           "showland": true,
           "subunitcolor": "white"
          },
          "hoverlabel": {
           "align": "left"
          },
          "hovermode": "closest",
          "mapbox": {
           "style": "light"
          },
          "paper_bgcolor": "white",
          "plot_bgcolor": "#E5ECF6",
          "polar": {
           "angularaxis": {
            "gridcolor": "white",
            "linecolor": "white",
            "ticks": ""
           },
           "bgcolor": "#E5ECF6",
           "radialaxis": {
            "gridcolor": "white",
            "linecolor": "white",
            "ticks": ""
           }
          },
          "scene": {
           "xaxis": {
            "backgroundcolor": "#E5ECF6",
            "gridcolor": "white",
            "gridwidth": 2,
            "linecolor": "white",
            "showbackground": true,
            "ticks": "",
            "zerolinecolor": "white"
           },
           "yaxis": {
            "backgroundcolor": "#E5ECF6",
            "gridcolor": "white",
            "gridwidth": 2,
            "linecolor": "white",
            "showbackground": true,
            "ticks": "",
            "zerolinecolor": "white"
           },
           "zaxis": {
            "backgroundcolor": "#E5ECF6",
            "gridcolor": "white",
            "gridwidth": 2,
            "linecolor": "white",
            "showbackground": true,
            "ticks": "",
            "zerolinecolor": "white"
           }
          },
          "shapedefaults": {
           "line": {
            "color": "#2a3f5f"
           }
          },
          "ternary": {
           "aaxis": {
            "gridcolor": "white",
            "linecolor": "white",
            "ticks": ""
           },
           "baxis": {
            "gridcolor": "white",
            "linecolor": "white",
            "ticks": ""
           },
           "bgcolor": "#E5ECF6",
           "caxis": {
            "gridcolor": "white",
            "linecolor": "white",
            "ticks": ""
           }
          },
          "title": {
           "x": 0.05
          },
          "xaxis": {
           "automargin": true,
           "gridcolor": "white",
           "linecolor": "white",
           "ticks": "",
           "title": {
            "standoff": 15
           },
           "zerolinecolor": "white",
           "zerolinewidth": 2
          },
          "yaxis": {
           "automargin": true,
           "gridcolor": "white",
           "linecolor": "white",
           "ticks": "",
           "title": {
            "standoff": 15
           },
           "zerolinecolor": "white",
           "zerolinewidth": 2
          }
         }
        },
        "title": {
         "text": "User journry stage 1"
        }
       }
      }
     },
     "metadata": {},
     "output_type": "display_data"
    }
   ],
   "source": [
    "all_nodes = df.source.values.tolist() + df.target.values.tolist()\n",
    "\n",
    "source_indices = [all_nodes.index(source) for source in df.source]\n",
    "target_indices = [all_nodes.index(target) for target in df.target]\n",
    "\n",
    "colors = px.colors.qualitative.Alphabet\n",
    "\n",
    "node_colors_mappings = dict([(node, np.random.choice(colors)) for node in all_nodes])\n",
    "\n",
    "node_colors = [node_colors_mappings[node] for node in all_nodes]\n",
    "edge_colors = [node_colors_mappings[node] for node in df.source]\n",
    "\n",
    "fig = go.Figure(data=[\n",
    "    go.Sankey(\n",
    "        node=dict(pad=20,\n",
    "                  thickness=20,\n",
    "                  line=dict(color='black', width=1.0),\n",
    "                  label=all_nodes,\n",
    "                  color=node_colors),\n",
    "        link=dict(source=source_indices,\n",
    "                  target=target_indices,\n",
    "                  value=df.user,\n",
    "                  color=edge_colors)\n",
    "    )\n",
    "])\n",
    "\n",
    "fig.update_layout(title_text=\"User journry stage 1\",\n",
    "                  height=1000,\n",
    "                  font=dict(size=10, color='white'),\n",
    "                  plot_bgcolor='rgba(0,0,0,0)',\n",
    "                  paper_bgcolor='grey')\n",
    "\n",
    "fig.show()"
   ]
  },
  {
   "cell_type": "code",
   "execution_count": 27,
   "metadata": {},
   "outputs": [
    {
     "data": {
      "text/plain": [
       "<module '_plotly_utils.colors.qualitative' from 'C:\\\\Users\\\\hungd\\\\AppData\\\\Roaming\\\\Python\\\\Python310\\\\site-packages\\\\_plotly_utils\\\\colors\\\\qualitative.py'>"
      ]
     },
     "execution_count": 27,
     "metadata": {},
     "output_type": "execute_result"
    }
   ],
   "source": [
    "{\"event_id\":\"client_get_ingame_item\",\"id\":\"86350896-2c0c-45bc-b9bc-92d429792c58\",\"user_id\":\"ced39b0d-bb99-4450-b3f5-2420457b5d29\",\"device_id\":\"xxxx\",\"adid\":\"xxxx\",\"login_count\":10,\"ts\":1697003755006,\"day\":25661010,\"register_ts\":1696460105,\"os\":\"ANDROID\",\"client_version\":1052,\"spt\":517280,\"total_spt\":11237471,\"ab_test_segment\":\"8C\",\"level\":12,\"exp\":13331,\"lifetime_spend\":0,\"purchase_count\":0,\"paid_gold\":60000,\"free_gold\":482126,\"free_gem\":640,\"gem\":970,\"tracker_name\":\"Unattributed\",\"network\":\"Unattributed\",\"campaign\":\"\",\"adgroup\":\"\",\"creative\":\"\",\"locale\":\"Thai\",\"timezone_offset\":7,\"os_version\":\"13\",\"paid_gem\":1780,\"gold\":2626,\"stage\":1000003,\"game_type\":\"Normal\",\"game_session_id\":\"8193d0b3-9174-4ede-b78a-f5e6121239da\",\"game_level\":13,\"session_time\":305,\"game_exp\":757,\"hp\":965,\"active_skill\":\"{\"1110009\":3,\"1120010\":2,\"1120002\":4,\"1120000\":1,\"1120005\":1}\",\"passive_skill\":\"{\"1130005\":1,\"1130002\":3,\"1130007\":1,\"1130006\":2,\"1130001\":1,\"1130000\":1}\",\"type\":\"Use\",\"item_type\":\"None\",\"earn_gold\":0,\"context_id\":\"1697003744075 651ded49392579ff6ee267fb 12\"}"
   ]
  }
 ],
 "metadata": {
  "kernelspec": {
   "display_name": "Python 3",
   "language": "python",
   "name": "python3"
  },
  "language_info": {
   "codemirror_mode": {
    "name": "ipython",
    "version": 3
   },
   "file_extension": ".py",
   "mimetype": "text/x-python",
   "name": "python",
   "nbconvert_exporter": "python",
   "pygments_lexer": "ipython3",
   "version": "3.10.0"
  },
  "orig_nbformat": 4
 },
 "nbformat": 4,
 "nbformat_minor": 2
}
