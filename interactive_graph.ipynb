{
 "cells": [
  {
   "cell_type": "code",
   "execution_count": 1,
   "metadata": {},
   "outputs": [],
   "source": [
    "from pyvis import network as net\n",
    "from IPython.display import display, HTML\n",
    "import pandas as pd\n",
    "import numpy as np\n",
    "import plotly.graph_objs as go\n",
    "import plotly.express as px"
   ]
  },
  {
   "cell_type": "code",
   "execution_count": 2,
   "metadata": {},
   "outputs": [],
   "source": [
    "def create_funnel_graph(df, chart_title='Funnel graph', source='source', target='target', value='user'):\n",
    "    all_nodes = df[source].values.tolist() + df[target].values.tolist()\n",
    "\n",
    "    source_indices = [all_nodes.index(source) for source in df[source]]\n",
    "    target_indices = [all_nodes.index(target) for target in df[target]]\n",
    "\n",
    "    colors = px.colors.qualitative.Plotly\n",
    "\n",
    "    node_colors_mappings = dict([(node, np.random.choice(colors)) for node in all_nodes])\n",
    "\n",
    "    node_colors = [node_colors_mappings[node] for node in all_nodes]\n",
    "    edge_colors = [node_colors_mappings[node] for node in df[source]]\n",
    "\n",
    "    fig = go.Figure(data=[\n",
    "        go.Sankey(\n",
    "            node=dict(pad=20,\n",
    "                    thickness=20,\n",
    "                    line=dict(color='black', width=1.0),\n",
    "                    label=all_nodes,\n",
    "                    color=node_colors),\n",
    "            link=dict(source=source_indices,\n",
    "                    target=target_indices,\n",
    "                    value=df[value],\n",
    "                    color=edge_colors)\n",
    "        )\n",
    "    ])\n",
    "\n",
    "    fig.update_layout(title_text=chart_title,\n",
    "                    height=1000,\n",
    "                    font=dict(size=10, color='white'),\n",
    "                    plot_bgcolor='rgba(0,0,0,0)',\n",
    "                    paper_bgcolor='grey')\n",
    "\n",
    "    return fig\n"
   ]
  },
  {
   "cell_type": "markdown",
   "metadata": {},
   "source": [
    "# First play action"
   ]
  },
  {
   "cell_type": "code",
   "execution_count": 3,
   "metadata": {},
   "outputs": [
    {
     "data": {
      "application/vnd.plotly.v1+json": {
       "config": {
        "plotlyServerURL": "https://plot.ly"
       },
       "data": [
        {
         "link": {
          "color": [
           "#FFA15A",
           "#FFA15A",
           "#FFA15A",
           "#FFA15A",
           "#FFA15A",
           "#FFA15A",
           "#FFA15A",
           "#FFA15A",
           "#FFA15A",
           "#FFA15A",
           "#FFA15A",
           "#AB63FA",
           "#AB63FA",
           "#AB63FA",
           "#AB63FA",
           "#AB63FA",
           "#FF6692",
           "#FF6692",
           "#FF6692",
           "#FF6692",
           "#19D3F3",
           "#19D3F3",
           "#19D3F3",
           "#19D3F3",
           "#19D3F3",
           "#AB63FA",
           "#AB63FA",
           "#FFA15A",
           "#FFA15A",
           "#FECB52",
           "#FECB52"
          ],
          "source": [
           0,
           0,
           0,
           0,
           0,
           0,
           6,
           7,
           7,
           7,
           7,
           11,
           11,
           11,
           11,
           11,
           16,
           16,
           16,
           16,
           20,
           20,
           20,
           23,
           23,
           25,
           25,
           27,
           27,
           29,
           29
          ],
          "target": [
           31,
           11,
           23,
           25,
           27,
           29,
           31,
           31,
           6,
           16,
           20,
           31,
           6,
           7,
           16,
           20,
           31,
           6,
           7,
           20,
           31,
           6,
           7,
           31,
           11,
           31,
           11,
           31,
           11,
           31,
           11
          ],
          "value": [
           18.5,
           13.4,
           18.4,
           9.3,
           20.5,
           19.8,
           58.9,
           0.6,
           5.6,
           0.2,
           1.5,
           6.8,
           24.5,
           2.6,
           28.7,
           13.4,
           5.3,
           3.6,
           0.7,
           19.3,
           4.1,
           25.2,
           4.6,
           3.4,
           16.1,
           1.6,
           7.9,
           3.4,
           19.1,
           0.7,
           19.1
          ]
         },
         "node": {
          "color": [
           "#FFA15A",
           "#FFA15A",
           "#FFA15A",
           "#FFA15A",
           "#FFA15A",
           "#FFA15A",
           "#FFA15A",
           "#FFA15A",
           "#FFA15A",
           "#FFA15A",
           "#FFA15A",
           "#AB63FA",
           "#AB63FA",
           "#AB63FA",
           "#AB63FA",
           "#AB63FA",
           "#FF6692",
           "#FF6692",
           "#FF6692",
           "#FF6692",
           "#19D3F3",
           "#19D3F3",
           "#19D3F3",
           "#19D3F3",
           "#19D3F3",
           "#AB63FA",
           "#AB63FA",
           "#FFA15A",
           "#FFA15A",
           "#FECB52",
           "#FECB52",
           "#19D3F3",
           "#AB63FA",
           "#19D3F3",
           "#AB63FA",
           "#FFA15A",
           "#FECB52",
           "#19D3F3",
           "#19D3F3",
           "#FFA15A",
           "#FF6692",
           "#19D3F3",
           "#19D3F3",
           "#FFA15A",
           "#FFA15A",
           "#FF6692",
           "#19D3F3",
           "#19D3F3",
           "#FFA15A",
           "#FFA15A",
           "#19D3F3",
           "#19D3F3",
           "#FFA15A",
           "#FFA15A",
           "#19D3F3",
           "#AB63FA",
           "#19D3F3",
           "#AB63FA",
           "#19D3F3",
           "#AB63FA",
           "#19D3F3",
           "#AB63FA"
          ],
          "label": [
           "client_enter_game-2",
           "client_enter_game-2",
           "client_enter_game-2",
           "client_enter_game-2",
           "client_enter_game-2",
           "client_enter_game-2",
           "client_enter_game-3",
           "client_enter_shop-2",
           "client_enter_shop-2",
           "client_enter_shop-2",
           "client_enter_shop-2",
           "client_lobby-2",
           "client_lobby-2",
           "client_lobby-2",
           "client_lobby-2",
           "client_lobby-2",
           "client_tutorial-2",
           "client_tutorial-2",
           "client_tutorial-2",
           "client_tutorial-2",
           "earn_resource-2",
           "earn_resource-2",
           "earn_resource-2",
           "stage_end-lose_180->360",
           "stage_end-lose_180->360",
           "stage_end-lose_360->540",
           "stage_end-lose_360->540",
           "stage_end-lose_<=180",
           "stage_end-lose_<=180",
           "stage_end-won",
           "stage_end-won",
           "Churn",
           "client_lobby-2",
           "stage_end-lose_180->360",
           "stage_end-lose_360->540",
           "stage_end-lose_<=180",
           "stage_end-won",
           "Churn",
           "Churn",
           "client_enter_game-3",
           "client_tutorial-2",
           "earn_resource-2",
           "Churn",
           "client_enter_game-3",
           "client_enter_shop-2",
           "client_tutorial-2",
           "earn_resource-2",
           "Churn",
           "client_enter_game-3",
           "client_enter_shop-2",
           "earn_resource-2",
           "Churn",
           "client_enter_game-3",
           "client_enter_shop-2",
           "Churn",
           "client_lobby-2",
           "Churn",
           "client_lobby-2",
           "Churn",
           "client_lobby-2",
           "Churn",
           "client_lobby-2"
          ],
          "line": {
           "color": "black",
           "width": 1
          },
          "pad": 20,
          "thickness": 20
         },
         "type": "sankey"
        }
       ],
       "layout": {
        "font": {
         "color": "white",
         "size": 10
        },
        "height": 1000,
        "paper_bgcolor": "grey",
        "plot_bgcolor": "rgba(0,0,0,0)",
        "template": {
         "data": {
          "bar": [
           {
            "error_x": {
             "color": "#2a3f5f"
            },
            "error_y": {
             "color": "#2a3f5f"
            },
            "marker": {
             "line": {
              "color": "#E5ECF6",
              "width": 0.5
             },
             "pattern": {
              "fillmode": "overlay",
              "size": 10,
              "solidity": 0.2
             }
            },
            "type": "bar"
           }
          ],
          "barpolar": [
           {
            "marker": {
             "line": {
              "color": "#E5ECF6",
              "width": 0.5
             },
             "pattern": {
              "fillmode": "overlay",
              "size": 10,
              "solidity": 0.2
             }
            },
            "type": "barpolar"
           }
          ],
          "carpet": [
           {
            "aaxis": {
             "endlinecolor": "#2a3f5f",
             "gridcolor": "white",
             "linecolor": "white",
             "minorgridcolor": "white",
             "startlinecolor": "#2a3f5f"
            },
            "baxis": {
             "endlinecolor": "#2a3f5f",
             "gridcolor": "white",
             "linecolor": "white",
             "minorgridcolor": "white",
             "startlinecolor": "#2a3f5f"
            },
            "type": "carpet"
           }
          ],
          "choropleth": [
           {
            "colorbar": {
             "outlinewidth": 0,
             "ticks": ""
            },
            "type": "choropleth"
           }
          ],
          "contour": [
           {
            "colorbar": {
             "outlinewidth": 0,
             "ticks": ""
            },
            "colorscale": [
             [
              0,
              "#0d0887"
             ],
             [
              0.1111111111111111,
              "#46039f"
             ],
             [
              0.2222222222222222,
              "#7201a8"
             ],
             [
              0.3333333333333333,
              "#9c179e"
             ],
             [
              0.4444444444444444,
              "#bd3786"
             ],
             [
              0.5555555555555556,
              "#d8576b"
             ],
             [
              0.6666666666666666,
              "#ed7953"
             ],
             [
              0.7777777777777778,
              "#fb9f3a"
             ],
             [
              0.8888888888888888,
              "#fdca26"
             ],
             [
              1,
              "#f0f921"
             ]
            ],
            "type": "contour"
           }
          ],
          "contourcarpet": [
           {
            "colorbar": {
             "outlinewidth": 0,
             "ticks": ""
            },
            "type": "contourcarpet"
           }
          ],
          "heatmap": [
           {
            "colorbar": {
             "outlinewidth": 0,
             "ticks": ""
            },
            "colorscale": [
             [
              0,
              "#0d0887"
             ],
             [
              0.1111111111111111,
              "#46039f"
             ],
             [
              0.2222222222222222,
              "#7201a8"
             ],
             [
              0.3333333333333333,
              "#9c179e"
             ],
             [
              0.4444444444444444,
              "#bd3786"
             ],
             [
              0.5555555555555556,
              "#d8576b"
             ],
             [
              0.6666666666666666,
              "#ed7953"
             ],
             [
              0.7777777777777778,
              "#fb9f3a"
             ],
             [
              0.8888888888888888,
              "#fdca26"
             ],
             [
              1,
              "#f0f921"
             ]
            ],
            "type": "heatmap"
           }
          ],
          "heatmapgl": [
           {
            "colorbar": {
             "outlinewidth": 0,
             "ticks": ""
            },
            "colorscale": [
             [
              0,
              "#0d0887"
             ],
             [
              0.1111111111111111,
              "#46039f"
             ],
             [
              0.2222222222222222,
              "#7201a8"
             ],
             [
              0.3333333333333333,
              "#9c179e"
             ],
             [
              0.4444444444444444,
              "#bd3786"
             ],
             [
              0.5555555555555556,
              "#d8576b"
             ],
             [
              0.6666666666666666,
              "#ed7953"
             ],
             [
              0.7777777777777778,
              "#fb9f3a"
             ],
             [
              0.8888888888888888,
              "#fdca26"
             ],
             [
              1,
              "#f0f921"
             ]
            ],
            "type": "heatmapgl"
           }
          ],
          "histogram": [
           {
            "marker": {
             "pattern": {
              "fillmode": "overlay",
              "size": 10,
              "solidity": 0.2
             }
            },
            "type": "histogram"
           }
          ],
          "histogram2d": [
           {
            "colorbar": {
             "outlinewidth": 0,
             "ticks": ""
            },
            "colorscale": [
             [
              0,
              "#0d0887"
             ],
             [
              0.1111111111111111,
              "#46039f"
             ],
             [
              0.2222222222222222,
              "#7201a8"
             ],
             [
              0.3333333333333333,
              "#9c179e"
             ],
             [
              0.4444444444444444,
              "#bd3786"
             ],
             [
              0.5555555555555556,
              "#d8576b"
             ],
             [
              0.6666666666666666,
              "#ed7953"
             ],
             [
              0.7777777777777778,
              "#fb9f3a"
             ],
             [
              0.8888888888888888,
              "#fdca26"
             ],
             [
              1,
              "#f0f921"
             ]
            ],
            "type": "histogram2d"
           }
          ],
          "histogram2dcontour": [
           {
            "colorbar": {
             "outlinewidth": 0,
             "ticks": ""
            },
            "colorscale": [
             [
              0,
              "#0d0887"
             ],
             [
              0.1111111111111111,
              "#46039f"
             ],
             [
              0.2222222222222222,
              "#7201a8"
             ],
             [
              0.3333333333333333,
              "#9c179e"
             ],
             [
              0.4444444444444444,
              "#bd3786"
             ],
             [
              0.5555555555555556,
              "#d8576b"
             ],
             [
              0.6666666666666666,
              "#ed7953"
             ],
             [
              0.7777777777777778,
              "#fb9f3a"
             ],
             [
              0.8888888888888888,
              "#fdca26"
             ],
             [
              1,
              "#f0f921"
             ]
            ],
            "type": "histogram2dcontour"
           }
          ],
          "mesh3d": [
           {
            "colorbar": {
             "outlinewidth": 0,
             "ticks": ""
            },
            "type": "mesh3d"
           }
          ],
          "parcoords": [
           {
            "line": {
             "colorbar": {
              "outlinewidth": 0,
              "ticks": ""
             }
            },
            "type": "parcoords"
           }
          ],
          "pie": [
           {
            "automargin": true,
            "type": "pie"
           }
          ],
          "scatter": [
           {
            "fillpattern": {
             "fillmode": "overlay",
             "size": 10,
             "solidity": 0.2
            },
            "type": "scatter"
           }
          ],
          "scatter3d": [
           {
            "line": {
             "colorbar": {
              "outlinewidth": 0,
              "ticks": ""
             }
            },
            "marker": {
             "colorbar": {
              "outlinewidth": 0,
              "ticks": ""
             }
            },
            "type": "scatter3d"
           }
          ],
          "scattercarpet": [
           {
            "marker": {
             "colorbar": {
              "outlinewidth": 0,
              "ticks": ""
             }
            },
            "type": "scattercarpet"
           }
          ],
          "scattergeo": [
           {
            "marker": {
             "colorbar": {
              "outlinewidth": 0,
              "ticks": ""
             }
            },
            "type": "scattergeo"
           }
          ],
          "scattergl": [
           {
            "marker": {
             "colorbar": {
              "outlinewidth": 0,
              "ticks": ""
             }
            },
            "type": "scattergl"
           }
          ],
          "scattermapbox": [
           {
            "marker": {
             "colorbar": {
              "outlinewidth": 0,
              "ticks": ""
             }
            },
            "type": "scattermapbox"
           }
          ],
          "scatterpolar": [
           {
            "marker": {
             "colorbar": {
              "outlinewidth": 0,
              "ticks": ""
             }
            },
            "type": "scatterpolar"
           }
          ],
          "scatterpolargl": [
           {
            "marker": {
             "colorbar": {
              "outlinewidth": 0,
              "ticks": ""
             }
            },
            "type": "scatterpolargl"
           }
          ],
          "scatterternary": [
           {
            "marker": {
             "colorbar": {
              "outlinewidth": 0,
              "ticks": ""
             }
            },
            "type": "scatterternary"
           }
          ],
          "surface": [
           {
            "colorbar": {
             "outlinewidth": 0,
             "ticks": ""
            },
            "colorscale": [
             [
              0,
              "#0d0887"
             ],
             [
              0.1111111111111111,
              "#46039f"
             ],
             [
              0.2222222222222222,
              "#7201a8"
             ],
             [
              0.3333333333333333,
              "#9c179e"
             ],
             [
              0.4444444444444444,
              "#bd3786"
             ],
             [
              0.5555555555555556,
              "#d8576b"
             ],
             [
              0.6666666666666666,
              "#ed7953"
             ],
             [
              0.7777777777777778,
              "#fb9f3a"
             ],
             [
              0.8888888888888888,
              "#fdca26"
             ],
             [
              1,
              "#f0f921"
             ]
            ],
            "type": "surface"
           }
          ],
          "table": [
           {
            "cells": {
             "fill": {
              "color": "#EBF0F8"
             },
             "line": {
              "color": "white"
             }
            },
            "header": {
             "fill": {
              "color": "#C8D4E3"
             },
             "line": {
              "color": "white"
             }
            },
            "type": "table"
           }
          ]
         },
         "layout": {
          "annotationdefaults": {
           "arrowcolor": "#2a3f5f",
           "arrowhead": 0,
           "arrowwidth": 1
          },
          "autotypenumbers": "strict",
          "coloraxis": {
           "colorbar": {
            "outlinewidth": 0,
            "ticks": ""
           }
          },
          "colorscale": {
           "diverging": [
            [
             0,
             "#8e0152"
            ],
            [
             0.1,
             "#c51b7d"
            ],
            [
             0.2,
             "#de77ae"
            ],
            [
             0.3,
             "#f1b6da"
            ],
            [
             0.4,
             "#fde0ef"
            ],
            [
             0.5,
             "#f7f7f7"
            ],
            [
             0.6,
             "#e6f5d0"
            ],
            [
             0.7,
             "#b8e186"
            ],
            [
             0.8,
             "#7fbc41"
            ],
            [
             0.9,
             "#4d9221"
            ],
            [
             1,
             "#276419"
            ]
           ],
           "sequential": [
            [
             0,
             "#0d0887"
            ],
            [
             0.1111111111111111,
             "#46039f"
            ],
            [
             0.2222222222222222,
             "#7201a8"
            ],
            [
             0.3333333333333333,
             "#9c179e"
            ],
            [
             0.4444444444444444,
             "#bd3786"
            ],
            [
             0.5555555555555556,
             "#d8576b"
            ],
            [
             0.6666666666666666,
             "#ed7953"
            ],
            [
             0.7777777777777778,
             "#fb9f3a"
            ],
            [
             0.8888888888888888,
             "#fdca26"
            ],
            [
             1,
             "#f0f921"
            ]
           ],
           "sequentialminus": [
            [
             0,
             "#0d0887"
            ],
            [
             0.1111111111111111,
             "#46039f"
            ],
            [
             0.2222222222222222,
             "#7201a8"
            ],
            [
             0.3333333333333333,
             "#9c179e"
            ],
            [
             0.4444444444444444,
             "#bd3786"
            ],
            [
             0.5555555555555556,
             "#d8576b"
            ],
            [
             0.6666666666666666,
             "#ed7953"
            ],
            [
             0.7777777777777778,
             "#fb9f3a"
            ],
            [
             0.8888888888888888,
             "#fdca26"
            ],
            [
             1,
             "#f0f921"
            ]
           ]
          },
          "colorway": [
           "#636efa",
           "#EF553B",
           "#00cc96",
           "#ab63fa",
           "#FFA15A",
           "#19d3f3",
           "#FF6692",
           "#B6E880",
           "#FF97FF",
           "#FECB52"
          ],
          "font": {
           "color": "#2a3f5f"
          },
          "geo": {
           "bgcolor": "white",
           "lakecolor": "white",
           "landcolor": "#E5ECF6",
           "showlakes": true,
           "showland": true,
           "subunitcolor": "white"
          },
          "hoverlabel": {
           "align": "left"
          },
          "hovermode": "closest",
          "mapbox": {
           "style": "light"
          },
          "paper_bgcolor": "white",
          "plot_bgcolor": "#E5ECF6",
          "polar": {
           "angularaxis": {
            "gridcolor": "white",
            "linecolor": "white",
            "ticks": ""
           },
           "bgcolor": "#E5ECF6",
           "radialaxis": {
            "gridcolor": "white",
            "linecolor": "white",
            "ticks": ""
           }
          },
          "scene": {
           "xaxis": {
            "backgroundcolor": "#E5ECF6",
            "gridcolor": "white",
            "gridwidth": 2,
            "linecolor": "white",
            "showbackground": true,
            "ticks": "",
            "zerolinecolor": "white"
           },
           "yaxis": {
            "backgroundcolor": "#E5ECF6",
            "gridcolor": "white",
            "gridwidth": 2,
            "linecolor": "white",
            "showbackground": true,
            "ticks": "",
            "zerolinecolor": "white"
           },
           "zaxis": {
            "backgroundcolor": "#E5ECF6",
            "gridcolor": "white",
            "gridwidth": 2,
            "linecolor": "white",
            "showbackground": true,
            "ticks": "",
            "zerolinecolor": "white"
           }
          },
          "shapedefaults": {
           "line": {
            "color": "#2a3f5f"
           }
          },
          "ternary": {
           "aaxis": {
            "gridcolor": "white",
            "linecolor": "white",
            "ticks": ""
           },
           "baxis": {
            "gridcolor": "white",
            "linecolor": "white",
            "ticks": ""
           },
           "bgcolor": "#E5ECF6",
           "caxis": {
            "gridcolor": "white",
            "linecolor": "white",
            "ticks": ""
           }
          },
          "title": {
           "x": 0.05
          },
          "xaxis": {
           "automargin": true,
           "gridcolor": "white",
           "linecolor": "white",
           "ticks": "",
           "title": {
            "standoff": 15
           },
           "zerolinecolor": "white",
           "zerolinewidth": 2
          },
          "yaxis": {
           "automargin": true,
           "gridcolor": "white",
           "linecolor": "white",
           "ticks": "",
           "title": {
            "standoff": 15
           },
           "zerolinecolor": "white",
           "zerolinewidth": 2
          }
         }
        },
        "title": {
         "text": "2nd to 3rd play drop"
        }
       }
      }
     },
     "metadata": {},
     "output_type": "display_data"
    }
   ],
   "source": [
    "df = pd.read_csv('data/2nd_play_short.csv')\n",
    "df = df.dropna()\n",
    "\n",
    "total_user = df[df['source']=='client_enter_game-2']['user'].sum()\n",
    "df = df.groupby(['source', 'target'])['user'].sum().reset_index().rename(columns={0:'user'})\n",
    "df['user'] = df.apply(lambda x: round(x['user'] / total_user * 100, 1), axis=1)\n",
    "\n",
    "fig = create_funnel_graph(df, chart_title='2nd to 3rd play drop')\n",
    "\n",
    "fig.show()"
   ]
  },
  {
   "cell_type": "code",
   "execution_count": 4,
   "metadata": {},
   "outputs": [],
   "source": [
    "fig.write_html(\"./result_graph/9min_drop_play3.html\")"
   ]
  },
  {
   "cell_type": "markdown",
   "metadata": {},
   "source": [
    "# Purchase value graph"
   ]
  },
  {
   "cell_type": "code",
   "execution_count": 5,
   "metadata": {},
   "outputs": [
    {
     "data": {
      "text/html": [
       "<div>\n",
       "<style scoped>\n",
       "    .dataframe tbody tr th:only-of-type {\n",
       "        vertical-align: middle;\n",
       "    }\n",
       "\n",
       "    .dataframe tbody tr th {\n",
       "        vertical-align: top;\n",
       "    }\n",
       "\n",
       "    .dataframe thead th {\n",
       "        text-align: right;\n",
       "    }\n",
       "</style>\n",
       "<table border=\"1\" class=\"dataframe\">\n",
       "  <thead>\n",
       "    <tr style=\"text-align: right;\">\n",
       "      <th></th>\n",
       "      <th>purchase_count</th>\n",
       "      <th>source</th>\n",
       "      <th>target</th>\n",
       "      <th>user</th>\n",
       "    </tr>\n",
       "  </thead>\n",
       "  <tbody>\n",
       "    <tr>\n",
       "      <th>0</th>\n",
       "      <td>1</td>\n",
       "      <td>1. $1.99</td>\n",
       "      <td>2. $0.99</td>\n",
       "      <td>21</td>\n",
       "    </tr>\n",
       "    <tr>\n",
       "      <th>3</th>\n",
       "      <td>1</td>\n",
       "      <td>1. $19.99</td>\n",
       "      <td>2. $9.99</td>\n",
       "      <td>1</td>\n",
       "    </tr>\n",
       "    <tr>\n",
       "      <th>4</th>\n",
       "      <td>1</td>\n",
       "      <td>1. $0.99</td>\n",
       "      <td>2. $1.99</td>\n",
       "      <td>8</td>\n",
       "    </tr>\n",
       "    <tr>\n",
       "      <th>5</th>\n",
       "      <td>1</td>\n",
       "      <td>1. $4.99</td>\n",
       "      <td>2. $1.99</td>\n",
       "      <td>3</td>\n",
       "    </tr>\n",
       "    <tr>\n",
       "      <th>6</th>\n",
       "      <td>1</td>\n",
       "      <td>1. $9.99</td>\n",
       "      <td>2. $6.99</td>\n",
       "      <td>3</td>\n",
       "    </tr>\n",
       "  </tbody>\n",
       "</table>\n",
       "</div>"
      ],
      "text/plain": [
       "   purchase_count     source    target  user\n",
       "0               1   1. $1.99  2. $0.99    21\n",
       "3               1  1. $19.99  2. $9.99     1\n",
       "4               1   1. $0.99  2. $1.99     8\n",
       "5               1   1. $4.99  2. $1.99     3\n",
       "6               1   1. $9.99  2. $6.99     3"
      ]
     },
     "execution_count": 5,
     "metadata": {},
     "output_type": "execute_result"
    }
   ],
   "source": [
    "df_purchase = pd.read_csv('./data/purchase.csv')\n",
    "df_purchase = df_purchase[(df_purchase['purchase_count']<=2)]\n",
    "# df['target'].fillna('EXIT', inplace=True)\n",
    "df_purchase = df_purchase.dropna()\n",
    "# df = df.sort_values(\"user\", ascending=True)\n",
    "# df['pct'] = df.apply(lambda x: x['user'] / df.groupby(['source'])['user'].sum()[x['source']], axis=1)\n",
    "df_purchase.head()"
   ]
  },
  {
   "cell_type": "code",
   "execution_count": 6,
   "metadata": {},
   "outputs": [
    {
     "data": {
      "application/vnd.plotly.v1+json": {
       "config": {
        "plotlyServerURL": "https://plot.ly"
       },
       "data": [
        {
         "link": {
          "color": [
           "#00CC96",
           "#636EFA",
           "#AB63FA",
           "#19D3F3",
           "#FF6692",
           "#FF6692",
           "#00CC96",
           "#FF97FF",
           "#00CC96",
           "#FFA15A",
           "#EF553B",
           "#00CC96",
           "#FF6692",
           "#00CC96",
           "#19D3F3",
           "#AB63FA",
           "#00CC96",
           "#00CC96",
           "#636EFA",
           "#AB63FA",
           "#AB63FA",
           "#FFA15A",
           "#AB63FA",
           "#FFA15A",
           "#FF6692",
           "#AB63FA",
           "#FFA15A",
           "#AB63FA",
           "#19D3F3",
           "#636EFA",
           "#AB63FA",
           "#AB63FA",
           "#FF6692",
           "#FFA15A",
           "#FFA15A",
           "#EF553B",
           "#EF553B",
           "#FF6692",
           "#FF6692",
           "#19D3F3",
           "#19D3F3",
           "#FF97FF",
           "#636EFA",
           "#FECB52",
           "#AB63FA",
           "#AB63FA",
           "#19D3F3",
           "#636EFA",
           "#FFA15A",
           "#00CC96",
           "#FFA15A",
           "#EF553B",
           "#00CC96",
           "#AB63FA",
           "#19D3F3",
           "#19D3F3",
           "#FF6692",
           "#FF6692",
           "#19D3F3",
           "#FFA15A",
           "#FFA15A",
           "#EF553B",
           "#19D3F3",
           "#00CC96",
           "#FFA15A",
           "#636EFA",
           "#636EFA",
           "#636EFA",
           "#AB63FA",
           "#FF97FF",
           "#FF6692",
           "#19D3F3"
          ],
          "source": [
           0,
           1,
           2,
           3,
           4,
           4,
           0,
           7,
           0,
           9,
           10,
           0,
           4,
           0,
           3,
           2,
           0,
           0,
           1,
           19,
           2,
           9,
           2,
           9,
           4,
           2,
           9,
           2,
           3,
           1,
           2,
           2,
           4,
           9,
           9,
           10,
           10,
           37,
           37,
           39,
           39,
           41,
           42,
           43,
           44,
           44,
           39,
           47,
           48,
           49,
           48,
           51,
           49,
           44,
           39,
           39,
           37,
           37,
           39,
           48,
           48,
           51,
           39,
           49,
           48,
           47,
           42,
           42,
           44,
           41,
           37,
           39
          ],
          "target": [
           39,
           44,
           48,
           48,
           42,
           51,
           48,
           41,
           37,
           39,
           39,
           51,
           39,
           44,
           39,
           44,
           47,
           49,
           39,
           49,
           47,
           37,
           39,
           48,
           37,
           37,
           51,
           41,
           49,
           48,
           51,
           43,
           48,
           44,
           49,
           49,
           41,
           109,
           110,
           111,
           112,
           112,
           110,
           110,
           116,
           117,
           118,
           118,
           111,
           121,
           122,
           111,
           109,
           112,
           109,
           110,
           112,
           129,
           122,
           109,
           129,
           112,
           121,
           111,
           112,
           116,
           112,
           122,
           122,
           118,
           118,
           143
          ],
          "value": [
           21,
           1,
           8,
           3,
           3,
           3,
           8,
           1,
           15,
           6,
           1,
           2,
           4,
           7,
           2,
           2,
           1,
           3,
           2,
           2,
           1,
           12,
           25,
           3,
           2,
           4,
           1,
           5,
           1,
           2,
           3,
           1,
           2,
           1,
           1,
           1,
           1,
           5,
           1,
           1,
           9,
           3,
           1,
           1,
           1,
           1,
           3,
           1,
           2,
           1,
           2,
           1,
           3,
           4,
           5,
           1,
           12,
           1,
           6,
           4,
           3,
           2,
           1,
           1,
           5,
           1,
           1,
           1,
           1,
           1,
           1,
           1
          ]
         },
         "node": {
          "color": [
           "#00CC96",
           "#636EFA",
           "#AB63FA",
           "#19D3F3",
           "#FF6692",
           "#FF6692",
           "#00CC96",
           "#FF97FF",
           "#00CC96",
           "#FFA15A",
           "#EF553B",
           "#00CC96",
           "#FF6692",
           "#00CC96",
           "#19D3F3",
           "#AB63FA",
           "#00CC96",
           "#00CC96",
           "#636EFA",
           "#AB63FA",
           "#AB63FA",
           "#FFA15A",
           "#AB63FA",
           "#FFA15A",
           "#FF6692",
           "#AB63FA",
           "#FFA15A",
           "#AB63FA",
           "#19D3F3",
           "#636EFA",
           "#AB63FA",
           "#AB63FA",
           "#FF6692",
           "#FFA15A",
           "#FFA15A",
           "#EF553B",
           "#EF553B",
           "#FF6692",
           "#FF6692",
           "#19D3F3",
           "#19D3F3",
           "#FF97FF",
           "#636EFA",
           "#FECB52",
           "#AB63FA",
           "#AB63FA",
           "#19D3F3",
           "#636EFA",
           "#FFA15A",
           "#00CC96",
           "#FFA15A",
           "#EF553B",
           "#00CC96",
           "#AB63FA",
           "#19D3F3",
           "#19D3F3",
           "#FF6692",
           "#FF6692",
           "#19D3F3",
           "#FFA15A",
           "#FFA15A",
           "#EF553B",
           "#19D3F3",
           "#00CC96",
           "#FFA15A",
           "#636EFA",
           "#636EFA",
           "#636EFA",
           "#AB63FA",
           "#FF97FF",
           "#FF6692",
           "#19D3F3",
           "#19D3F3",
           "#AB63FA",
           "#FFA15A",
           "#FFA15A",
           "#636EFA",
           "#EF553B",
           "#FFA15A",
           "#FF97FF",
           "#FF6692",
           "#19D3F3",
           "#19D3F3",
           "#EF553B",
           "#19D3F3",
           "#AB63FA",
           "#19D3F3",
           "#AB63FA",
           "#636EFA",
           "#00CC96",
           "#19D3F3",
           "#00CC96",
           "#636EFA",
           "#FF6692",
           "#19D3F3",
           "#FFA15A",
           "#FF6692",
           "#FF6692",
           "#EF553B",
           "#FF97FF",
           "#00CC96",
           "#FFA15A",
           "#EF553B",
           "#FECB52",
           "#FFA15A",
           "#AB63FA",
           "#00CC96",
           "#00CC96",
           "#FF97FF",
           "#AB63FA",
           "#EF553B",
           "#B6E880",
           "#00CC96",
           "#00CC96",
           "#EF553B",
           "#EF553B",
           "#FF6692",
           "#FF6692",
           "#636EFA",
           "#636EFA",
           "#B6E880",
           "#EF553B",
           "#FECB52",
           "#B6E880",
           "#AB63FA",
           "#00CC96",
           "#AB63FA",
           "#EF553B",
           "#00CC96",
           "#FF97FF",
           "#FECB52",
           "#AB63FA",
           "#FF97FF",
           "#00CC96",
           "#EF553B",
           "#B6E880",
           "#00CC96",
           "#FF6692",
           "#00CC96",
           "#FECB52",
           "#FECB52",
           "#636EFA",
           "#636EFA",
           "#FECB52"
          ],
          "label": [
           "1. $1.99",
           "1. $19.99",
           "1. $0.99",
           "1. $4.99",
           "1. $9.99",
           "1. $9.99",
           "1. $1.99",
           "1. $3.99",
           "1. $1.99",
           "1. $2.99",
           "1. $0.39",
           "1. $1.99",
           "1. $9.99",
           "1. $1.99",
           "1. $4.99",
           "1. $0.99",
           "1. $1.99",
           "1. $1.99",
           "1. $19.99",
           "1. $6.99",
           "1. $0.99",
           "1. $2.99",
           "1. $0.99",
           "1. $2.99",
           "1. $9.99",
           "1. $0.99",
           "1. $2.99",
           "1. $0.99",
           "1. $4.99",
           "1. $19.99",
           "1. $0.99",
           "1. $0.99",
           "1. $9.99",
           "1. $2.99",
           "1. $2.99",
           "1. $0.39",
           "1. $0.39",
           "2. $2.99",
           "2. $2.99",
           "2. $0.99",
           "2. $0.99",
           "2. $0.39",
           "2. $6.99",
           "2. $49.99",
           "2. $9.99",
           "2. $9.99",
           "2. $0.99",
           "2. $7.99",
           "2. $1.99",
           "2. $19.99",
           "2. $1.99",
           "2. $4.99",
           "2. $19.99",
           "2. $9.99",
           "2. $0.99",
           "2. $0.99",
           "2. $2.99",
           "2. $2.99",
           "2. $0.99",
           "2. $1.99",
           "2. $1.99",
           "2. $4.99",
           "2. $0.99",
           "2. $19.99",
           "2. $1.99",
           "2. $7.99",
           "2. $6.99",
           "2. $6.99",
           "2. $9.99",
           "2. $0.39",
           "2. $2.99",
           "2. $0.99",
           "2. $0.99",
           "2. $9.99",
           "2. $1.99",
           "2. $1.99",
           "2. $6.99",
           "2. $4.99",
           "2. $1.99",
           "2. $0.39",
           "2. $2.99",
           "2. $0.99",
           "2. $0.99",
           "2. $4.99",
           "2. $0.99",
           "2. $9.99",
           "2. $0.99",
           "2. $9.99",
           "2. $7.99",
           "2. $19.99",
           "2. $0.99",
           "2. $19.99",
           "2. $7.99",
           "2. $2.99",
           "2. $0.99",
           "2. $1.99",
           "2. $2.99",
           "2. $2.99",
           "2. $4.99",
           "2. $0.39",
           "2. $19.99",
           "2. $1.99",
           "2. $4.99",
           "2. $49.99",
           "2. $1.99",
           "2. $9.99",
           "2. $19.99",
           "2. $19.99",
           "2. $0.39",
           "3. $2.99",
           "3. $19.99",
           "3. $9.99",
           "3. $0.99",
           "3. $0.99",
           "3. $19.99",
           "3. $19.99",
           "3. $6.99",
           "3. $14.99",
           "3. $0.39",
           "3. $0.39",
           "3. $9.99",
           "3. $7.99",
           "3. $4.99",
           "3. $9.99",
           "3. $2.99",
           "3. $0.99",
           "3. $2.99",
           "3. $19.99",
           "3. $0.99",
           "3. $1.99",
           "3. $4.99",
           "3. $2.99",
           "3. $1.99",
           "3. $0.99",
           "3. $7.99",
           "3. $9.99",
           "3. $0.99",
           "3. $6.99",
           "3. $0.99",
           "3. $4.99",
           "3. $4.99",
           "3. $0.39",
           "3. $0.39",
           "3. $3.99"
          ],
          "line": {
           "color": "black",
           "width": 1
          },
          "pad": 20,
          "thickness": 20
         },
         "type": "sankey"
        }
       ],
       "layout": {
        "font": {
         "color": "white",
         "size": 10
        },
        "height": 1000,
        "paper_bgcolor": "grey",
        "plot_bgcolor": "rgba(0,0,0,0)",
        "template": {
         "data": {
          "bar": [
           {
            "error_x": {
             "color": "#2a3f5f"
            },
            "error_y": {
             "color": "#2a3f5f"
            },
            "marker": {
             "line": {
              "color": "#E5ECF6",
              "width": 0.5
             },
             "pattern": {
              "fillmode": "overlay",
              "size": 10,
              "solidity": 0.2
             }
            },
            "type": "bar"
           }
          ],
          "barpolar": [
           {
            "marker": {
             "line": {
              "color": "#E5ECF6",
              "width": 0.5
             },
             "pattern": {
              "fillmode": "overlay",
              "size": 10,
              "solidity": 0.2
             }
            },
            "type": "barpolar"
           }
          ],
          "carpet": [
           {
            "aaxis": {
             "endlinecolor": "#2a3f5f",
             "gridcolor": "white",
             "linecolor": "white",
             "minorgridcolor": "white",
             "startlinecolor": "#2a3f5f"
            },
            "baxis": {
             "endlinecolor": "#2a3f5f",
             "gridcolor": "white",
             "linecolor": "white",
             "minorgridcolor": "white",
             "startlinecolor": "#2a3f5f"
            },
            "type": "carpet"
           }
          ],
          "choropleth": [
           {
            "colorbar": {
             "outlinewidth": 0,
             "ticks": ""
            },
            "type": "choropleth"
           }
          ],
          "contour": [
           {
            "colorbar": {
             "outlinewidth": 0,
             "ticks": ""
            },
            "colorscale": [
             [
              0,
              "#0d0887"
             ],
             [
              0.1111111111111111,
              "#46039f"
             ],
             [
              0.2222222222222222,
              "#7201a8"
             ],
             [
              0.3333333333333333,
              "#9c179e"
             ],
             [
              0.4444444444444444,
              "#bd3786"
             ],
             [
              0.5555555555555556,
              "#d8576b"
             ],
             [
              0.6666666666666666,
              "#ed7953"
             ],
             [
              0.7777777777777778,
              "#fb9f3a"
             ],
             [
              0.8888888888888888,
              "#fdca26"
             ],
             [
              1,
              "#f0f921"
             ]
            ],
            "type": "contour"
           }
          ],
          "contourcarpet": [
           {
            "colorbar": {
             "outlinewidth": 0,
             "ticks": ""
            },
            "type": "contourcarpet"
           }
          ],
          "heatmap": [
           {
            "colorbar": {
             "outlinewidth": 0,
             "ticks": ""
            },
            "colorscale": [
             [
              0,
              "#0d0887"
             ],
             [
              0.1111111111111111,
              "#46039f"
             ],
             [
              0.2222222222222222,
              "#7201a8"
             ],
             [
              0.3333333333333333,
              "#9c179e"
             ],
             [
              0.4444444444444444,
              "#bd3786"
             ],
             [
              0.5555555555555556,
              "#d8576b"
             ],
             [
              0.6666666666666666,
              "#ed7953"
             ],
             [
              0.7777777777777778,
              "#fb9f3a"
             ],
             [
              0.8888888888888888,
              "#fdca26"
             ],
             [
              1,
              "#f0f921"
             ]
            ],
            "type": "heatmap"
           }
          ],
          "heatmapgl": [
           {
            "colorbar": {
             "outlinewidth": 0,
             "ticks": ""
            },
            "colorscale": [
             [
              0,
              "#0d0887"
             ],
             [
              0.1111111111111111,
              "#46039f"
             ],
             [
              0.2222222222222222,
              "#7201a8"
             ],
             [
              0.3333333333333333,
              "#9c179e"
             ],
             [
              0.4444444444444444,
              "#bd3786"
             ],
             [
              0.5555555555555556,
              "#d8576b"
             ],
             [
              0.6666666666666666,
              "#ed7953"
             ],
             [
              0.7777777777777778,
              "#fb9f3a"
             ],
             [
              0.8888888888888888,
              "#fdca26"
             ],
             [
              1,
              "#f0f921"
             ]
            ],
            "type": "heatmapgl"
           }
          ],
          "histogram": [
           {
            "marker": {
             "pattern": {
              "fillmode": "overlay",
              "size": 10,
              "solidity": 0.2
             }
            },
            "type": "histogram"
           }
          ],
          "histogram2d": [
           {
            "colorbar": {
             "outlinewidth": 0,
             "ticks": ""
            },
            "colorscale": [
             [
              0,
              "#0d0887"
             ],
             [
              0.1111111111111111,
              "#46039f"
             ],
             [
              0.2222222222222222,
              "#7201a8"
             ],
             [
              0.3333333333333333,
              "#9c179e"
             ],
             [
              0.4444444444444444,
              "#bd3786"
             ],
             [
              0.5555555555555556,
              "#d8576b"
             ],
             [
              0.6666666666666666,
              "#ed7953"
             ],
             [
              0.7777777777777778,
              "#fb9f3a"
             ],
             [
              0.8888888888888888,
              "#fdca26"
             ],
             [
              1,
              "#f0f921"
             ]
            ],
            "type": "histogram2d"
           }
          ],
          "histogram2dcontour": [
           {
            "colorbar": {
             "outlinewidth": 0,
             "ticks": ""
            },
            "colorscale": [
             [
              0,
              "#0d0887"
             ],
             [
              0.1111111111111111,
              "#46039f"
             ],
             [
              0.2222222222222222,
              "#7201a8"
             ],
             [
              0.3333333333333333,
              "#9c179e"
             ],
             [
              0.4444444444444444,
              "#bd3786"
             ],
             [
              0.5555555555555556,
              "#d8576b"
             ],
             [
              0.6666666666666666,
              "#ed7953"
             ],
             [
              0.7777777777777778,
              "#fb9f3a"
             ],
             [
              0.8888888888888888,
              "#fdca26"
             ],
             [
              1,
              "#f0f921"
             ]
            ],
            "type": "histogram2dcontour"
           }
          ],
          "mesh3d": [
           {
            "colorbar": {
             "outlinewidth": 0,
             "ticks": ""
            },
            "type": "mesh3d"
           }
          ],
          "parcoords": [
           {
            "line": {
             "colorbar": {
              "outlinewidth": 0,
              "ticks": ""
             }
            },
            "type": "parcoords"
           }
          ],
          "pie": [
           {
            "automargin": true,
            "type": "pie"
           }
          ],
          "scatter": [
           {
            "fillpattern": {
             "fillmode": "overlay",
             "size": 10,
             "solidity": 0.2
            },
            "type": "scatter"
           }
          ],
          "scatter3d": [
           {
            "line": {
             "colorbar": {
              "outlinewidth": 0,
              "ticks": ""
             }
            },
            "marker": {
             "colorbar": {
              "outlinewidth": 0,
              "ticks": ""
             }
            },
            "type": "scatter3d"
           }
          ],
          "scattercarpet": [
           {
            "marker": {
             "colorbar": {
              "outlinewidth": 0,
              "ticks": ""
             }
            },
            "type": "scattercarpet"
           }
          ],
          "scattergeo": [
           {
            "marker": {
             "colorbar": {
              "outlinewidth": 0,
              "ticks": ""
             }
            },
            "type": "scattergeo"
           }
          ],
          "scattergl": [
           {
            "marker": {
             "colorbar": {
              "outlinewidth": 0,
              "ticks": ""
             }
            },
            "type": "scattergl"
           }
          ],
          "scattermapbox": [
           {
            "marker": {
             "colorbar": {
              "outlinewidth": 0,
              "ticks": ""
             }
            },
            "type": "scattermapbox"
           }
          ],
          "scatterpolar": [
           {
            "marker": {
             "colorbar": {
              "outlinewidth": 0,
              "ticks": ""
             }
            },
            "type": "scatterpolar"
           }
          ],
          "scatterpolargl": [
           {
            "marker": {
             "colorbar": {
              "outlinewidth": 0,
              "ticks": ""
             }
            },
            "type": "scatterpolargl"
           }
          ],
          "scatterternary": [
           {
            "marker": {
             "colorbar": {
              "outlinewidth": 0,
              "ticks": ""
             }
            },
            "type": "scatterternary"
           }
          ],
          "surface": [
           {
            "colorbar": {
             "outlinewidth": 0,
             "ticks": ""
            },
            "colorscale": [
             [
              0,
              "#0d0887"
             ],
             [
              0.1111111111111111,
              "#46039f"
             ],
             [
              0.2222222222222222,
              "#7201a8"
             ],
             [
              0.3333333333333333,
              "#9c179e"
             ],
             [
              0.4444444444444444,
              "#bd3786"
             ],
             [
              0.5555555555555556,
              "#d8576b"
             ],
             [
              0.6666666666666666,
              "#ed7953"
             ],
             [
              0.7777777777777778,
              "#fb9f3a"
             ],
             [
              0.8888888888888888,
              "#fdca26"
             ],
             [
              1,
              "#f0f921"
             ]
            ],
            "type": "surface"
           }
          ],
          "table": [
           {
            "cells": {
             "fill": {
              "color": "#EBF0F8"
             },
             "line": {
              "color": "white"
             }
            },
            "header": {
             "fill": {
              "color": "#C8D4E3"
             },
             "line": {
              "color": "white"
             }
            },
            "type": "table"
           }
          ]
         },
         "layout": {
          "annotationdefaults": {
           "arrowcolor": "#2a3f5f",
           "arrowhead": 0,
           "arrowwidth": 1
          },
          "autotypenumbers": "strict",
          "coloraxis": {
           "colorbar": {
            "outlinewidth": 0,
            "ticks": ""
           }
          },
          "colorscale": {
           "diverging": [
            [
             0,
             "#8e0152"
            ],
            [
             0.1,
             "#c51b7d"
            ],
            [
             0.2,
             "#de77ae"
            ],
            [
             0.3,
             "#f1b6da"
            ],
            [
             0.4,
             "#fde0ef"
            ],
            [
             0.5,
             "#f7f7f7"
            ],
            [
             0.6,
             "#e6f5d0"
            ],
            [
             0.7,
             "#b8e186"
            ],
            [
             0.8,
             "#7fbc41"
            ],
            [
             0.9,
             "#4d9221"
            ],
            [
             1,
             "#276419"
            ]
           ],
           "sequential": [
            [
             0,
             "#0d0887"
            ],
            [
             0.1111111111111111,
             "#46039f"
            ],
            [
             0.2222222222222222,
             "#7201a8"
            ],
            [
             0.3333333333333333,
             "#9c179e"
            ],
            [
             0.4444444444444444,
             "#bd3786"
            ],
            [
             0.5555555555555556,
             "#d8576b"
            ],
            [
             0.6666666666666666,
             "#ed7953"
            ],
            [
             0.7777777777777778,
             "#fb9f3a"
            ],
            [
             0.8888888888888888,
             "#fdca26"
            ],
            [
             1,
             "#f0f921"
            ]
           ],
           "sequentialminus": [
            [
             0,
             "#0d0887"
            ],
            [
             0.1111111111111111,
             "#46039f"
            ],
            [
             0.2222222222222222,
             "#7201a8"
            ],
            [
             0.3333333333333333,
             "#9c179e"
            ],
            [
             0.4444444444444444,
             "#bd3786"
            ],
            [
             0.5555555555555556,
             "#d8576b"
            ],
            [
             0.6666666666666666,
             "#ed7953"
            ],
            [
             0.7777777777777778,
             "#fb9f3a"
            ],
            [
             0.8888888888888888,
             "#fdca26"
            ],
            [
             1,
             "#f0f921"
            ]
           ]
          },
          "colorway": [
           "#636efa",
           "#EF553B",
           "#00cc96",
           "#ab63fa",
           "#FFA15A",
           "#19d3f3",
           "#FF6692",
           "#B6E880",
           "#FF97FF",
           "#FECB52"
          ],
          "font": {
           "color": "#2a3f5f"
          },
          "geo": {
           "bgcolor": "white",
           "lakecolor": "white",
           "landcolor": "#E5ECF6",
           "showlakes": true,
           "showland": true,
           "subunitcolor": "white"
          },
          "hoverlabel": {
           "align": "left"
          },
          "hovermode": "closest",
          "mapbox": {
           "style": "light"
          },
          "paper_bgcolor": "white",
          "plot_bgcolor": "#E5ECF6",
          "polar": {
           "angularaxis": {
            "gridcolor": "white",
            "linecolor": "white",
            "ticks": ""
           },
           "bgcolor": "#E5ECF6",
           "radialaxis": {
            "gridcolor": "white",
            "linecolor": "white",
            "ticks": ""
           }
          },
          "scene": {
           "xaxis": {
            "backgroundcolor": "#E5ECF6",
            "gridcolor": "white",
            "gridwidth": 2,
            "linecolor": "white",
            "showbackground": true,
            "ticks": "",
            "zerolinecolor": "white"
           },
           "yaxis": {
            "backgroundcolor": "#E5ECF6",
            "gridcolor": "white",
            "gridwidth": 2,
            "linecolor": "white",
            "showbackground": true,
            "ticks": "",
            "zerolinecolor": "white"
           },
           "zaxis": {
            "backgroundcolor": "#E5ECF6",
            "gridcolor": "white",
            "gridwidth": 2,
            "linecolor": "white",
            "showbackground": true,
            "ticks": "",
            "zerolinecolor": "white"
           }
          },
          "shapedefaults": {
           "line": {
            "color": "#2a3f5f"
           }
          },
          "ternary": {
           "aaxis": {
            "gridcolor": "white",
            "linecolor": "white",
            "ticks": ""
           },
           "baxis": {
            "gridcolor": "white",
            "linecolor": "white",
            "ticks": ""
           },
           "bgcolor": "#E5ECF6",
           "caxis": {
            "gridcolor": "white",
            "linecolor": "white",
            "ticks": ""
           }
          },
          "title": {
           "x": 0.05
          },
          "xaxis": {
           "automargin": true,
           "gridcolor": "white",
           "linecolor": "white",
           "ticks": "",
           "title": {
            "standoff": 15
           },
           "zerolinecolor": "white",
           "zerolinewidth": 2
          },
          "yaxis": {
           "automargin": true,
           "gridcolor": "white",
           "linecolor": "white",
           "ticks": "",
           "title": {
            "standoff": 15
           },
           "zerolinecolor": "white",
           "zerolinewidth": 2
          }
         }
        },
        "title": {
         "text": "Purchase funnel graph"
        }
       }
      }
     },
     "metadata": {},
     "output_type": "display_data"
    }
   ],
   "source": [
    "fig = create_funnel_graph(df_purchase, chart_title=\"Purchase funnel graph\")\n",
    "\n",
    "fig.show()"
   ]
  },
  {
   "cell_type": "code",
   "execution_count": null,
   "metadata": {},
   "outputs": [],
   "source": []
  }
 ],
 "metadata": {
  "kernelspec": {
   "display_name": "Python 3",
   "language": "python",
   "name": "python3"
  },
  "language_info": {
   "codemirror_mode": {
    "name": "ipython",
    "version": 3
   },
   "file_extension": ".py",
   "mimetype": "text/x-python",
   "name": "python",
   "nbconvert_exporter": "python",
   "pygments_lexer": "ipython3",
   "version": "3.10.0"
  },
  "orig_nbformat": 4
 },
 "nbformat": 4,
 "nbformat_minor": 2
}
