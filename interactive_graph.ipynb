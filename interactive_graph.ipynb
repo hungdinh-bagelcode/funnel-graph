{
 "cells": [
  {
   "cell_type": "code",
   "execution_count": 1,
   "metadata": {},
   "outputs": [],
   "source": [
    "from pyvis import network as net\n",
    "from IPython.display import display, HTML\n",
    "import pandas as pd\n",
    "import numpy as np\n",
    "import plotly.graph_objs as go\n",
    "import plotly.express as px"
   ]
  },
  {
   "cell_type": "code",
   "execution_count": 2,
   "metadata": {},
   "outputs": [],
   "source": [
    "def create_funnel_graph(df, chart_title='Funnel graph', source='source', target='target', value='user', pct_all='pct_all', pct_source='pct_source'):\n",
    "    all_nodes = df[source].values.tolist() + df[target].values.tolist()\n",
    "\n",
    "    source_indices = [all_nodes.index(source) for source in df[source]]\n",
    "    target_indices = [all_nodes.index(target) for target in df[target]]\n",
    "\n",
    "    colors = px.colors.qualitative.Plotly\n",
    "\n",
    "    node_colors_mappings = dict([(node, np.random.choice(colors)) for node in all_nodes])\n",
    "\n",
    "    node_colors = [node_colors_mappings[node] for node in all_nodes]\n",
    "    edge_colors = [node_colors_mappings[node] for node in df[source]]\n",
    "    \n",
    "    outgoing_count = [len(df[df[source]==node]) for node in all_nodes]\n",
    "    incomming_count = [len(df[df[target]==node]) for node in all_nodes]\n",
    "    pct_all_list = [max(df[df[source]==node][pct_all].sum(), df[df[target]==node][pct_all].sum()) for node in all_nodes]\n",
    "    user_count = [max(df[df[source]==node][value].sum(), df[df[target]==node][value].sum())/1000 for node in all_nodes]\n",
    "    node_data = [[pct_all_list[i], outgoing_count[i], incomming_count[i], user_count[i]] for i in range(len(all_nodes))]\n",
    "    \n",
    "    fig = go.Figure(data=[\n",
    "        go.Sankey(\n",
    "            node=dict(pad=20,\n",
    "                    thickness=20,\n",
    "                    line=dict(color='black', width=1.0),\n",
    "                    label=all_nodes,\n",
    "                    customdata=node_data,\n",
    "                    hovertemplate='%{customdata[0]:.1%} of all user (%{customdata[3]:.2f}k) <br>Outgoing links: %{customdata[1]} <br>Incoming links: %{customdata[2]} <extra></extra>',\n",
    "                    color=node_colors),\n",
    "            link=dict(source=source_indices,\n",
    "                    target=target_indices,\n",
    "                    value=df[value],\n",
    "                    customdata=df[pct_source],\n",
    "                    hovertemplate='%{customdata:.1%} from <b>%{source.label}</b> to <b>%{target.label}</b><extra></extra>',\n",
    "                    color=edge_colors)\n",
    "        )\n",
    "    ])\n",
    "\n",
    "    fig.update_layout(title_text=chart_title,\n",
    "                    height=1000,\n",
    "                    font=dict(size=10, color='white'),\n",
    "                    plot_bgcolor='rgba(0,0,0,0)',\n",
    "                    paper_bgcolor='grey')\n",
    "\n",
    "    return fig\n",
    "\n"
   ]
  },
  {
   "cell_type": "code",
   "execution_count": 5,
   "metadata": {},
   "outputs": [],
   "source": [
    "df = pd.read_csv('data/scs_day0.csv')\n",
    "df['pct_source'] = df.apply(lambda x: x['user'] / df[df['source']==x['source']]['user'].sum(), axis=1)\n",
    "df['pct_all'] = df.apply(lambda x: x['user'] / df[df['source']=='1. login']['user'].sum(), axis=1)\n",
    "df.sort_values(by=['source', 'pct_source'], ascending=[True, False], inplace=True)"
   ]
  },
  {
   "cell_type": "code",
   "execution_count": 6,
   "metadata": {},
   "outputs": [
    {
     "data": {
      "application/vnd.plotly.v1+json": {
       "config": {
        "plotlyServerURL": "https://plot.ly"
       },
       "data": [
        {
         "link": {
          "color": [
           "#FECB52",
           "#FECB52",
           "#FECB52",
           "#FECB52",
           "#FECB52",
           "#FF97FF",
           "#FF97FF",
           "#FF97FF",
           "#FF97FF",
           "#EF553B",
           "#EF553B",
           "#EF553B",
           "#FF97FF",
           "#FF97FF",
           "#FF97FF",
           "#FF97FF",
           "#00CC96",
           "#00CC96",
           "#00CC96",
           "#FF6692",
           "#FF6692",
           "#FF6692",
           "#FF6692",
           "#19D3F3",
           "#19D3F3",
           "#19D3F3",
           "#19D3F3",
           "#19D3F3",
           "#FF97FF",
           "#FF97FF",
           "#FF97FF",
           "#AB63FA",
           "#AB63FA",
           "#FFA15A",
           "#FFA15A"
          ],
          "customdata": [
           0.28040540540540543,
           0.24943693693693694,
           0.22325450450450451,
           0.13992117117117117,
           0.10698198198198199,
           0.9016064257028112,
           0.07931726907630522,
           0.01606425702811245,
           0.0030120481927710845,
           0.8408577878103838,
           0.08916478555304741,
           0.06997742663656885,
           0.7011349306431274,
           0.20933165195460277,
           0.08827238335435057,
           0.0012610340479192938,
           0.9867330016583747,
           0.006633499170812604,
           0.006633499170812604,
           0.7725490196078432,
           0.09131652661064425,
           0.06946778711484594,
           0.06666666666666667,
           0.9105691056910569,
           0.04065040650406504,
           0.016260162601626018,
           0.016260162601626018,
           0.016260162601626018,
           0.4749818709209572,
           0.4010152284263959,
           0.12400290065264685,
           0.6900584795321637,
           0.30994152046783624,
           0.6071428571428571,
           0.39285714285714285
          ],
          "hovertemplate": "%{customdata:.1%} from <b>%{source.label}</b> to <b>%{target.label}</b><extra></extra>",
          "source": [
           0,
           0,
           0,
           0,
           0,
           5,
           5,
           5,
           5,
           9,
           9,
           9,
           12,
           12,
           12,
           12,
           16,
           16,
           16,
           19,
           19,
           19,
           19,
           23,
           23,
           23,
           23,
           23,
           28,
           28,
           28,
           31,
           31,
           33,
           33
          ],
          "target": [
           5,
           9,
           12,
           38,
           39,
           16,
           38,
           39,
           23,
           16,
           39,
           38,
           39,
           16,
           38,
           23,
           19,
           39,
           38,
           28,
           39,
           38,
           23,
           33,
           39,
           39,
           38,
           38,
           38,
           39,
           31,
           38,
           39,
           38,
           39
          ],
          "value": [
           996,
           886,
           793,
           497,
           380,
           898,
           79,
           16,
           3,
           745,
           79,
           62,
           556,
           166,
           70,
           1,
           1785,
           12,
           12,
           1379,
           163,
           124,
           119,
           112,
           5,
           2,
           2,
           2,
           655,
           553,
           171,
           118,
           53,
           68,
           44
          ]
         },
         "node": {
          "color": [
           "#FECB52",
           "#FECB52",
           "#FECB52",
           "#FECB52",
           "#FECB52",
           "#FF97FF",
           "#FF97FF",
           "#FF97FF",
           "#FF97FF",
           "#EF553B",
           "#EF553B",
           "#EF553B",
           "#FF97FF",
           "#FF97FF",
           "#FF97FF",
           "#FF97FF",
           "#00CC96",
           "#00CC96",
           "#00CC96",
           "#FF6692",
           "#FF6692",
           "#FF6692",
           "#FF6692",
           "#19D3F3",
           "#19D3F3",
           "#19D3F3",
           "#19D3F3",
           "#19D3F3",
           "#FF97FF",
           "#FF97FF",
           "#FF97FF",
           "#AB63FA",
           "#AB63FA",
           "#FFA15A",
           "#FFA15A",
           "#FF97FF",
           "#EF553B",
           "#FF97FF",
           "#FF6692",
           "#AB63FA",
           "#00CC96",
           "#FF6692",
           "#AB63FA",
           "#19D3F3",
           "#00CC96",
           "#AB63FA",
           "#FF6692",
           "#AB63FA",
           "#00CC96",
           "#FF6692",
           "#19D3F3",
           "#FF6692",
           "#AB63FA",
           "#FF6692",
           "#FF97FF",
           "#AB63FA",
           "#FF6692",
           "#19D3F3",
           "#FFA15A",
           "#AB63FA",
           "#AB63FA",
           "#FF6692",
           "#FF6692",
           "#FF6692",
           "#AB63FA",
           "#AB63FA",
           "#FF6692",
           "#AB63FA",
           "#FF6692",
           "#AB63FA"
          ],
          "customdata": [
           [
            1,
            5,
            0,
            3.552
           ],
           [
            1,
            5,
            0,
            3.552
           ],
           [
            1,
            5,
            0,
            3.552
           ],
           [
            1,
            5,
            0,
            3.552
           ],
           [
            1,
            5,
            0,
            3.552
           ],
           [
            0.28040540540540543,
            4,
            1,
            0.996
           ],
           [
            0.28040540540540543,
            4,
            1,
            0.996
           ],
           [
            0.28040540540540543,
            4,
            1,
            0.996
           ],
           [
            0.28040540540540543,
            4,
            1,
            0.996
           ],
           [
            0.24943693693693694,
            3,
            1,
            0.886
           ],
           [
            0.24943693693693694,
            3,
            1,
            0.886
           ],
           [
            0.24943693693693694,
            3,
            1,
            0.886
           ],
           [
            0.22325450450450451,
            4,
            1,
            0.793
           ],
           [
            0.22325450450450451,
            4,
            1,
            0.793
           ],
           [
            0.22325450450450451,
            4,
            1,
            0.793
           ],
           [
            0.22325450450450451,
            4,
            1,
            0.793
           ],
           [
            0.5092905405405406,
            3,
            3,
            1.809
           ],
           [
            0.5092905405405406,
            3,
            3,
            1.809
           ],
           [
            0.5092905405405406,
            3,
            3,
            1.809
           ],
           [
            0.5025337837837838,
            4,
            1,
            1.785
           ],
           [
            0.5025337837837838,
            4,
            1,
            1.785
           ],
           [
            0.5025337837837838,
            4,
            1,
            1.785
           ],
           [
            0.5025337837837838,
            4,
            1,
            1.785
           ],
           [
            0.03462837837837838,
            5,
            3,
            0.123
           ],
           [
            0.03462837837837838,
            5,
            3,
            0.123
           ],
           [
            0.03462837837837838,
            5,
            3,
            0.123
           ],
           [
            0.03462837837837838,
            5,
            3,
            0.123
           ],
           [
            0.03462837837837838,
            5,
            3,
            0.123
           ],
           [
            0.388231981981982,
            3,
            1,
            1.379
           ],
           [
            0.388231981981982,
            3,
            1,
            1.379
           ],
           [
            0.388231981981982,
            3,
            1,
            1.379
           ],
           [
            0.04814189189189189,
            2,
            1,
            0.171
           ],
           [
            0.04814189189189189,
            2,
            1,
            0.171
           ],
           [
            0.03153153153153153,
            2,
            1,
            0.112
           ],
           [
            0.03153153153153153,
            2,
            1,
            0.112
           ],
           [
            0.28040540540540543,
            4,
            1,
            0.996
           ],
           [
            0.24943693693693694,
            3,
            1,
            0.886
           ],
           [
            0.22325450450450451,
            4,
            1,
            0.793
           ],
           [
            0.4755067567567568,
            0,
            11,
            1.689
           ],
           [
            0.5244932432432433,
            0,
            11,
            1.863
           ],
           [
            0.5092905405405406,
            3,
            3,
            1.809
           ],
           [
            0.4755067567567568,
            0,
            11,
            1.689
           ],
           [
            0.5244932432432433,
            0,
            11,
            1.863
           ],
           [
            0.03462837837837838,
            5,
            3,
            0.123
           ],
           [
            0.5092905405405406,
            3,
            3,
            1.809
           ],
           [
            0.5244932432432433,
            0,
            11,
            1.863
           ],
           [
            0.4755067567567568,
            0,
            11,
            1.689
           ],
           [
            0.5244932432432433,
            0,
            11,
            1.863
           ],
           [
            0.5092905405405406,
            3,
            3,
            1.809
           ],
           [
            0.4755067567567568,
            0,
            11,
            1.689
           ],
           [
            0.03462837837837838,
            5,
            3,
            0.123
           ],
           [
            0.5025337837837838,
            4,
            1,
            1.785
           ],
           [
            0.5244932432432433,
            0,
            11,
            1.863
           ],
           [
            0.4755067567567568,
            0,
            11,
            1.689
           ],
           [
            0.388231981981982,
            3,
            1,
            1.379
           ],
           [
            0.5244932432432433,
            0,
            11,
            1.863
           ],
           [
            0.4755067567567568,
            0,
            11,
            1.689
           ],
           [
            0.03462837837837838,
            5,
            3,
            0.123
           ],
           [
            0.03153153153153153,
            2,
            1,
            0.112
           ],
           [
            0.5244932432432433,
            0,
            11,
            1.863
           ],
           [
            0.5244932432432433,
            0,
            11,
            1.863
           ],
           [
            0.4755067567567568,
            0,
            11,
            1.689
           ],
           [
            0.4755067567567568,
            0,
            11,
            1.689
           ],
           [
            0.4755067567567568,
            0,
            11,
            1.689
           ],
           [
            0.5244932432432433,
            0,
            11,
            1.863
           ],
           [
            0.04814189189189189,
            2,
            1,
            0.171
           ],
           [
            0.4755067567567568,
            0,
            11,
            1.689
           ],
           [
            0.5244932432432433,
            0,
            11,
            1.863
           ],
           [
            0.4755067567567568,
            0,
            11,
            1.689
           ],
           [
            0.5244932432432433,
            0,
            11,
            1.863
           ]
          ],
          "hovertemplate": "%{customdata[0]:.1%} of all user (%{customdata[3]:.2f}k) <br>Outgoing links: %{customdata[1]} <br>Incoming links: %{customdata[2]} <extra></extra>",
          "label": [
           "1. login",
           "1. login",
           "1. login",
           "1. login",
           "1. login",
           "2. end_game_clear",
           "2. end_game_clear",
           "2. end_game_clear",
           "2. end_game_clear",
           "2. end_game_fail",
           "2. end_game_fail",
           "2. end_game_fail",
           "2. end_game_surrender",
           "2. end_game_surrender",
           "2. end_game_surrender",
           "2. end_game_surrender",
           "3. Shop",
           "3. Shop",
           "3. Shop",
           "4. Equip",
           "4. Equip",
           "4. Equip",
           "4. Equip",
           "5. spend_resource",
           "5. spend_resource",
           "5. spend_resource",
           "5. spend_resource",
           "5. spend_resource",
           "5. start_2nd_game",
           "5. start_2nd_game",
           "5. start_2nd_game",
           "6. spend_resource",
           "6. spend_resource",
           "6. start_2nd_game",
           "6. start_2nd_game",
           "2. end_game_clear",
           "2. end_game_fail",
           "2. end_game_surrender",
           "Not churn",
           "Churn",
           "3. Shop",
           "Not churn",
           "Churn",
           "5. spend_resource",
           "3. Shop",
           "Churn",
           "Not churn",
           "Churn",
           "3. Shop",
           "Not churn",
           "5. spend_resource",
           "4. Equip",
           "Churn",
           "Not churn",
           "5. start_2nd_game",
           "Churn",
           "Not churn",
           "5. spend_resource",
           "6. start_2nd_game",
           "Churn",
           "Churn",
           "Not churn",
           "Not churn",
           "Not churn",
           "Churn",
           "6. spend_resource",
           "Not churn",
           "Churn",
           "Not churn",
           "Churn"
          ],
          "line": {
           "color": "black",
           "width": 1
          },
          "pad": 20,
          "thickness": 20
         },
         "type": "sankey"
        }
       ],
       "layout": {
        "font": {
         "color": "white",
         "size": 10
        },
        "height": 1000,
        "paper_bgcolor": "grey",
        "plot_bgcolor": "rgba(0,0,0,0)",
        "template": {
         "data": {
          "bar": [
           {
            "error_x": {
             "color": "#2a3f5f"
            },
            "error_y": {
             "color": "#2a3f5f"
            },
            "marker": {
             "line": {
              "color": "#E5ECF6",
              "width": 0.5
             },
             "pattern": {
              "fillmode": "overlay",
              "size": 10,
              "solidity": 0.2
             }
            },
            "type": "bar"
           }
          ],
          "barpolar": [
           {
            "marker": {
             "line": {
              "color": "#E5ECF6",
              "width": 0.5
             },
             "pattern": {
              "fillmode": "overlay",
              "size": 10,
              "solidity": 0.2
             }
            },
            "type": "barpolar"
           }
          ],
          "carpet": [
           {
            "aaxis": {
             "endlinecolor": "#2a3f5f",
             "gridcolor": "white",
             "linecolor": "white",
             "minorgridcolor": "white",
             "startlinecolor": "#2a3f5f"
            },
            "baxis": {
             "endlinecolor": "#2a3f5f",
             "gridcolor": "white",
             "linecolor": "white",
             "minorgridcolor": "white",
             "startlinecolor": "#2a3f5f"
            },
            "type": "carpet"
           }
          ],
          "choropleth": [
           {
            "colorbar": {
             "outlinewidth": 0,
             "ticks": ""
            },
            "type": "choropleth"
           }
          ],
          "contour": [
           {
            "colorbar": {
             "outlinewidth": 0,
             "ticks": ""
            },
            "colorscale": [
             [
              0,
              "#0d0887"
             ],
             [
              0.1111111111111111,
              "#46039f"
             ],
             [
              0.2222222222222222,
              "#7201a8"
             ],
             [
              0.3333333333333333,
              "#9c179e"
             ],
             [
              0.4444444444444444,
              "#bd3786"
             ],
             [
              0.5555555555555556,
              "#d8576b"
             ],
             [
              0.6666666666666666,
              "#ed7953"
             ],
             [
              0.7777777777777778,
              "#fb9f3a"
             ],
             [
              0.8888888888888888,
              "#fdca26"
             ],
             [
              1,
              "#f0f921"
             ]
            ],
            "type": "contour"
           }
          ],
          "contourcarpet": [
           {
            "colorbar": {
             "outlinewidth": 0,
             "ticks": ""
            },
            "type": "contourcarpet"
           }
          ],
          "heatmap": [
           {
            "colorbar": {
             "outlinewidth": 0,
             "ticks": ""
            },
            "colorscale": [
             [
              0,
              "#0d0887"
             ],
             [
              0.1111111111111111,
              "#46039f"
             ],
             [
              0.2222222222222222,
              "#7201a8"
             ],
             [
              0.3333333333333333,
              "#9c179e"
             ],
             [
              0.4444444444444444,
              "#bd3786"
             ],
             [
              0.5555555555555556,
              "#d8576b"
             ],
             [
              0.6666666666666666,
              "#ed7953"
             ],
             [
              0.7777777777777778,
              "#fb9f3a"
             ],
             [
              0.8888888888888888,
              "#fdca26"
             ],
             [
              1,
              "#f0f921"
             ]
            ],
            "type": "heatmap"
           }
          ],
          "heatmapgl": [
           {
            "colorbar": {
             "outlinewidth": 0,
             "ticks": ""
            },
            "colorscale": [
             [
              0,
              "#0d0887"
             ],
             [
              0.1111111111111111,
              "#46039f"
             ],
             [
              0.2222222222222222,
              "#7201a8"
             ],
             [
              0.3333333333333333,
              "#9c179e"
             ],
             [
              0.4444444444444444,
              "#bd3786"
             ],
             [
              0.5555555555555556,
              "#d8576b"
             ],
             [
              0.6666666666666666,
              "#ed7953"
             ],
             [
              0.7777777777777778,
              "#fb9f3a"
             ],
             [
              0.8888888888888888,
              "#fdca26"
             ],
             [
              1,
              "#f0f921"
             ]
            ],
            "type": "heatmapgl"
           }
          ],
          "histogram": [
           {
            "marker": {
             "pattern": {
              "fillmode": "overlay",
              "size": 10,
              "solidity": 0.2
             }
            },
            "type": "histogram"
           }
          ],
          "histogram2d": [
           {
            "colorbar": {
             "outlinewidth": 0,
             "ticks": ""
            },
            "colorscale": [
             [
              0,
              "#0d0887"
             ],
             [
              0.1111111111111111,
              "#46039f"
             ],
             [
              0.2222222222222222,
              "#7201a8"
             ],
             [
              0.3333333333333333,
              "#9c179e"
             ],
             [
              0.4444444444444444,
              "#bd3786"
             ],
             [
              0.5555555555555556,
              "#d8576b"
             ],
             [
              0.6666666666666666,
              "#ed7953"
             ],
             [
              0.7777777777777778,
              "#fb9f3a"
             ],
             [
              0.8888888888888888,
              "#fdca26"
             ],
             [
              1,
              "#f0f921"
             ]
            ],
            "type": "histogram2d"
           }
          ],
          "histogram2dcontour": [
           {
            "colorbar": {
             "outlinewidth": 0,
             "ticks": ""
            },
            "colorscale": [
             [
              0,
              "#0d0887"
             ],
             [
              0.1111111111111111,
              "#46039f"
             ],
             [
              0.2222222222222222,
              "#7201a8"
             ],
             [
              0.3333333333333333,
              "#9c179e"
             ],
             [
              0.4444444444444444,
              "#bd3786"
             ],
             [
              0.5555555555555556,
              "#d8576b"
             ],
             [
              0.6666666666666666,
              "#ed7953"
             ],
             [
              0.7777777777777778,
              "#fb9f3a"
             ],
             [
              0.8888888888888888,
              "#fdca26"
             ],
             [
              1,
              "#f0f921"
             ]
            ],
            "type": "histogram2dcontour"
           }
          ],
          "mesh3d": [
           {
            "colorbar": {
             "outlinewidth": 0,
             "ticks": ""
            },
            "type": "mesh3d"
           }
          ],
          "parcoords": [
           {
            "line": {
             "colorbar": {
              "outlinewidth": 0,
              "ticks": ""
             }
            },
            "type": "parcoords"
           }
          ],
          "pie": [
           {
            "automargin": true,
            "type": "pie"
           }
          ],
          "scatter": [
           {
            "fillpattern": {
             "fillmode": "overlay",
             "size": 10,
             "solidity": 0.2
            },
            "type": "scatter"
           }
          ],
          "scatter3d": [
           {
            "line": {
             "colorbar": {
              "outlinewidth": 0,
              "ticks": ""
             }
            },
            "marker": {
             "colorbar": {
              "outlinewidth": 0,
              "ticks": ""
             }
            },
            "type": "scatter3d"
           }
          ],
          "scattercarpet": [
           {
            "marker": {
             "colorbar": {
              "outlinewidth": 0,
              "ticks": ""
             }
            },
            "type": "scattercarpet"
           }
          ],
          "scattergeo": [
           {
            "marker": {
             "colorbar": {
              "outlinewidth": 0,
              "ticks": ""
             }
            },
            "type": "scattergeo"
           }
          ],
          "scattergl": [
           {
            "marker": {
             "colorbar": {
              "outlinewidth": 0,
              "ticks": ""
             }
            },
            "type": "scattergl"
           }
          ],
          "scattermapbox": [
           {
            "marker": {
             "colorbar": {
              "outlinewidth": 0,
              "ticks": ""
             }
            },
            "type": "scattermapbox"
           }
          ],
          "scatterpolar": [
           {
            "marker": {
             "colorbar": {
              "outlinewidth": 0,
              "ticks": ""
             }
            },
            "type": "scatterpolar"
           }
          ],
          "scatterpolargl": [
           {
            "marker": {
             "colorbar": {
              "outlinewidth": 0,
              "ticks": ""
             }
            },
            "type": "scatterpolargl"
           }
          ],
          "scatterternary": [
           {
            "marker": {
             "colorbar": {
              "outlinewidth": 0,
              "ticks": ""
             }
            },
            "type": "scatterternary"
           }
          ],
          "surface": [
           {
            "colorbar": {
             "outlinewidth": 0,
             "ticks": ""
            },
            "colorscale": [
             [
              0,
              "#0d0887"
             ],
             [
              0.1111111111111111,
              "#46039f"
             ],
             [
              0.2222222222222222,
              "#7201a8"
             ],
             [
              0.3333333333333333,
              "#9c179e"
             ],
             [
              0.4444444444444444,
              "#bd3786"
             ],
             [
              0.5555555555555556,
              "#d8576b"
             ],
             [
              0.6666666666666666,
              "#ed7953"
             ],
             [
              0.7777777777777778,
              "#fb9f3a"
             ],
             [
              0.8888888888888888,
              "#fdca26"
             ],
             [
              1,
              "#f0f921"
             ]
            ],
            "type": "surface"
           }
          ],
          "table": [
           {
            "cells": {
             "fill": {
              "color": "#EBF0F8"
             },
             "line": {
              "color": "white"
             }
            },
            "header": {
             "fill": {
              "color": "#C8D4E3"
             },
             "line": {
              "color": "white"
             }
            },
            "type": "table"
           }
          ]
         },
         "layout": {
          "annotationdefaults": {
           "arrowcolor": "#2a3f5f",
           "arrowhead": 0,
           "arrowwidth": 1
          },
          "autotypenumbers": "strict",
          "coloraxis": {
           "colorbar": {
            "outlinewidth": 0,
            "ticks": ""
           }
          },
          "colorscale": {
           "diverging": [
            [
             0,
             "#8e0152"
            ],
            [
             0.1,
             "#c51b7d"
            ],
            [
             0.2,
             "#de77ae"
            ],
            [
             0.3,
             "#f1b6da"
            ],
            [
             0.4,
             "#fde0ef"
            ],
            [
             0.5,
             "#f7f7f7"
            ],
            [
             0.6,
             "#e6f5d0"
            ],
            [
             0.7,
             "#b8e186"
            ],
            [
             0.8,
             "#7fbc41"
            ],
            [
             0.9,
             "#4d9221"
            ],
            [
             1,
             "#276419"
            ]
           ],
           "sequential": [
            [
             0,
             "#0d0887"
            ],
            [
             0.1111111111111111,
             "#46039f"
            ],
            [
             0.2222222222222222,
             "#7201a8"
            ],
            [
             0.3333333333333333,
             "#9c179e"
            ],
            [
             0.4444444444444444,
             "#bd3786"
            ],
            [
             0.5555555555555556,
             "#d8576b"
            ],
            [
             0.6666666666666666,
             "#ed7953"
            ],
            [
             0.7777777777777778,
             "#fb9f3a"
            ],
            [
             0.8888888888888888,
             "#fdca26"
            ],
            [
             1,
             "#f0f921"
            ]
           ],
           "sequentialminus": [
            [
             0,
             "#0d0887"
            ],
            [
             0.1111111111111111,
             "#46039f"
            ],
            [
             0.2222222222222222,
             "#7201a8"
            ],
            [
             0.3333333333333333,
             "#9c179e"
            ],
            [
             0.4444444444444444,
             "#bd3786"
            ],
            [
             0.5555555555555556,
             "#d8576b"
            ],
            [
             0.6666666666666666,
             "#ed7953"
            ],
            [
             0.7777777777777778,
             "#fb9f3a"
            ],
            [
             0.8888888888888888,
             "#fdca26"
            ],
            [
             1,
             "#f0f921"
            ]
           ]
          },
          "colorway": [
           "#636efa",
           "#EF553B",
           "#00cc96",
           "#ab63fa",
           "#FFA15A",
           "#19d3f3",
           "#FF6692",
           "#B6E880",
           "#FF97FF",
           "#FECB52"
          ],
          "font": {
           "color": "#2a3f5f"
          },
          "geo": {
           "bgcolor": "white",
           "lakecolor": "white",
           "landcolor": "#E5ECF6",
           "showlakes": true,
           "showland": true,
           "subunitcolor": "white"
          },
          "hoverlabel": {
           "align": "left"
          },
          "hovermode": "closest",
          "mapbox": {
           "style": "light"
          },
          "paper_bgcolor": "white",
          "plot_bgcolor": "#E5ECF6",
          "polar": {
           "angularaxis": {
            "gridcolor": "white",
            "linecolor": "white",
            "ticks": ""
           },
           "bgcolor": "#E5ECF6",
           "radialaxis": {
            "gridcolor": "white",
            "linecolor": "white",
            "ticks": ""
           }
          },
          "scene": {
           "xaxis": {
            "backgroundcolor": "#E5ECF6",
            "gridcolor": "white",
            "gridwidth": 2,
            "linecolor": "white",
            "showbackground": true,
            "ticks": "",
            "zerolinecolor": "white"
           },
           "yaxis": {
            "backgroundcolor": "#E5ECF6",
            "gridcolor": "white",
            "gridwidth": 2,
            "linecolor": "white",
            "showbackground": true,
            "ticks": "",
            "zerolinecolor": "white"
           },
           "zaxis": {
            "backgroundcolor": "#E5ECF6",
            "gridcolor": "white",
            "gridwidth": 2,
            "linecolor": "white",
            "showbackground": true,
            "ticks": "",
            "zerolinecolor": "white"
           }
          },
          "shapedefaults": {
           "line": {
            "color": "#2a3f5f"
           }
          },
          "ternary": {
           "aaxis": {
            "gridcolor": "white",
            "linecolor": "white",
            "ticks": ""
           },
           "baxis": {
            "gridcolor": "white",
            "linecolor": "white",
            "ticks": ""
           },
           "bgcolor": "#E5ECF6",
           "caxis": {
            "gridcolor": "white",
            "linecolor": "white",
            "ticks": ""
           }
          },
          "title": {
           "x": 0.05
          },
          "xaxis": {
           "automargin": true,
           "gridcolor": "white",
           "linecolor": "white",
           "ticks": "",
           "title": {
            "standoff": 15
           },
           "zerolinecolor": "white",
           "zerolinewidth": 2
          },
          "yaxis": {
           "automargin": true,
           "gridcolor": "white",
           "linecolor": "white",
           "ticks": "",
           "title": {
            "standoff": 15
           },
           "zerolinecolor": "white",
           "zerolinewidth": 2
          }
         }
        },
        "title": {
         "text": "SCS ON Day0 funnel graph"
        }
       }
      }
     },
     "metadata": {},
     "output_type": "display_data"
    }
   ],
   "source": [
    "# df = pd.read_csv('data/scs_stage_1.csv')\n",
    "fig = create_funnel_graph(df, chart_title='SCS ON Day0 funnel graph')\n",
    "\n",
    "fig.show()"
   ]
  },
  {
   "cell_type": "code",
   "execution_count": 111,
   "metadata": {},
   "outputs": [],
   "source": [
    "fig.write_html(\"./result_graph/scs_on_day0_funnel.html\")"
   ]
  },
  {
   "cell_type": "code",
   "execution_count": null,
   "metadata": {},
   "outputs": [],
   "source": []
  }
 ],
 "metadata": {
  "kernelspec": {
   "display_name": "Python 3",
   "language": "python",
   "name": "python3"
  },
  "language_info": {
   "codemirror_mode": {
    "name": "ipython",
    "version": 3
   },
   "file_extension": ".py",
   "mimetype": "text/x-python",
   "name": "python",
   "nbconvert_exporter": "python",
   "pygments_lexer": "ipython3",
   "version": "3.10.0"
  },
  "orig_nbformat": 4
 },
 "nbformat": 4,
 "nbformat_minor": 2
}
